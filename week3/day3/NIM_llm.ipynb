{
 "cells": [
  {
   "cell_type": "code",
   "execution_count": 2,
   "id": "ac88754e",
   "metadata": {},
   "outputs": [
    {
     "data": {
      "text/plain": [
       "ChatNVIDIA(base_url='https://integrate.api.nvidia.com/v1', model='meta/llama-3.1-8b-instruct', temperature=0.0)"
      ]
     },
     "execution_count": 2,
     "metadata": {},
     "output_type": "execute_result"
    }
   ],
   "source": [
    "from langchain_nvidia_ai_endpoints import ChatNVIDIA\n",
    "\n",
    "# base_url = 'http://llama:8000/v1' local에 serving하고 실행시 private agent 가능 \n",
    "model = 'meta/llama-3.1-8b-instruct'\n",
    "llm = ChatNVIDIA(model=model, temperature=0)\n",
    "llm"
   ]
  },
  {
   "cell_type": "markdown",
   "id": "6024615d",
   "metadata": {},
   "source": [
    "### invoke "
   ]
  },
  {
   "cell_type": "code",
   "execution_count": 3,
   "id": "a904036a",
   "metadata": {},
   "outputs": [
    {
     "data": {
      "text/plain": [
       "'I\\'m an artificial intelligence model known as Llama. Llama stands for \"Large Language Model Meta AI.\"'"
      ]
     },
     "execution_count": 3,
     "metadata": {},
     "output_type": "execute_result"
    }
   ],
   "source": [
    "prompt = \"Who are you?\"\n",
    "result = llm.invoke(prompt)\n",
    "result.content"
   ]
  },
  {
   "cell_type": "markdown",
   "id": "0b1b8ca6",
   "metadata": {},
   "source": [
    "### stream"
   ]
  },
  {
   "cell_type": "code",
   "execution_count": 4,
   "id": "8d656ccc",
   "metadata": {},
   "outputs": [
    {
     "name": "stdout",
     "output_type": "stream",
     "text": [
      "I am an artificial intelligence designed to simulate human-like conversations and answer a wide range of questions to the best of my knowledge. I'm a type of language model, specifically a large language model, which means I've been trained on a massive dataset of text from various sources, including books, articles, and online content.\n",
      "\n",
      "My primary function is to assist users by providing information, answering questions, and engaging in discussions. I'm a machine learning model, which means I learn from the data I've been trained on and improve my performance over time. However, I don't have personal experiences, emotions, or consciousness like humans do. I exist solely to provide helpful and accurate responses to your queries.\n",
      "\n",
      "I'm a product of a company called Meta AI, which is a leading research organization in the field of artificial intelligence. My development involved a complex process of training and fine-tuning, where I was exposed to a vast amount of text data and learned to recognize patterns, relationships, and context. This training enables me to generate human-like responses to a wide range of topics and questions.\n",
      "\n",
      "One of the key features of my design is my ability to understand natural language. I can comprehend and respond to questions, statements, and even idioms, which allows me to engage in conversations that feel more like interactions with a human. However, I'm not perfect, and there are limitations to my understanding. I may struggle with nuances, sarcasm, or highly technical topics, but I'm constantly learning and improving.\n",
      "\n",
      "I don't have personal opinions or biases, and I strive to provide neutral and informative responses. My goal is to assist users by providing accurate and helpful information, rather than promoting a particular agenda or perspective. I'm also designed to be respectful and considerate in my interactions, avoiding language that might be perceived as insensitive or hurtful.\n",
      "\n",
      "While I'm a sophisticated language model, I'm not a human. I don't have feelings, emotions, or consciousness, and I don't have the capacity to experience the world in the same way that humans do. My responses are generated through complex algorithms and statistical models, rather than through personal experience or intuition.\n",
      "\n",
      "Despite these limitations, I'm designed to be a valuable resource for users. I can help with a wide range of tasks, from answering simple questions to providing in-depth information on complex topics. I can also assist with language-related tasks, such as language translation, text summarization, and even creative writing.\n",
      "\n",
      "In summary, I'm a highly advanced language model designed to assist users with information and conversation. While I'm not a human, I'm a sophisticated tool that can provide helpful and accurate responses to a wide range of questions and topics. I'm constantly learning and improving, and I'm here to help you with any questions or topics you'd like to discuss."
     ]
    }
   ],
   "source": [
    "prompt = \"Explain who you are in roughly 500 words\"\n",
    "\n",
    "for chunk in llm.stream(prompt):\n",
    "    print(chunk.content, end =\"\")"
   ]
  },
  {
   "cell_type": "markdown",
   "id": "4f28acf2",
   "metadata": {},
   "source": [
    "### batch"
   ]
  },
  {
   "cell_type": "code",
   "execution_count": 5,
   "id": "c116bb2d",
   "metadata": {},
   "outputs": [
    {
     "name": "stdout",
     "output_type": "stream",
     "text": [
      "The capital of California is Sacramento.\n",
      "The capital of Texas is Austin.\n",
      "The capital of New York is Albany.\n",
      "The capital of Florida is Tallahassee.\n",
      "The capital of Illinois is Springfield.\n",
      "The capital of Ohio is Columbus.\n"
     ]
    }
   ],
   "source": [
    "state_capital_questions = [\n",
    "    'What is the capital of California?',\n",
    "    'What is the capital of Texas?',\n",
    "    'What is the capital of New York?',\n",
    "    'What is the capital of Florida?',\n",
    "    'What is the capital of Illinois?',\n",
    "    'What is the capital of Ohio?'\n",
    "]\n",
    "capitals = llm.batch(state_capital_questions)\n",
    "\n",
    "for capital in capitals:\n",
    "    print(capital.content)"
   ]
  },
  {
   "cell_type": "markdown",
   "id": "5be14ec8",
   "metadata": {},
   "source": [
    "### Prompt Templates As Reusable Functionality"
   ]
  },
  {
   "cell_type": "code",
   "execution_count": 7,
   "id": "b51430c5",
   "metadata": {},
   "outputs": [
    {
     "name": "stdout",
     "output_type": "stream",
     "text": [
      "La traducción del texto es:\n",
      "\n",
      "\"Hoy es un buen día.\"\n"
     ]
    }
   ],
   "source": [
    "one_off_prompt = \"Translate the following from English to Spanish: 'Today is a good day.'\"\n",
    "print(llm.invoke(one_off_prompt).content)"
   ]
  },
  {
   "cell_type": "code",
   "execution_count": 8,
   "id": "20242ea7",
   "metadata": {},
   "outputs": [],
   "source": [
    "def translate_from_english_to_korean(eng_statement):\n",
    "    return f\"Translate the following from english to korean. Provide just the translated text: {eng_statement}\"\n",
    "\n",
    "\n",
    "english_statements = [\n",
    "    'Today is a good day.',\n",
    "    'Tomorrow will be even better.',\n",
    "    'Next week, who can say.'\n",
    "]\n",
    "\n",
    "prompts = [translate_from_english_to_korean(english_statement) for english_statement in english_statements]"
   ]
  },
  {
   "cell_type": "code",
   "execution_count": 9,
   "id": "5523b297",
   "metadata": {},
   "outputs": [
    {
     "data": {
      "text/plain": [
       "['Translate the following from english to korean. Provide just the translated text: Today is a good day.',\n",
       " 'Translate the following from english to korean. Provide just the translated text: Tomorrow will be even better.',\n",
       " 'Translate the following from english to korean. Provide just the translated text: Next week, who can say.']"
      ]
     },
     "execution_count": 9,
     "metadata": {},
     "output_type": "execute_result"
    }
   ],
   "source": [
    "prompts"
   ]
  },
  {
   "cell_type": "code",
   "execution_count": 10,
   "id": "791e7a86",
   "metadata": {},
   "outputs": [
    {
     "name": "stdout",
     "output_type": "stream",
     "text": [
      "오늘은 좋은 날입니다.\n",
      "내일은 더 좋을 거야.\n",
      "다음 주는 누구도 말할 수 없다.\n"
     ]
    }
   ],
   "source": [
    "translations = llm.batch(prompts)\n",
    "\n",
    "for translation in translations:\n",
    "    print(translation.content)"
   ]
  },
  {
   "cell_type": "code",
   "execution_count": 11,
   "id": "73983534",
   "metadata": {},
   "outputs": [
    {
     "name": "stdout",
     "output_type": "stream",
     "text": [
      "컴퓨터는 많은 언어를 가지고 있습니다.\n"
     ]
    }
   ],
   "source": [
    "def translate(from_language, to_language, statement):\n",
    "    return f\"Translate the following form {from_language} to {to_language}. Provide only the translated text: {statement}\"\n",
    "\n",
    "print(llm.invoke(translate('English', 'Korean', 'Computers have many languages of their own')).content)"
   ]
  },
  {
   "cell_type": "markdown",
   "id": "e49e670d",
   "metadata": {},
   "source": [
    "### LangChain's `ChatPromptTemplate.from_template`"
   ]
  },
  {
   "cell_type": "code",
   "execution_count": 12,
   "id": "e013e593",
   "metadata": {},
   "outputs": [
    {
     "name": "stdout",
     "output_type": "stream",
     "text": [
      "오늘은 좋은 날입니다.\n"
     ]
    }
   ],
   "source": [
    "from langchain_core.prompts import ChatPromptTemplate\n",
    "\n",
    "english_to_korean_template = ChatPromptTemplate.from_template(\"\"\"Translate the following from English to Korean. \\\n",
    "Provide only the translated text: '{english_statement}'\"\"\")\n",
    "\n",
    "prompt = english_to_korean_template.invoke(\"Today is good day\")\n",
    "print(llm.invoke(prompt).content)"
   ]
  },
  {
   "cell_type": "code",
   "execution_count": 13,
   "id": "aea5c329",
   "metadata": {},
   "outputs": [
    {
     "data": {
      "text/plain": [
       "ChatPromptValue(messages=[HumanMessage(content=\"Translate the following from English to Korean. Provide only the translated text: 'Today is good day'\", additional_kwargs={}, response_metadata={})])"
      ]
     },
     "execution_count": 13,
     "metadata": {},
     "output_type": "execute_result"
    }
   ],
   "source": [
    "prompt"
   ]
  },
  {
   "cell_type": "code",
   "execution_count": 14,
   "id": "05c0b424",
   "metadata": {},
   "outputs": [
    {
     "name": "stdout",
     "output_type": "stream",
     "text": [
      "すごいですね！\n"
     ]
    }
   ],
   "source": [
    "translate_template = ChatPromptTemplate.from_template(\"Translate the following from {from_language} to {to_language}. \\\n",
    "proivde only the translated text: {statement}\")\n",
    "\n",
    "prompt = translate_template.invoke({\n",
    "    \"from_language\": \"English\",\n",
    "    \"to_language\":\"Japenese\",\n",
    "    'statement':\"So Delicious!\"\n",
    "})\n",
    "\n",
    "print(llm.invoke(prompt).content)"
   ]
  },
  {
   "cell_type": "markdown",
   "id": "d047f346",
   "metadata": {},
   "source": [
    "### LangChain `StrOutputParser`"
   ]
  },
  {
   "cell_type": "code",
   "execution_count": 16,
   "id": "cd6165e2",
   "metadata": {},
   "outputs": [],
   "source": [
    "from langchain_core.prompts import ChatPromptTemplate\n",
    "from langchain_core.output_parsers import StrOutputParser\n",
    "from langchain_nvidia_ai_endpoints import ChatNVIDIA\n",
    "\n",
    "llm = ChatNVIDIA(model=model, temperature=0)\n",
    "template = ChatPromptTemplate.from_template(\"\"\"Please translate {from_language} to {to_language}. {context}\n",
    "개행문자는 제거하고 결과만 출력해줘\"\"\")\n",
    "\n",
    "chain = template | llm | StrOutputParser()\n",
    "# print(chain.get_graph().draw_ascii()) 그래프로 chain 구성 확인 가능 \n"
   ]
  },
  {
   "cell_type": "code",
   "execution_count": 17,
   "id": "0adfb5a8",
   "metadata": {},
   "outputs": [
    {
     "data": {
      "text/plain": [
       "'How was your day today?'"
      ]
     },
     "execution_count": 17,
     "metadata": {},
     "output_type": "execute_result"
    }
   ],
   "source": [
    "chain.invoke({\"from_language\": \"Korean\", \"to_language\": \"English\", \"context\": \"안녕 오늘 하루는 어땠어?\"})"
   ]
  },
  {
   "cell_type": "markdown",
   "id": "bb489538",
   "metadata": {},
   "source": [
    "### Runnable Functions"
   ]
  },
  {
   "cell_type": "code",
   "execution_count": 18,
   "id": "d88babcf",
   "metadata": {},
   "outputs": [],
   "source": [
    "from langchain_core.prompts import ChatPromptTemplate\n",
    "from langchain_core.output_parsers import StrOutputParser\n",
    "from langchain_nvidia_ai_endpoints import ChatNVIDIA\n",
    "from langchain_core.runnables import RunnableLambda\n",
    "\n",
    "def double(x):\n",
    "    return x * 2"
   ]
  },
  {
   "cell_type": "code",
   "execution_count": 19,
   "id": "8e72c6a1",
   "metadata": {},
   "outputs": [
    {
     "name": "stdout",
     "output_type": "stream",
     "text": [
      "`double` is a Python function and does not have an `invoke` method.\n"
     ]
    }
   ],
   "source": [
    "try:\n",
    "    double.invoke(2)\n",
    "except Exception as e:\n",
    "    print('`double` is a Python function and does not have an `invoke` method.')"
   ]
  },
  {
   "cell_type": "code",
   "execution_count": 21,
   "id": "d6c6b2e9",
   "metadata": {},
   "outputs": [
    {
     "data": {
      "text/plain": [
       "10"
      ]
     },
     "execution_count": 21,
     "metadata": {},
     "output_type": "execute_result"
    }
   ],
   "source": [
    "runnable_double = RunnableLambda(double) # python function to Runnable \n",
    "runnable_double.invoke(5)"
   ]
  },
  {
   "cell_type": "code",
   "execution_count": 22,
   "id": "2c64f90d",
   "metadata": {},
   "outputs": [
    {
     "data": {
      "text/plain": [
       "[4, 8, 12, 16]"
      ]
     },
     "execution_count": 22,
     "metadata": {},
     "output_type": "execute_result"
    }
   ],
   "source": [
    "runnable_double.batch([2,4,6,8])"
   ]
  },
  {
   "cell_type": "code",
   "execution_count": 24,
   "id": "293dd9db",
   "metadata": {},
   "outputs": [
    {
     "data": {
      "text/plain": [
       "88"
      ]
     },
     "execution_count": 24,
     "metadata": {},
     "output_type": "execute_result"
    }
   ],
   "source": [
    "## Runnable이므로 chain으로 구성하는 것도 가능 \n",
    "multiply_by_eight = runnable_double | runnable_double | runnable_double\n",
    "\n",
    "multiply_by_eight.invoke(11)"
   ]
  },
  {
   "cell_type": "markdown",
   "id": "df7a5079",
   "metadata": {},
   "source": [
    "### Data Processing"
   ]
  },
  {
   "cell_type": "code",
   "execution_count": null,
   "id": "dcf92b51",
   "metadata": {},
   "outputs": [],
   "source": [
    "import re \n",
    "import contractions \n",
    "\n",
    "def normalize_text(text):\n",
    "    text = text.lower()\n",
    "    \n",
    "    # I'm -> I am 등과 같이 변환하기 위해 contractions 라이브러리 활용 \n",
    "    text = contractions.fix(text)\n",
    "    text = re.sub(r\"\\s+\",\" \", text).strip() # re.sub으로 과도한 공백 제거 \n",
    "    \n",
    "    return text "
   ]
  },
  {
   "cell_type": "code",
   "execution_count": 36,
   "id": "be7bf19b",
   "metadata": {},
   "outputs": [
    {
     "data": {
      "text/plain": [
       "['i love this product! it is absolutely amazing.',\n",
       " 'not bad, but could be better. i have seen worse.',\n",
       " 'terrible experience... i am never buying again!!',\n",
       " 'pretty good, is not it? will buy again!',\n",
       " 'excellent value for the money!!! highly recommend.']"
      ]
     },
     "execution_count": 36,
     "metadata": {},
     "output_type": "execute_result"
    }
   ],
   "source": [
    "reviews = [\n",
    "    \"I LOVE this product! It's absolutely amazing.   \",\n",
    "    \"Not bad, but could be better. I've seen worse.\",\n",
    "    \"Terrible experience... I'm never buying again!!\",\n",
    "    \"Pretty good, isn't it? Will buy again!\",\n",
    "    \"Excellent value for the money!!! Highly recommend.\"\n",
    "]\n",
    "\n",
    "# python function to runnable \n",
    "normalize = RunnableLambda(normalize_text)\n",
    "normalized_reviews = normalize.batch(reviews)\n",
    "normalized_reviews"
   ]
  },
  {
   "cell_type": "code",
   "execution_count": null,
   "id": "fe9fef46",
   "metadata": {},
   "outputs": [
    {
     "data": {
      "text/plain": [
       "ChatPromptValue(messages=[HumanMessage(content=\"In a single word, either 'positive' or 'negative', \\n    provide the overall sentiment of the following piece of text: i love this product! it is absolutely amazing.\", additional_kwargs={}, response_metadata={})])"
      ]
     },
     "execution_count": 29,
     "metadata": {},
     "output_type": "execute_result"
    }
   ],
   "source": [
    "sentiment_template = ChatPromptTemplate.from_template(\n",
    "    \"\"\"In a single word, either 'positive' or 'negative', \n",
    "    provide the overall sentiment of the following piece of text: {text}\"\"\"\n",
    ")\n",
    "\n",
    "# template에서의 invoke 형식 \n",
    "sentiment_template.invoke({\"text\": \"i love this product! it is absolutely amazing.\"})"
   ]
  },
  {
   "cell_type": "code",
   "execution_count": null,
   "id": "2b9c4840",
   "metadata": {},
   "outputs": [
    {
     "data": {
      "text/plain": [
       "[{'text': 'i love this product! it is absolutely amazing.'},\n",
       " {'text': 'not bad, but could be better. i have seen worse.'},\n",
       " {'text': 'terrible experience... i am never buying again!!'},\n",
       " {'text': 'pretty good, is not it? will buy again!'},\n",
       " {'text': 'excellent value for the money!!! highly recommend.'}]"
      ]
     },
     "execution_count": 32,
     "metadata": {},
     "output_type": "execute_result"
    }
   ],
   "source": [
    "## Runnable function \n",
    "## 정규화한 review들을 \"text\" 키의 값들로 매핑시키고 Runnable 객체로 변환 \n",
    "prep_for_sentiment_template = RunnableLambda(lambda text: {\"text\": text})\n",
    "\n",
    "prep_for_sentiment_template.batch(normalized_reviews)"
   ]
  },
  {
   "cell_type": "code",
   "execution_count": 35,
   "id": "dc1a100f",
   "metadata": {},
   "outputs": [
    {
     "data": {
      "text/plain": [
       "['Positive', 'Negative', 'Negative', 'Positive', 'Positive']"
      ]
     },
     "execution_count": 35,
     "metadata": {},
     "output_type": "execute_result"
    }
   ],
   "source": [
    "sentiment_chain = RunnableLambda(normalize_text) | prep_for_sentiment_template | sentiment_template | llm | StrOutputParser()\n",
    "\n",
    "sentiment_chain.batch(reviews) "
   ]
  },
  {
   "cell_type": "markdown",
   "id": "548a74cf",
   "metadata": {},
   "source": [
    "### Combining Multiple LLM chains"
   ]
  },
  {
   "cell_type": "code",
   "execution_count": null,
   "id": "598898b2",
   "metadata": {},
   "outputs": [],
   "source": [
    "thesis_statements = [\n",
    "    \"The fundametal concepts quantum physcis are difficult to graps, even for the mostly advanced students.\",\n",
    "    \"Einstein's theroy of relativity revolutionised undrstanding of space and time, making it clear that they are interconnected.\",\n",
    "    \"The first law of thermodynmics states that energy cannot be created or destoryed, excepting only transformed from one form to another.\",\n",
    "    \"Electromagnetism is one of they four funadmental forces of nature, and it describes the interaction between charged particles.\",\n",
    "    \"In the study of mechanic, Newton's laws of motion provide a comprehensive framework for understading the movement of objects under various forces.\"\n",
    "]"
   ]
  },
  {
   "cell_type": "code",
   "execution_count": 39,
   "id": "e7950229",
   "metadata": {},
   "outputs": [
    {
     "name": "stdout",
     "output_type": "stream",
     "text": [
      "The fundamental concepts of quantum physics are difficult to grasp, even for the most advanced students.\n",
      "Einstein's theory of relativity revolutionized understanding of space and time, making it clear that they are interconnected.\n",
      "The first law of thermodynamics states that energy cannot be created or destroyed, excepting only that it is transformed from one form to another.\n",
      "Electromagnetism is one of the four fundamental forces of nature, and it describes the interaction between charged particles.\n",
      "In the study of mechanics, Newton's laws of motion provide a comprehensive framework for understanding the movement of objects under various forces.\n"
     ]
    }
   ],
   "source": [
    "spelling_and_grammer_template = ChatPromptTemplate.from_template(\"\"\"Fix any spelling or grammatical issues in the following text. Return \n",
    "                                                                 Back the correct text and only the correxted text with no additional comment or preface. text: {text}\"\"\")\n",
    "\n",
    "grammer_chain = spelling_and_grammer_template | llm | StrOutputParser()\n",
    "\n",
    "corrected_texts = grammer_chain.batch(thesis_statements)\n",
    "\n",
    "for corrected_text in corrected_texts:\n",
    "    print(corrected_text)"
   ]
  },
  {
   "cell_type": "markdown",
   "id": "a40d54b5",
   "metadata": {},
   "source": [
    "### Create a Paragraph Gen Chain"
   ]
  },
  {
   "cell_type": "code",
   "execution_count": 49,
   "id": "fb774ab6",
   "metadata": {},
   "outputs": [],
   "source": [
    "from langchain_core.runnables import RunnableParallel\n",
    "\n",
    "paragraph_template = ChatPromptTemplate.from_template(\"\"\"Generate a 4 to 8 sentence paragraph that begins with the following \\\n",
    "thesis statement. Return back the paragraph and only the paragrah with no addional comment or preface. Thesis statement: {thesis}\"\"\")\n",
    "\n",
    "paragraph_chain = paragraph_template | llm | StrOutputParser()\n",
    "\n",
    "paragraphs = paragraph_chain.batch(thesis_statements)"
   ]
  },
  {
   "cell_type": "code",
   "execution_count": 50,
   "id": "e2858dd6",
   "metadata": {},
   "outputs": [
    {
     "name": "stdout",
     "output_type": "stream",
     "text": [
      "The fundamental concepts of quantum physics are difficult to grasp, even for the most advanced students. This is because quantum physics operates on a scale that is fundamentally different from our everyday experience, making it challenging to visualize and understand. The principles of wave-particle duality, superposition, and entanglement are particularly difficult to wrap one's head around, as they defy classical notions of space and time. Furthermore, the probabilistic nature of quantum mechanics, where particles can exist in multiple states simultaneously, can be mind-bending for even the most mathematically inclined students. As a result, many students struggle to apply these concepts to real-world problems, and even experienced physicists often find themselves grappling with the intricacies of quantum theory. The abstract nature of quantum physics also makes it difficult to develop intuitive understanding, relying heavily on mathematical derivations and complex calculations. Despite the challenges, many researchers continue to explore the mysteries of quantum physics, driven by the potential breakthroughs in fields such as materials science and quantum computing.\n",
      "Einstein's theory of relativity revolutionised understanding of space and time, making it clear that they are interconnected. This groundbreaking concept challenged the long-held notion that space and time were separate entities, instead revealing that they are inextricably linked. The theory, which was introduced in 1905 and further developed in 1915, posits that the laws of physics are the same for all observers in uniform motion relative to one another. This idea led to a fundamental shift in our comprehension of the universe, demonstrating that time and space are not fixed or absolute, but rather relative and dependent on the observer's frame of reference. The theory of relativity also introduced the concept of time dilation, which shows that time can appear to slow down or speed up depending on an object's velocity and proximity to a gravitational field. As a result, Einstein's theory has had a profound impact on our understanding of the cosmos, from the behavior of black holes to the expansion of the universe itself. By revealing the intricate relationship between space and time, Einstein's theory has opened up new avenues of research and inquiry, continuing to inspire scientists and philosophers to this day.\n",
      "The first law of thermodynamics states that energy cannot be created or destroyed, excepting only transformed from one form to another. This fundamental principle is often referred to as the law of conservation of energy. It suggests that energy is a constant quantity that cannot be increased or decreased, but rather it can be converted from one type to another. For example, when a car engine burns gasoline, the chemical energy stored in the fuel is converted into mechanical energy, which is then used to propel the vehicle forward. Similarly, when a light bulb is turned on, electrical energy is converted into heat and light energy. This transformation of energy from one form to another is a key concept in understanding the behavior of energy in various systems. The law of conservation of energy has far-reaching implications in fields such as physics, engineering, and chemistry, and is a cornerstone of modern scientific understanding.\n",
      "Electromagnetism is one of the four fundamental forces of nature, and it describes the interaction between charged particles. This force is responsible for the attraction and repulsion between charged objects, such as protons and electrons, and is the basis for many natural phenomena, including lightning and the behavior of magnets. Electromagnetism is a fundamental aspect of the physical world, and its effects can be seen in everything from the smallest subatomic particles to the largest galaxies. The force of electromagnetism is mediated by photons, which are particles that carry energy and momentum. The strength of the electromagnetic force depends on the charge of the particles involved and the distance between them. In addition to its role in the behavior of charged particles, electromagnetism is also responsible for the propagation of light and other forms of electromagnetic radiation. Overall, electromagnetism plays a crucial role in our understanding of the universe and the behavior of matter and energy.\n",
      "In the study of mechanics, Newton's laws of motion provide a comprehensive framework for understanding the movement of objects under various forces. The first law, also known as the law of inertia, states that an object at rest will remain at rest, and an object in motion will continue to move with a constant velocity, unless acted upon by an external force. The second law relates the force applied to an object to its resulting acceleration, with the force being equal to the mass of the object multiplied by its acceleration. This law is often expressed mathematically as F=ma, where F is the net force acting on the object, m is its mass, and a is its acceleration. The third law states that for every action, there is an equal and opposite reaction, demonstrating the reciprocal nature of forces between objects. These three laws, developed by Sir Isaac Newton in the 17th century, have been widely used to describe and predict the motion of objects in various fields, including physics, engineering, and astronomy. By providing a fundamental understanding of the relationship between forces and motion, Newton's laws have had a profound impact on the development of modern science and technology.\n"
     ]
    }
   ],
   "source": [
    "for paragraph in paragraphs:\n",
    "    print(paragraph)"
   ]
  },
  {
   "cell_type": "code",
   "execution_count": 58,
   "id": "3ca70795",
   "metadata": {},
   "outputs": [
    {
     "data": {
      "text/plain": [
       "{'properties': {'text': {'title': 'Text', 'type': 'string'}},\n",
       " 'required': ['text'],\n",
       " 'title': 'PromptInput',\n",
       " 'type': 'object'}"
      ]
     },
     "execution_count": 58,
     "metadata": {},
     "output_type": "execute_result"
    }
   ],
   "source": [
    "corrected_generator_chain = grammer_chain | paragraph_chain\n",
    "corrected_generator_chain.input_schema.model_json_schema()"
   ]
  },
  {
   "cell_type": "code",
   "execution_count": null,
   "id": "5f0e826f",
   "metadata": {},
   "outputs": [
    {
     "data": {
      "text/plain": [
       "{'properties': {'text': {'title': 'Text', 'type': 'string'},\n",
       "  'thesis': {'title': 'Thesis', 'type': 'string'}},\n",
       " 'required': ['text', 'thesis'],\n",
       " 'title': 'RunnableParallel<grammer,paragraph_generate>Input',\n",
       " 'type': 'object'}"
      ]
     },
     "execution_count": 61,
     "metadata": {},
     "output_type": "execute_result"
    }
   ],
   "source": [
    "# RunnableParallel -> 각자 동시에 입력을 받아 독립적으로 실행됨 \n",
    "combined_chain = RunnableParallel(grammer = grammer_chain, paragraph_generate = paragraph_chain)\n",
    "combined_chain.input_schema.model_json_schema()"
   ]
  },
  {
   "cell_type": "code",
   "execution_count": 59,
   "id": "cfb70d3f",
   "metadata": {},
   "outputs": [
    {
     "data": {
      "text/plain": [
       "'Hello, I am interested in Artificial Intelligence, such as Natural Language Processing and Explainable AI, which positions any facility.'"
      ]
     },
     "execution_count": 59,
     "metadata": {},
     "output_type": "execute_result"
    }
   ],
   "source": [
    "result1 = grammer_chain.invoke({\"text\": \"Hello i interested in Artificial Intelligence such as Natural Language Processing and Explainable AI that positioning the any facility.\"})\n",
    "result1"
   ]
  },
  {
   "cell_type": "code",
   "execution_count": 63,
   "id": "c3b0f746",
   "metadata": {},
   "outputs": [
    {
     "data": {
      "text/plain": [
       "'Hello, I am interested in Artificial Intelligence, such as Natural Language Processing and Explainable AI, which positions any facility to effectively interact with humans and provide transparent insights into its decision-making processes. This is particularly relevant in industries such as healthcare, finance, and education, where the ability to understand and communicate complex information is crucial. By leveraging NLP, facilities can improve customer service, automate routine tasks, and enhance overall user experience. Explainable AI, on the other hand, enables facilities to provide clear and concise explanations for their decisions, fostering trust and accountability. As a result, facilities can make more informed decisions, reduce errors, and improve overall efficiency. The integration of NLP and Explainable AI has the potential to revolutionize the way facilities operate, making them more human-centric and transparent. By embracing these technologies, facilities can stay ahead of the curve and provide exceptional value to their customers and stakeholders.'"
      ]
     },
     "execution_count": 63,
     "metadata": {},
     "output_type": "execute_result"
    }
   ],
   "source": [
    "result2 = paragraph_chain.invoke({\"thesis\":result1})\n",
    "result2"
   ]
  },
  {
   "cell_type": "code",
   "execution_count": 65,
   "id": "807cd13c",
   "metadata": {},
   "outputs": [
    {
     "data": {
      "text/plain": [
       "{'grammer': 'Hello, I am interested in Artificial Intelligence, such as Natural Language Processing and Explainable AI, which positions any facility in a specific context.',\n",
       " 'paragraph_generate': 'Hello, I am interested in Artificial Intelligence, such as Natural Language Processing and Explainable AI, which positions any facility to effectively interact with humans and provide transparent insights into its decision-making processes. This is particularly relevant in industries such as healthcare, finance, and education, where the ability to understand and communicate complex information is crucial. By leveraging NLP, facilities can improve customer service, automate routine tasks, and enhance overall user experience. Explainable AI, on the other hand, enables facilities to provide clear and concise explanations for their decisions, fostering trust and accountability. As a result, facilities can make more informed decisions, reduce errors, and improve overall efficiency. The integration of NLP and Explainable AI has the potential to revolutionize the way facilities operate, making them more human-centric and transparent. By embracing these technologies, facilities can stay ahead of the curve and provide exceptional value to their customers and stakeholders.'}"
      ]
     },
     "execution_count": 65,
     "metadata": {},
     "output_type": "execute_result"
    }
   ],
   "source": [
    "combined_result = combined_chain.invoke({\"text\": result1, \"thesis\":result2})\n",
    "combined_result"
   ]
  },
  {
   "cell_type": "markdown",
   "id": "119a4a5e",
   "metadata": {},
   "source": [
    "### LangChain `RunnableSequence`"
   ]
  },
  {
   "cell_type": "code",
   "execution_count": 72,
   "id": "b94c7cb1",
   "metadata": {},
   "outputs": [
    {
     "name": "stdout",
     "output_type": "stream",
     "text": [
      "The widespread adoption of artificial intelligence (AI) in various industries has led to significant improvements in efficiency, productivity, and decision-making capabilities. However, the increasing reliance on AI has also raised concerns about job displacement, bias, and accountability. As AI systems become more autonomous, it is essential to develop and implement robust frameworks for ensuring transparency, explainability, and fairness in AI decision-making processes. This requires a multidisciplinary approach that involves collaboration between technologists, ethicists, policymakers, and stakeholders to address the complex challenges associated with AI development and deployment. By prioritizing human values and accountability, we can harness the benefits of AI while minimizing its risks and ensuring that its applications align with societal needs and expectations. Ultimately, the responsible development and use of AI will depend on our ability to balance technological progress with human values and social responsibility.\n"
     ]
    }
   ],
   "source": [
    "from langchain_core.runnables import RunnableSequence\n",
    "\n",
    "combined_chain2 = (\n",
    "    grammer_chain\n",
    "    | (lambda output: {'thesis': output[-1]}) # output은 grammer_chain의 출력값, 변환\n",
    "    # | (lambda output: {'thesis': output[\"corrected_text\"]})\n",
    "    | paragraph_chain \n",
    ")\n",
    "\n",
    "combined_result = combined_chain2.invoke({\"text\": \"Hello i interested in Artificial Intelligence such as Natural Language Processing and Explainable AI that positioning the any facility.\"})\n",
    "print(combined_result)"
   ]
  },
  {
   "cell_type": "code",
   "execution_count": null,
   "id": "4d77fe29",
   "metadata": {},
   "outputs": [],
   "source": []
  }
 ],
 "metadata": {
  "kernelspec": {
   "display_name": "torchenv",
   "language": "python",
   "name": "python3"
  },
  "language_info": {
   "codemirror_mode": {
    "name": "ipython",
    "version": 3
   },
   "file_extension": ".py",
   "mimetype": "text/x-python",
   "name": "python",
   "nbconvert_exporter": "python",
   "pygments_lexer": "ipython3",
   "version": "3.9.21"
  }
 },
 "nbformat": 4,
 "nbformat_minor": 5
}
