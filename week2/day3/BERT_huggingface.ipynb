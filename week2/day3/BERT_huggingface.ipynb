{
 "cells": [
  {
   "cell_type": "code",
   "execution_count": 22,
   "id": "0c08abc3",
   "metadata": {},
   "outputs": [
    {
     "name": "stdout",
     "output_type": "stream",
     "text": [
      "cuda\n"
     ]
    }
   ],
   "source": [
    "import torch\n",
    "from transformers import BertTokenizer, BertModel # bert model은 주로 임베딩 추출, 특성 추출\n",
    "\n",
    "device = 'cuda' if torch.cuda.is_available() else 'cpu'\n",
    "print(device)\n",
    "\n",
    "model_ckpt = 'bert-base-uncased'\n",
    "\n",
    "model = BertModel.from_pretrained(model_ckpt).to(device)\n",
    "tokenizer = BertTokenizer.from_pretrained(model_ckpt)\n",
    "\n"
   ]
  },
  {
   "cell_type": "code",
   "execution_count": 34,
   "id": "011a2365",
   "metadata": {},
   "outputs": [
    {
     "name": "stdout",
     "output_type": "stream",
     "text": [
      "tokenizing 한 직후: {'input_ids': tensor([[  101,  7592,  1010,  2129,  2024,  2017,  1029,   102],\n",
      "        [  101, 19081,  2024, 12476,   999,   102,     0,     0]]), 'token_type_ids': tensor([[0, 0, 0, 0, 0, 0, 0, 0],\n",
      "        [0, 0, 0, 0, 0, 0, 0, 0]]), 'attention_mask': tensor([[1, 1, 1, 1, 1, 1, 1, 1],\n",
      "        [1, 1, 1, 1, 1, 1, 0, 0]])}\n",
      "\n",
      "\n",
      "{'input_ids': tensor([[  101,  7592,  1010,  2129,  2024,  2017,  1029,   102],\n",
      "        [  101, 19081,  2024, 12476,   999,   102,     0,     0]],\n",
      "       device='cuda:0'), 'token_type_ids': tensor([[0, 0, 0, 0, 0, 0, 0, 0],\n",
      "        [0, 0, 0, 0, 0, 0, 0, 0]], device='cuda:0'), 'attention_mask': tensor([[1, 1, 1, 1, 1, 1, 1, 1],\n",
      "        [1, 1, 1, 1, 1, 1, 0, 0]], device='cuda:0')}\n"
     ]
    }
   ],
   "source": [
    "texts = [\"Hello, how are you?\", \"Transformers are awesome!\"]\n",
    "tokenized = tokenizer(texts, \n",
    "                   padding = True, \n",
    "                   truncation = True,\n",
    "                   return_tensors = 'pt')\n",
    "\n",
    "# 각 key의 value 값들을 동일 device로 \n",
    "inputs = {k: v.to(device) for k, v in tokenized.items()}\n",
    "print(f\"tokenizing 한 직후: {tokenized}\\n\\n\")\n",
    "\n",
    "print(inputs)"
   ]
  },
  {
   "cell_type": "code",
   "execution_count": 24,
   "id": "aa784e97",
   "metadata": {},
   "outputs": [
    {
     "name": "stdout",
     "output_type": "stream",
     "text": [
      "last_hidden_state.shape: torch.Size([2, 8, 768])\n",
      "pooler_output.shape: torch.Size([2, 768])\n"
     ]
    }
   ],
   "source": [
    "with torch.no_grad():\n",
    "    outputs = model(**inputs)\n",
    "    \n",
    "last_hidden_state = outputs.last_hidden_state\n",
    "# pooler_output: (batch_size, hidden_size)\n",
    "pooler_output = outputs.pooler_output\n",
    "\n",
    "print(\"last_hidden_state.shape:\", last_hidden_state.shape)\n",
    "print(\"pooler_output.shape:\", pooler_output.shape)  # 문장 전체 임베딩 (CLS 토큰 임베딩)"
   ]
  },
  {
   "cell_type": "code",
   "execution_count": 36,
   "id": "7db0faae",
   "metadata": {},
   "outputs": [
    {
     "data": {
      "text/plain": [
       "['[CLS]', 'hello', ',', 'how', 'are', 'you', '?', '[SEP]']"
      ]
     },
     "execution_count": 36,
     "metadata": {},
     "output_type": "execute_result"
    }
   ],
   "source": [
    "tokenizer.convert_ids_to_tokens(tokenized['input_ids'][0])"
   ]
  },
  {
   "cell_type": "code",
   "execution_count": 37,
   "id": "9ddc3a5f",
   "metadata": {},
   "outputs": [
    {
     "data": {
      "text/plain": [
       "'[CLS] hello, how are you? [SEP]'"
      ]
     },
     "execution_count": 37,
     "metadata": {},
     "output_type": "execute_result"
    }
   ],
   "source": [
    "tokenizer.decode(tokenized['input_ids'][0])"
   ]
  },
  {
   "cell_type": "code",
   "execution_count": 38,
   "id": "75217740",
   "metadata": {},
   "outputs": [
    {
     "data": {
      "text/plain": [
       "'hello, how are you?'"
      ]
     },
     "execution_count": 38,
     "metadata": {},
     "output_type": "execute_result"
    }
   ],
   "source": [
    "tokenizer.decode(tokenized['input_ids'][0], skip_special_tokens = True)"
   ]
  },
  {
   "cell_type": "markdown",
   "id": "a39230b0",
   "metadata": {},
   "source": [
    "### Sentimantal Classifier"
   ]
  },
  {
   "cell_type": "code",
   "execution_count": 27,
   "id": "63d0bba8",
   "metadata": {},
   "outputs": [
    {
     "name": "stderr",
     "output_type": "stream",
     "text": [
      "Some weights of BertForSequenceClassification were not initialized from the model checkpoint at bert-base-uncased and are newly initialized: ['classifier.bias', 'classifier.weight']\n",
      "You should probably TRAIN this model on a down-stream task to be able to use it for predictions and inference.\n"
     ]
    },
    {
     "name": "stdout",
     "output_type": "stream",
     "text": [
      "\n",
      "Predicted class: [0 0]\n"
     ]
    }
   ],
   "source": [
    "from transformers import BertForSequenceClassification\n",
    "\n",
    "# 감성분류용 사전학습 모델 로드 (num_labels=2)\n",
    "classifier = BertForSequenceClassification.from_pretrained('bert-base-uncased', num_labels=2).to(device)\n",
    "classifier.eval()\n",
    "\n",
    "texts = [\"I love this movie!\", \"This movie is terrible...\"]\n",
    "\n",
    "inputs = tokenizer(texts, padding=True, truncation=True, return_tensors=\"pt\")\n",
    "inputs = {k: v.to(device) for k, v in inputs.items()}\n",
    "\n",
    "with torch.no_grad():\n",
    "    outputs = classifier(**inputs)\n",
    "    logits = outputs.logits\n",
    "    predicted_class = torch.argmax(logits, axis = 1)\n",
    "\n",
    "print(f\"\\nPredicted class: {predicted_class.cpu().numpy()}\")\n"
   ]
  },
  {
   "cell_type": "markdown",
   "id": "a29bf886",
   "metadata": {},
   "source": [
    "### Base BERT Fine-tuning"
   ]
  },
  {
   "cell_type": "code",
   "execution_count": 46,
   "id": "ad4bd394",
   "metadata": {},
   "outputs": [],
   "source": [
    "import torch\n",
    "from torch.utils.data import Dataset, DataLoader\n",
    "from torch.optim import AdamW\n",
    "\n",
    "# 커스텀 데이터셋\n",
    "class SimpleDataset(Dataset):\n",
    "    def __init__(self, texts, labels, tokenizer, max_len=64):\n",
    "        self.texts = texts\n",
    "        self.labels = labels\n",
    "        self.tokenizer = tokenizer\n",
    "        self.max_len = max_len\n",
    "    \n",
    "    def __len__(self):\n",
    "        return len(self.texts)\n",
    "    \n",
    "    def __getitem__(self, idx):\n",
    "        encoding = self.tokenizer(\n",
    "            self.texts[idx],\n",
    "            max_length=self.max_len,\n",
    "            padding='max_length', # max_length까지 padding \n",
    "            truncation=True, \n",
    "            return_tensors='pt'\n",
    "        )\n",
    "        item = {k: v.squeeze(0) for k, v in encoding.items()} # batch 차원 추가 \n",
    "        item['labels'] = torch.tensor(self.labels[idx])\n",
    "        return item"
   ]
  },
  {
   "cell_type": "code",
   "execution_count": 47,
   "id": "2741789b",
   "metadata": {},
   "outputs": [
    {
     "name": "stderr",
     "output_type": "stream",
     "text": [
      "Some weights of BertForSequenceClassification were not initialized from the model checkpoint at bert-base-uncased and are newly initialized: ['classifier.bias', 'classifier.weight']\n",
      "You should probably TRAIN this model on a down-stream task to be able to use it for predictions and inference.\n"
     ]
    }
   ],
   "source": [
    "texts = [\"I love this!\", \"This is bad.\", \"Amazing work.\", \"I hate it.\"]\n",
    "labels = [1, 0, 1, 0]  # 1: 긍정, 0: 부정\n",
    "\n",
    "tokenizer = BertTokenizer.from_pretrained('bert-base-uncased')\n",
    "dataset = SimpleDataset(texts, labels, tokenizer)\n",
    "loader = DataLoader(dataset, batch_size=2, shuffle=True, drop_last = True)\n",
    "\n",
    "model = BertForSequenceClassification.from_pretrained('bert-base-uncased', num_labels=2)\n",
    "device = torch.device(\"cuda\" if torch.cuda.is_available() else \"cpu\")\n",
    "model.to(device)\n",
    "\n",
    "# AdamW 사용하여 학습 중 가중치 업데이트 \n",
    "optimizer = AdamW(model.parameters(), lr=5e-5)\n",
    "criterion = torch.nn.CrossEntropyLoss()"
   ]
  },
  {
   "cell_type": "code",
   "execution_count": 48,
   "id": "f7ecf94d",
   "metadata": {},
   "outputs": [
    {
     "name": "stdout",
     "output_type": "stream",
     "text": [
      "Epoch 1\n",
      "\n",
      "Loss: 0.8452, Accuracy: 0.5000\n",
      "Epoch 2\n",
      "\n",
      "Loss: 0.4620, Accuracy: 1.0000\n",
      "Epoch 3\n",
      "\n",
      "Loss: 0.2794, Accuracy: 1.0000\n",
      "Epoch 4\n",
      "\n",
      "Loss: 0.2255, Accuracy: 1.0000\n",
      "Epoch 5\n",
      "\n",
      "Loss: 0.2172, Accuracy: 1.0000\n"
     ]
    }
   ],
   "source": [
    "# 학습 함수\n",
    "def train(model, dataloader):\n",
    "    model.train()\n",
    "    total_loss = 0\n",
    "    total_correct = 0\n",
    "    for batch in dataloader:\n",
    "        optimizer.zero_grad()\n",
    "        \n",
    "        ## 동일 device로 변환 \n",
    "        input_ids = batch['input_ids'].to(device)\n",
    "        attention_mask = batch['attention_mask'].to(device)\n",
    "        labels = batch['labels'].to(device)\n",
    "\n",
    "        outputs = model(input_ids, attention_mask=attention_mask)\n",
    "        logits = outputs.logits\n",
    "\n",
    "        loss = criterion(logits, labels)\n",
    "        loss.backward()\n",
    "        optimizer.step()\n",
    "\n",
    "        total_loss += loss.item()\n",
    "        preds = torch.argmax(logits, dim=1)\n",
    "        total_correct += (preds == labels).sum().item()\n",
    "\n",
    "    print(f\"\\nLoss: {total_loss/len(dataloader):.4f}, Accuracy: {total_correct/len(dataset):.4f}\")\n",
    "\n",
    "# 5 에폭 정도 학습\n",
    "for epoch in range(5):\n",
    "    print(f\"Epoch {epoch+1}\")\n",
    "    train(model, loader)"
   ]
  }
 ],
 "metadata": {
  "kernelspec": {
   "display_name": "torchenv",
   "language": "python",
   "name": "python3"
  },
  "language_info": {
   "codemirror_mode": {
    "name": "ipython",
    "version": 3
   },
   "file_extension": ".py",
   "mimetype": "text/x-python",
   "name": "python",
   "nbconvert_exporter": "python",
   "pygments_lexer": "ipython3",
   "version": "3.9.21"
  }
 },
 "nbformat": 4,
 "nbformat_minor": 5
}
