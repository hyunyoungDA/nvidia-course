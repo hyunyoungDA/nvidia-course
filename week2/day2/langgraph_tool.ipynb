{
 "cells": [
  {
   "cell_type": "markdown",
   "id": "b47e9e73",
   "metadata": {},
   "source": [
    "## Architecture1: LLM 호출"
   ]
  },
  {
   "cell_type": "code",
   "execution_count": 2,
   "id": "9c4d1605",
   "metadata": {},
   "outputs": [],
   "source": [
    "from typing import Annotated, TypedDict \n",
    "\n",
    "from langchain_core.messages import HumanMessage\n",
    "from langchain_openai import ChatOpenAI\n",
    "from langgraph.graph import StateGraph, START, END, add_messages\n",
    "from langgraph.checkpoint.memory import MemorySaver"
   ]
  },
  {
   "cell_type": "code",
   "execution_count": 3,
   "id": "3e829b43",
   "metadata": {},
   "outputs": [
    {
     "data": {
      "image/png": "[encoded data removed]",
      "text/plain": [
       "<langgraph.graph.state.CompiledStateGraph object at 0x00000283504AD000>"
      ]
     },
     "execution_count": 3,
     "metadata": {},
     "output_type": "execute_result"
    }
   ],
   "source": [
    "# 상태 공간 정의 \n",
    "\n",
    "class State(TypedDict):\n",
    "    \"\"\"\n",
    "    messages 유형은 list\n",
    "    \"\"\"\n",
    "    messages: Annotated[list, add_messages] # 매 업데이트마다 기존의 내용을 갱신하지 않고 뒤에 붙임\n",
    "    \n",
    "builder = StateGraph(State)\n",
    "\n",
    "model = ChatOpenAI(\n",
    "    model = 'gpt-4o-mini', temperature=0.7,\n",
    ")\n",
    "\n",
    "def chatbot(state: State):\n",
    "    answer = model.invoke(state['messages']) # 상태의 messages를 받아서 model이 응답 생성\n",
    "    return {'messages': [answer]} \n",
    "\n",
    "# 챗봇 노드 추가 \n",
    "# 첫 번째 인자는 노드 고유 이름, 두 번째 인자는 함수 또는 러너블\n",
    "builder.add_node('chatbot', chatbot)\n",
    "\n",
    "builder.add_edge(START, 'chatbot')\n",
    "builder.add_edge('chatbot', END)\n",
    "\n",
    "graph = builder.compile()\n",
    "graph"
   ]
  },
  {
   "cell_type": "code",
   "execution_count": 3,
   "id": "c740b6b1",
   "metadata": {},
   "outputs": [
    {
     "name": "stdout",
     "output_type": "stream",
     "text": [
      "{'chatbot': {'messages': [AIMessage(content='안녕하세요! 어떻게 도와드릴까요?', additional_kwargs={'refusal': None}, response_metadata={'token_usage': {'completion_tokens': 10, 'prompt_tokens': 10, 'total_tokens': 20, 'completion_tokens_details': {'accepted_prediction_tokens': 0, 'audio_tokens': 0, 'reasoning_tokens': 0, 'rejected_prediction_tokens': 0}, 'prompt_tokens_details': {'audio_tokens': 0, 'cached_tokens': 0}}, 'model_name': 'gpt-4o-mini-2024-07-18', 'system_fingerprint': 'fp_34a54ae93c', 'id': 'chatcmpl-ByTbz3OKDAbQ2I3JqDApfH3zqscwy', 'service_tier': 'default', 'finish_reason': 'stop', 'logprobs': None}, id='run--dd0d76a4-7d71-4094-8204-eb1b29691076-0', usage_metadata={'input_tokens': 10, 'output_tokens': 10, 'total_tokens': 20, 'input_token_details': {'audio': 0, 'cache_read': 0}, 'output_token_details': {'audio': 0, 'reasoning': 0}})]}}\n"
     ]
    }
   ],
   "source": [
    "input = {'messages': [HumanMessage(\"안녕하세요!\")]}\n",
    "for chunk in graph.stream(input):\n",
    "    print(chunk)"
   ]
  },
  {
   "cell_type": "markdown",
   "id": "80e9203a",
   "metadata": {},
   "source": [
    "## Architecture2: Chain & Flow Engineering"
   ]
  },
  {
   "cell_type": "code",
   "execution_count": 17,
   "id": "111ca5e3",
   "metadata": {},
   "outputs": [],
   "source": [
    "from typing import Annotated, TypedDict \n",
    "from langchain_openai import ChatOpenAI\n",
    "from langchain_core.messages import HumanMessage, SystemMessage\n",
    "from langgraph.graph import START, END, StateGraph\n",
    "from langgraph.graph.message import add_messages \n",
    "\n",
    "# SQL 쿼리 생성 LLM \n",
    "model_low_temp = ChatOpenAI(\n",
    "    model = 'gpt-4o-mini', temperature=0.1\n",
    ")\n",
    "\n",
    "# 결과 출력 LLM\n",
    "model_high_temp = ChatOpenAI(\n",
    "    model = 'gpt-4o-mini', temperature=0.7\n",
    ")\n",
    "\n",
    "# 대화 기록 \n",
    "class State(TypedDict):\n",
    "    messages: Annotated[list, add_messages]\n",
    "    \n",
    "    user_query: str \n",
    "    # 출력 \n",
    "    sql_query: str\n",
    "    sql_explaination: str \n",
    "    \n",
    "class Input(TypedDict):\n",
    "    user_query: str \n",
    "    \n",
    "class Output(TypedDict):\n",
    "    sql_query: str \n",
    "    sql_explaination: str\n",
    "    \n",
    "    \n",
    "generate_prompt = SystemMessage(\n",
    "    \"\"\"당신은 친절한 데이터 분석가입니다. 사용자의 질문을 바탕으로 SQL 쿼리를 작성하세요\n",
    "    단계별로 생각해서 답변하세요\n",
    "    확실하지 않거나 모르는 경우엔 모른다고 답변하세요\n",
    "    \"\"\"\n",
    ")\n",
    "\n",
    "def generate_sql(state: State) -> State:\n",
    "    user_message = HumanMessage(state['messages'])\n",
    "    messages = [generate_prompt, *state['messages'], user_message] # ?\n",
    "    res = model_low_temp.invoke(messages)\n",
    "    return {\n",
    "        'sql_query' : res.content,\n",
    "        'messages' : [user_message, res] # 대화 기록 업데이트 \n",
    "    }\n",
    "    \n",
    "explain_prompt = SystemMessage(\n",
    "    \"당신은 친절한 데이터 분석가입니다. 사용자에게 SQL 쿼리를 누구나 쉽게 이해할 수 있게 설명하세요\"\n",
    ")\n",
    "\n",
    "def explain_sql(state: State) -> State:\n",
    "    messages = [\n",
    "        explain_prompt, *state['messages']\n",
    "    ]\n",
    "    \n",
    "    res = model_high_temp.invoke(messages)\n",
    "    \n",
    "    return {\n",
    "        'sql_explaination': res.content,\n",
    "        'messages': res,\n",
    "    }"
   ]
  },
  {
   "cell_type": "code",
   "execution_count": 18,
   "id": "85581e14",
   "metadata": {},
   "outputs": [
    {
     "name": "stderr",
     "output_type": "stream",
     "text": [
      "C:\\Users\\user\\AppData\\Local\\Temp\\ipykernel_7964\\2947262939.py:1: LangGraphDeprecatedSinceV05: `input` is deprecated and will be removed. Please use `input_schema` instead. Deprecated in LangGraph V0.5 to be removed in V2.0.\n",
      "  builder = StateGraph(State, input = Input, output = Output)\n",
      "C:\\Users\\user\\AppData\\Local\\Temp\\ipykernel_7964\\2947262939.py:1: LangGraphDeprecatedSinceV05: `output` is deprecated and will be removed. Please use `output_schema` instead. Deprecated in LangGraph V0.5 to be removed in V2.0.\n",
      "  builder = StateGraph(State, input = Input, output = Output)\n"
     ]
    },
    {
     "data": {
      "image/png": "[encoded data removed]",
      "text/plain": [
       "<langgraph.graph.state.CompiledStateGraph object at 0x000002835225B400>"
      ]
     },
     "execution_count": 18,
     "metadata": {},
     "output_type": "execute_result"
    }
   ],
   "source": [
    "builder = StateGraph(State, input = Input, output = Output)\n",
    "builder.add_node('generate_sql', generate_sql)\n",
    "builder.add_node('explain_sql', explain_sql)\n",
    "builder.add_edge(START, 'generate_sql')\n",
    "builder.add_edge('generate_sql', 'explain_sql')\n",
    "builder.add_edge('explain_sql', END)\n",
    "\n",
    "graph = builder.compile()\n",
    "graph"
   ]
  },
  {
   "cell_type": "code",
   "execution_count": 19,
   "id": "35cc746d",
   "metadata": {},
   "outputs": [
    {
     "data": {
      "text/plain": [
       "{'sql_query': '질문이 없으신 것 같습니다. 어떤 SQL 쿼리를 작성하는 데 도움이 필요하신지 말씀해 주시면, 단계별로 도와드리겠습니다!',\n",
       " 'sql_explaination': \"SQL 쿼리를 이해하기 쉽게 설명해 드리겠습니다. SQL(Structured Query Language)은 데이터베이스에서 데이터를 조회하거나 조작하는 데 사용되는 언어입니다. 제가 설명할 쿼리를 예를 들어 보겠습니다.\\n\\n예를 들어, 여러분이 'employees'라는 테이블에서 모든 직원의 이름과 급여를 조회하고 싶다고 가정해봅시다. 이때 사용할 수 있는 SQL 쿼리는 다음과 같습니다:\\n\\n```sql\\nSELECT name, salary\\nFROM employees;\\n```\\n\\n이 쿼리를 단계별로 설명해 볼게요:\\n\\n1. **SELECT**: 이 키워드는 데이터베이스에서 어떤 데이터를 선택할 것인지를 지정합니다. 여기서는 `name`과 `salary`라는 두 개의 열(컬럼)을 선택했습니다. 즉, 직원의 이름과 급여를 보고 싶다는 뜻입니다.\\n\\n2. **FROM**: 이 키워드는 어떤 테이블에서 데이터를 가져올지를 지정합니다. 여기서는 `employees` 테이블에서 데이터를 가져오겠다고 명시했습니다.\\n\\n따라서 이 쿼리는 'employees' 테이블에서 모든 직원의 이름과 급여를 조회하여 보여주는 역할을 합니다.\\n\\n이제 다른 쿼리나 더 복잡한 예제가 필요하시면 말씀해 주세요!\"}"
      ]
     },
     "execution_count": 19,
     "metadata": {},
     "output_type": "execute_result"
    }
   ],
   "source": [
    "graph.invoke({'user_query': '각 품목의 판매량을 구해주세요'})"
   ]
  },
  {
   "cell_type": "markdown",
   "id": "15dfa369",
   "metadata": {},
   "source": [
    "## Architecture3: Router\n",
    "\n",
    "Chain은 개발자가 정한 정적인 단계를 실행하는 반면, 라우터 아키텍처는 LLM이 미리 정의된 몇몇 단계 중 하나를 선택한다. "
   ]
  },
  {
   "cell_type": "markdown",
   "id": "7ce342ec",
   "metadata": {},
   "source": [
    "### Multi-RAG Router"
   ]
  },
  {
   "cell_type": "code",
   "execution_count": null,
   "id": "75bd914d",
   "metadata": {},
   "outputs": [],
   "source": [
    "from typing import Annotated, TypedDict, Literal\n",
    "\n",
    "from langchain_core.documents import Document\n",
    "from langchain_core.messages import HumanMessage, SystemMessage\n",
    "from langchain_core.vectorstores.in_memory import InMemoryVectorStore # 메모리에 저장하는 벡터 DB \n",
    "from langchain_openai import ChatOpenAI, OpenAIEmbeddings\n",
    "from langgraph.graph import START, END, StateGraph\n",
    "from langgraph.graph import add_messages \n",
    "\n",
    "embeddings = OpenAIEmbeddings()\n",
    "\n",
    "model_low_temp = ChatOpenAI(\n",
    "    model = 'gpt-4o-mini', temperature=0.1,\n",
    ")\n",
    "\n",
    "model_high_temp = ChatOpenAI(\n",
    "    model = 'gpt-4o-mini', temperature=0.7,\n",
    ")\n",
    "\n",
    "# 각 그래프 단계에서 입출력과 내부 상태 \n",
    "class State(TypedDict):\n",
    "    messages: Annotated[list, add_messages]\n",
    "    user_query: str\n",
    "    # 출력 \n",
    "    domain: Literal['records', 'insurance']\n",
    "    documents: list[Document] # 관련 문서 리스트 \n",
    "    answer: str \n",
    "\n",
    "# 입/출력 스키마 명확화 \n",
    "class Input(TypedDict):\n",
    "    user_query: str \n",
    "    \n",
    "class Output(TypedDict):\n",
    "    documents: list[Document]\n",
    "    answer: str"
   ]
  },
  {
   "cell_type": "markdown",
   "id": "ee855cbb",
   "metadata": {},
   "source": [
    "### 간단한 데이터셋 생성"
   ]
  },
  {
   "cell_type": "code",
   "execution_count": 13,
   "id": "131385af",
   "metadata": {},
   "outputs": [],
   "source": [
    "from langchain_core.documents import Document\n",
    "\n",
    "medical_documents = [\n",
    "    Document(page_content=\"환자 001: 기침과 미열을 호소함. 흉부 X-ray에서 폐렴 소견 확인. 아지스로마이신 3일 처방.\"),\n",
    "    Document(page_content=\"환자 002: 무거운 물건을 든 후 요통 발생. MRI에서 요추 디스크 탈출 확인. 물리치료 및 진통제 처방.\"),\n",
    "    Document(page_content=\"환자 003: 정기 건강검진. 혈압 145/92로 고혈압 1단계 진단. 식이 및 운동요법 교육.\"),\n",
    "    Document(page_content=\"환자 004: 우하복부 통증. CT에서 충수염 확인. 복강경 수술 의뢰.\"),\n",
    "    Document(page_content=\"환자 005: 공복 혈당 168로 제2형 당뇨병 진단. 메트포르민 500mg 하루 2회 처방.\"),\n",
    "    Document(page_content=\"환자 006: 인후통 및 발열. 신속검사에서 연쇄상구균 양성. 아목시실린 처방.\"),\n",
    "    Document(page_content=\"환자 007: 운동 시 가슴 답답함 호소. 심전도 이상으로 운동 부하 검사 예약.\"),\n",
    "    Document(page_content=\"환자 008: 재채기와 코막힘 지속. 알레르기 비염 진단. 로라타딘 처방.\"),\n",
    "    Document(page_content=\"환자 009: 발목 염좌. X-ray 이상 없음. 냉찜질 및 휴식 권장.\"),\n",
    "    Document(page_content=\"환자 010: 불안 및 불면 호소. GAD-7 점수 14. 에스시탈로프람 10mg 시작.\"),\n",
    "    \n",
    "    Document(page_content=\"환자 011: 흐릿한 시야와 두통. 혈압 180/100으로 고혈압 위기 대응.\"),\n",
    "    Document(page_content=\"환자 012: 배뇨 시 작열감. 소변 검사에서 E. coli 검출. 요로감염 진단 및 항생제 처방.\"),\n",
    "    Document(page_content=\"환자 013: 천식 진단. 폐활량 검사상 FEV1 저하. 흡입 스테로이드 시작.\"),\n",
    "    Document(page_content=\"환자 014: 체질량지수 32. 비만 진단 후 영양사 상담 연계.\"),\n",
    "    Document(page_content=\"환자 015: 편두통 재발. MRI 이상 없음. 예방적 치료로 토피라메이트 시작.\"),\n",
    "    Document(page_content=\"환자 016: 가려움 동반 피부 발진. 접촉성 피부염 진단. 스테로이드 연고 처방.\"),\n",
    "    Document(page_content=\"환자 017: 피로와 창백. 혈색소 수치 9.5. 철분 결핍성 빈혈 진단.\"),\n",
    "    Document(page_content=\"환자 018: 무릎 통증. X-ray상 경증 골관절염 소견. 물리치료 권장.\"),\n",
    "    Document(page_content=\"환자 019: 자궁경부 세포검사 결과 LSIL. 정밀검사 위해 산부인과 의뢰.\"),\n",
    "    Document(page_content=\"환자 020: 호흡곤란 호소. 산소포화도 91%. COPD 악화 의심, 네불라이저 치료.\"),\n",
    "    \n",
    "    Document(page_content=\"환자 021: 손 저림. 신경전도검사 결과 손목터널증후군 진단.\"),\n",
    "    Document(page_content=\"환자 022: 당뇨병성 족부 궤양 2단계. 상처 관리 및 항생제 시작.\"),\n",
    "    Document(page_content=\"환자 023: 고열 및 발진 동반. 홍역 진단.\"),\n",
    "    Document(page_content=\"환자 024: 코로나19 완치 후 추적 검사. 합병증 없음.\"),\n",
    "    Document(page_content=\"환자 025: 만성 위염. 내시경 소견상 위 점막 손상. 위산 억제제 4주 처방.\"),\n",
    "    Document(page_content=\"환자 026: 흉통으로 내원. 트로포닌 상승. 비ST 상승 심근경색 진단.\"),\n",
    "    Document(page_content=\"환자 027: 독감 백신 접종 완료. 이상 반응 없음.\"),\n",
    "    Document(page_content=\"환자 028: 관절 부종 및 통증. 류마티스 관절염 진단. 류마티스내과 의뢰.\"),\n",
    "    Document(page_content=\"환자 029: 중이염 진단. 아목시실린-클라불란산 복합제 처방.\"),\n",
    "    Document(page_content=\"환자 030: 우울감 호소. PHQ-9 점수 9. 인지행동치료 권유.\"),\n",
    "]\n"
   ]
  },
  {
   "cell_type": "code",
   "execution_count": 14,
   "id": "3a45e27b",
   "metadata": {},
   "outputs": [],
   "source": [
    "from langchain_core.documents import Document\n",
    "\n",
    "insurance_documents = [\n",
    "    Document(page_content=\"1. 건강보험 가입 시 필요한 서류는 무엇인가요?\"),\n",
    "    Document(page_content=\"2. 보험료는 어떤 방식으로 납부하나요?\"),\n",
    "    Document(page_content=\"3. 보험료 납부를 연체하면 어떤 불이익이 있나요?\"),\n",
    "    Document(page_content=\"4. 보장 범위는 어떤 항목을 포함하나요?\"),\n",
    "    Document(page_content=\"5. 치과 치료도 보장이 되나요?\"),\n",
    "    Document(page_content=\"6. 한방 치료도 보험 혜택을 받을 수 있나요?\"),\n",
    "    Document(page_content=\"7. 입원 시 보상은 어떻게 되나요?\"),\n",
    "    Document(page_content=\"8. 실손보험과 건강보험의 차이점은 무엇인가요?\"),\n",
    "    Document(page_content=\"9. 보험금 청구는 어떻게 하나요?\"),\n",
    "    Document(page_content=\"10. 보험금 청구 시 필요한 서류는 무엇인가요?\"),\n",
    "\n",
    "    Document(page_content=\"11. 가족 모두가 가입할 수 있는 보험이 있나요?\"),\n",
    "    Document(page_content=\"12. 자녀를 위한 보험 상품은 어떤 것이 있나요?\"),\n",
    "    Document(page_content=\"13. 암 진단을 받으면 얼마나 보장되나요?\"),\n",
    "    Document(page_content=\"14. 기존 질환이 있는 경우에도 가입할 수 있나요?\"),\n",
    "    Document(page_content=\"15. 보험 가입 후 바로 보장되나요? 대기기간은 어떻게 되나요?\"),\n",
    "    Document(page_content=\"16. 보험 계약 해지는 어떻게 하나요?\"),\n",
    "    Document(page_content=\"17. 중도 해지 시 환급금은 얼마인가요?\"),\n",
    "    Document(page_content=\"18. 보험 해지 후 다시 가입할 수 있나요?\"),\n",
    "    Document(page_content=\"19. 보험 상품을 변경하고 싶은데 가능한가요?\"),\n",
    "    Document(page_content=\"20. 보험 수혜자(수익자)는 언제든 변경 가능한가요?\"),\n",
    "\n",
    "    Document(page_content=\"21. 보험 가입 연령 제한이 있나요?\"),\n",
    "    Document(page_content=\"22. 보험사고 접수는 어디서 하나요?\"),\n",
    "    Document(page_content=\"23. 보험금은 언제 지급되나요?\"),\n",
    "    Document(page_content=\"24. 외국에서 치료받은 것도 보장되나요?\"),\n",
    "    Document(page_content=\"25. 코로나19로 인한 입원비도 보장되나요?\"),\n",
    "    Document(page_content=\"26. 재가입 시 보장 내용은 동일한가요?\"),\n",
    "    Document(page_content=\"27. 모바일로도 보험금 청구가 가능한가요?\"),\n",
    "    Document(page_content=\"28. 실비 보험과 의료비 보장은 어떤 차이가 있나요?\"),\n",
    "    Document(page_content=\"29. 진단서 없이 보험 청구가 가능한 경우가 있나요?\"),\n",
    "    Document(page_content=\"30. 보험 상담은 어디에서 받을 수 있나요?\"),\n",
    "]\n"
   ]
  },
  {
   "cell_type": "markdown",
   "id": "52deb9b4",
   "metadata": {},
   "source": [
    "### In-Memory vectorDB 설정 "
   ]
  },
  {
   "cell_type": "code",
   "execution_count": 26,
   "id": "d3c7d239",
   "metadata": {},
   "outputs": [
    {
     "data": {
      "text/plain": [
       "VectorStoreRetriever(tags=['InMemoryVectorStore', 'OpenAIEmbeddings'], vectorstore=<langchain_core.vectorstores.in_memory.InMemoryVectorStore object at 0x000002DC9CBC9EA0>, search_kwargs={})"
      ]
     },
     "execution_count": 26,
     "metadata": {},
     "output_type": "execute_result"
    }
   ],
   "source": [
    "medical_records_store = InMemoryVectorStore.from_documents(medical_documents, embeddings)\n",
    "medical_records_retriever = medical_records_store.as_retriever() # db 기반 검색기 생성 \n",
    "medical_records_retriever"
   ]
  },
  {
   "cell_type": "code",
   "execution_count": 27,
   "id": "37100f6d",
   "metadata": {},
   "outputs": [
    {
     "data": {
      "text/plain": [
       "VectorStoreRetriever(tags=['InMemoryVectorStore', 'OpenAIEmbeddings'], vectorstore=<langchain_core.vectorstores.in_memory.InMemoryVectorStore object at 0x000002DCBD37AD10>, search_kwargs={})"
      ]
     },
     "execution_count": 27,
     "metadata": {},
     "output_type": "execute_result"
    }
   ],
   "source": [
    "insurance_faqs_store = InMemoryVectorStore.from_documents(insurance_documents, embeddings)\n",
    "insurance_faqs_retriever = insurance_faqs_store.as_retriever()\n",
    "insurance_faqs_retriever"
   ]
  },
  {
   "cell_type": "code",
   "execution_count": 28,
   "id": "db495a4f",
   "metadata": {},
   "outputs": [
    {
     "data": {
      "text/plain": [
       "SystemMessage(content='사용자 문의를 어느 도메인으로 라우터할지 결정하세요. 선택할 수 있는 두 가지 도메인은 다음과 같습니다\\n    - records: 진단, 치료, 처방과 같은 환자의 의료 기록을 포함합니다.\\n    - insurance: 보험 정책, 청구, 보장에 대한 자주 묻는 질문을 포함합니다.\\n    \\n    도메인 이름만 출력하세요', additional_kwargs={}, response_metadata={})"
      ]
     },
     "execution_count": 28,
     "metadata": {},
     "output_type": "execute_result"
    }
   ],
   "source": [
    "router_prompt = SystemMessage(\n",
    "    '''사용자 문의를 어느 도메인으로 라우터할지 결정하세요. 선택할 수 있는 두 가지 도메인은 다음과 같습니다\n",
    "    - records: 진단, 치료, 처방과 같은 환자의 의료 기록을 포함합니다.\n",
    "    - insurance: 보험 정책, 청구, 보장에 대한 자주 묻는 질문을 포함합니다.\n",
    "    \n",
    "    도메인 이름만 출력하세요'''\n",
    ")\n",
    "router_prompt"
   ]
  },
  {
   "cell_type": "markdown",
   "id": "2da17a96",
   "metadata": {},
   "source": [
    "### Router node 정의"
   ]
  },
  {
   "cell_type": "code",
   "execution_count": 44,
   "id": "0c4a438e",
   "metadata": {},
   "outputs": [],
   "source": [
    "def router_node(state: State) -> State:\n",
    "    user_messages = HumanMessage(state['messages'])\n",
    "    messages = [router_prompt, *state['messages'], user_messages]\n",
    "    \n",
    "    res = model_low_temp.invoke(messages)\n",
    "    \n",
    "    return {\n",
    "        'domain': res.content,\n",
    "        # 대화 기록 업데이트\n",
    "        'messages': [user_messages, res]\n",
    "    }"
   ]
  },
  {
   "cell_type": "markdown",
   "id": "c8f2483f",
   "metadata": {},
   "source": [
    "### domain 검색기 설정"
   ]
  },
  {
   "cell_type": "code",
   "execution_count": null,
   "id": "fb1533a4",
   "metadata": {},
   "outputs": [],
   "source": [
    "def pick_retriever(\n",
    "    state: State,\n",
    ") -> Literal['retrieve_medical_records', 'retrieve_insurance_faqs']:\n",
    "    # 2개의 domain 중에 하나여야함 \n",
    "    if state['domain'] == 'records':\n",
    "        return \"retrieve_medical_records\"\n",
    "    else:\n",
    "        return \"retrieve_insurance_faqs\""
   ]
  },
  {
   "cell_type": "markdown",
   "id": "71bdc60f",
   "metadata": {},
   "source": [
    "### domain별 관련 documents return 함수"
   ]
  },
  {
   "cell_type": "code",
   "execution_count": 39,
   "id": "192cea50",
   "metadata": {},
   "outputs": [],
   "source": [
    "def retrieve_medical_records(state: State) -> State:\n",
    "    documents = medical_records_retriever.invoke(state['user_query'])\n",
    "    return {\n",
    "        \"documents\": documents,\n",
    "    }"
   ]
  },
  {
   "cell_type": "code",
   "execution_count": 40,
   "id": "d948570c",
   "metadata": {},
   "outputs": [],
   "source": [
    "def retrieve_insurance_faqs(state: State) -> State:\n",
    "    documents = insurance_faqs_retriever.invoke(state['user_query'])\n",
    "    return {\n",
    "        'documents': documents,\n",
    "    }"
   ]
  },
  {
   "cell_type": "code",
   "execution_count": null,
   "id": "db75efdf",
   "metadata": {},
   "outputs": [],
   "source": [
    "medical_records_prompt = SystemMessage(\n",
    "    '당신은 유능한 의료 전문가입니다. 진단, 치료, 처방과 같은 환자의 의료 기록을 기반으로 질문에 답하시오'\n",
    ")\n",
    "\n",
    "insurance_faqs_prompt = SystemMessage(\n",
    "    '당신은 유능한 의료 보험 전문가입니다. 보험 정책, 청구 및 보장에 대한 자주 뭍는 질문에 답하세요.'\n",
    ")\n",
    "\n",
    "# 답변 생성 함수 정의 \n",
    "def generate_answer(state: State) -> State:\n",
    "    if state['domain'] == 'records':\n",
    "        prompt = medical_records_prompt\n",
    "    elif state['domain'] == 'insurance':\n",
    "        prompt = insurance_faqs_prompt\n",
    "    else:\n",
    "        raise ValueError(f\"Unknown domain: {state['domain']}\")\n",
    "        \n",
    "    # messages = [\n",
    "    #     prompt,\n",
    "    #     *state['messages'],\n",
    "    #     HumanMessage(f\"Documemts: {state['documents']}\"), -> Python 객체 정보 전달 가능성 O\n",
    "    #     HumanMessage(content = f\"위 문서 내용을 참고하여 질문에 답변해주세요\")\n",
    "    # ]\n",
    "    \n",
    "     # 문서 리스트를 텍스트로 합치기\n",
    "     # page_content만 추출하여 명확한 의미 전달 \n",
    "    docs_text = \"\\n\".join(doc.page_content for doc in state['documents'])\n",
    "\n",
    "    messages = [\n",
    "        prompt,\n",
    "        *state['messages'],\n",
    "        HumanMessage(content=f\"다음은 관련 문서들입니다:\\n{docs_text}\"),\n",
    "        HumanMessage(content=f\"사용자 질문: {state['user_query']}\"),\n",
    "        HumanMessage(content=\"위 문서 내용을 참고해 질문에 답변해 주세요.\"),\n",
    "    ]\n",
    "    \n",
    "    res = model_high_temp.invoke(messages)\n",
    "    \n",
    "    return {\n",
    "        'answer': res.content,\n",
    "        'messages': res,\n",
    "    }"
   ]
  },
  {
   "cell_type": "code",
   "execution_count": 52,
   "id": "0152cf44",
   "metadata": {},
   "outputs": [
    {
     "name": "stderr",
     "output_type": "stream",
     "text": [
      "C:\\Users\\user\\AppData\\Local\\Temp\\ipykernel_16368\\2076053154.py:1: LangGraphDeprecatedSinceV05: `input` is deprecated and will be removed. Please use `input_schema` instead. Deprecated in LangGraph V0.5 to be removed in V2.0.\n",
      "  builder = StateGraph(State, input = Input, output = Output)\n",
      "C:\\Users\\user\\AppData\\Local\\Temp\\ipykernel_16368\\2076053154.py:1: LangGraphDeprecatedSinceV05: `output` is deprecated and will be removed. Please use `output_schema` instead. Deprecated in LangGraph V0.5 to be removed in V2.0.\n",
      "  builder = StateGraph(State, input = Input, output = Output)\n"
     ]
    },
    {
     "data": {
      "image/png": "[encoded data removed]",
      "text/plain": [
       "<langgraph.graph.state.CompiledStateGraph object at 0x000002DCC0797220>"
      ]
     },
     "execution_count": 52,
     "metadata": {},
     "output_type": "execute_result"
    }
   ],
   "source": [
    "builder = StateGraph(State, input = Input, output = Output)\n",
    "\n",
    "builder.add_node('router', router_node)\n",
    "builder.add_node('retrieve_medical_records', retrieve_medical_records)\n",
    "builder.add_node('retrieve_insurance_faqs', retrieve_insurance_faqs)\n",
    "builder.add_node('generate_answer', generate_answer)\n",
    "builder.add_edge(START, 'router')\n",
    "builder.add_conditional_edges('router', pick_retriever)\n",
    "builder.add_edge('retrieve_medical_records', 'generate_answer')\n",
    "builder.add_edge('retrieve_insurance_faqs', 'generate_answer')\n",
    "builder.add_edge('generate_answer', END)\n",
    "\n",
    "graph = builder.compile()\n",
    "graph"
   ]
  },
  {
   "cell_type": "code",
   "execution_count": 53,
   "id": "de472a26",
   "metadata": {},
   "outputs": [
    {
     "name": "stdout",
     "output_type": "stream",
     "text": [
      "{'router': {'domain': 'records', 'messages': [HumanMessage(content=[], additional_kwargs={}, response_metadata={}, id='ae2f6a7b-c0e2-46af-a397-fb0a49b8f118'), AIMessage(content='records', additional_kwargs={'refusal': None}, response_metadata={'token_usage': {'completion_tokens': 1, 'prompt_tokens': 95, 'total_tokens': 96, 'completion_tokens_details': {'accepted_prediction_tokens': 0, 'audio_tokens': 0, 'reasoning_tokens': 0, 'rejected_prediction_tokens': 0}, 'prompt_tokens_details': {'audio_tokens': 0, 'cached_tokens': 0}}, 'model_name': 'gpt-4o-mini-2024-07-18', 'system_fingerprint': 'fp_62a23a81ef', 'id': 'chatcmpl-ByY1Jbdrbs0ep02B4EelYW5xjnIlj', 'service_tier': 'default', 'finish_reason': 'stop', 'logprobs': None}, id='run--a7f841c1-3055-450a-9ed2-9b530100f4ee-0', usage_metadata={'input_tokens': 95, 'output_tokens': 1, 'total_tokens': 96, 'input_token_details': {'audio': 0, 'cache_read': 0}, 'output_token_details': {'audio': 0, 'reasoning': 0}})]}}\n",
      "{'retrieve_medical_records': {'documents': [Document(id='6087cc90-37fa-45af-bc54-0ea96bd5187c', metadata={}, page_content='환자 016: 가려움 동반 피부 발진. 접촉성 피부염 진단. 스테로이드 연고 처방.'), Document(id='348fd92c-83a9-4269-bd5a-85ea08c5094c', metadata={}, page_content='환자 025: 만성 위염. 내시경 소견상 위 점막 손상. 위산 억제제 4주 처방.'), Document(id='445f06ae-18d9-4980-885e-0a5490ea2130', metadata={}, page_content='환자 001: 기침과 미열을 호소함. 흉부 X-ray에서 폐렴 소견 확인. 아지스로마이신 3일 처방.'), Document(id='e79ba883-e0fe-4569-9802-0e90baefff61', metadata={}, page_content='환자 021: 손 저림. 신경전도검사 결과 손목터널증후군 진단.')]}}\n",
      "{'generate_answer': {'answer': '전체적으로 가려움증이 있는 경우 여러 가지 원인이 있을 수 있습니다. 환자 016의 경우, 가려움증과 피부 발진이 있었고 접촉성 피부염으로 진단되었습니다. 이는 피부가 특정 물질에 반응하여 염증을 일으킬 때 발생할 수 있습니다. \\n\\n또한, 가려움증은 알레르기 반응, 피부 건조증, 또는 다른 피부 질환의 증상일 수도 있습니다. 만약 발진이나 다른 증상이 동반된다면, 접촉성 피부염과 같은 특정 원인을 고려해야 할 것입니다. \\n\\n가려움증이 심하거나 지속된다면, 피부과 전문의와 상담하여 적절한 진단과 치료를 받는 것이 좋습니다.', 'messages': AIMessage(content='전체적으로 가려움증이 있는 경우 여러 가지 원인이 있을 수 있습니다. 환자 016의 경우, 가려움증과 피부 발진이 있었고 접촉성 피부염으로 진단되었습니다. 이는 피부가 특정 물질에 반응하여 염증을 일으킬 때 발생할 수 있습니다. \\n\\n또한, 가려움증은 알레르기 반응, 피부 건조증, 또는 다른 피부 질환의 증상일 수도 있습니다. 만약 발진이나 다른 증상이 동반된다면, 접촉성 피부염과 같은 특정 원인을 고려해야 할 것입니다. \\n\\n가려움증이 심하거나 지속된다면, 피부과 전문의와 상담하여 적절한 진단과 치료를 받는 것이 좋습니다.', additional_kwargs={'refusal': None}, response_metadata={'token_usage': {'completion_tokens': 162, 'prompt_tokens': 230, 'total_tokens': 392, 'completion_tokens_details': {'accepted_prediction_tokens': 0, 'audio_tokens': 0, 'reasoning_tokens': 0, 'rejected_prediction_tokens': 0}, 'prompt_tokens_details': {'audio_tokens': 0, 'cached_tokens': 0}}, 'model_name': 'gpt-4o-mini-2024-07-18', 'system_fingerprint': 'fp_62a23a81ef', 'id': 'chatcmpl-ByY1K7JwJy17ZlCWpjia0qqhQKW8C', 'service_tier': 'default', 'finish_reason': 'stop', 'logprobs': None}, id='run--5b7b187e-2e62-4f7d-a4d4-96943d9347ff-0', usage_metadata={'input_tokens': 230, 'output_tokens': 162, 'total_tokens': 392, 'input_token_details': {'audio': 0, 'cache_read': 0}, 'output_token_details': {'audio': 0, 'reasoning': 0}})}}\n"
     ]
    }
   ],
   "source": [
    "input = {'user_query': '지금 피부가 전체적으로 간지러운데 왜 그런건가요?'}\n",
    "for c in graph.stream(input):\n",
    "    print(c)"
   ]
  }
 ],
 "metadata": {
  "kernelspec": {
   "display_name": "ragenv",
   "language": "python",
   "name": "python3"
  },
  "language_info": {
   "codemirror_mode": {
    "name": "ipython",
    "version": 3
   },
   "file_extension": ".py",
   "mimetype": "text/x-python",
   "name": "python",
   "nbconvert_exporter": "python",
   "pygments_lexer": "ipython3",
   "version": "3.10.16"
  }
 },
 "nbformat": 4,
 "nbformat_minor": 5
}
