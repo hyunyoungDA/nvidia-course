{
 "cells": [
  {
   "cell_type": "code",
   "execution_count": 1,
   "id": "5fb05370",
   "metadata": {},
   "outputs": [],
   "source": [
    "from dotenv import load_dotenv\n",
    "import os\n",
    "\n",
    "from langchain_core.prompts import ChatPromptTemplate\n",
    "from langchain_openai import ChatOpenAI\n",
    "from langchain_core.output_parsers import StrOutputParser\n",
    "\n",
    "load_dotenv(\"../../.env\")\n",
    "api_key = os.getenv(\"OPEN_API_KEY\")\n",
    "\n",
    "llm = ChatOpenAI(\n",
    "  model = \"gpt-4.1-mini-2025-04-14\", \n",
    "  temperature = 0.7, \n",
    "  api_key=api_key)"
   ]
  },
  {
   "cell_type": "code",
   "execution_count": 2,
   "id": "fd53f139",
   "metadata": {},
   "outputs": [
    {
     "name": "stdout",
     "output_type": "stream",
     "text": [
      "문제: 인구가 줄어드는 지방 도시를 활성화할 수 있는 방법은?\n",
      "\n",
      "이 문제를 해결할 수 있는 3가지 아이디어를 생각해보세요:  \n",
      "1. 원격 근무 인프라 구축 및 유치  \n",
      "2. 지역 특산물 및 관광 산업 활성화  \n",
      "3. 청년 창업 지원 및 정주 환경 개선  \n",
      "\n",
      "---\n",
      "\n",
      "### 1. 원격 근무 인프라 구축 및 유치  \n",
      "- **장점**:  \n",
      "  - 도시 내 새로운 인구 유입 가능성 증가 (특히 IT·디지털 직종)  \n",
      "  - 교통·주거 비용 절감 효과  \n",
      "  - 지방에서도 경쟁력 있는 일자리 창출 가능  \n",
      "- **단점**:  \n",
      "  - 고속 인터넷 및 안정적인 통신망 구축 비용 발생  \n",
      "  - 원격 근무에 적합한 기업이나 인력 유치가 쉽지 않을 수 있음  \n",
      "  - 문화·여가 인프라 부족 시 장기 정착 어려움  \n",
      "\n",
      "### 2. 지역 특산물 및 관광 산업 활성화  \n",
      "- **장점**:  \n",
      "  - 지역 경제 기반 강화 및 일자리 창출  \n",
      "  - 도시 브랜드 가치 상승 및 외부 방문객 증가  \n",
      "  - 전통문화 보존 및 지역 정체성 확립  \n",
      "- **단점**:  \n",
      "  - 계절이나 외부 요인에 따라 경제적 변동성 큼  \n",
      "  - 초기 투자 및 마케팅 비용 부담  \n",
      "  - 관광객 유치에 실패하면 효과 제한적  \n",
      "\n",
      "### 3. 청년 창업 지원 및 정주 환경 개선  \n",
      "- **장점**:  \n",
      "  - 지역 내 혁신과 경제 활성화 촉진  \n",
      "  - 청년층 인구 유입 및 정착 유도  \n",
      "  - 다양한 산업 분야로의 확장 가능성  \n",
      "- **단점**:  \n",
      "  - 창업 실패 위험 및 지속가능성 문제  \n",
      "  - 정주 환경(교육, 의료, 문화시설) 개선에 많은 시간과 비용 소요  \n",
      "  - 초기에는 가시적 성과가 느릴 수 있음  \n",
      "\n",
      "---\n",
      "\n",
      "### 가장 유망한 아이디어: 3. 청년 창업 지원 및 정주 환경 개선\n",
      "\n",
      "**상세 설명:**  \n",
      "청년층 유입과 정착은 인구 감소 문제를 근본적으로 해결할 수 있는 핵심 전략입니다. 지방 도시는 기존 대도시와 차별화된 삶의 질과 창업 기회를 제공함으로써 젊은 인재들을 끌어들일 수 있습니다. 이를 위해 지방 정부 및 민간이 협력해 창업 자금 지원, 창업 교육, 멘토링 프로그램을 확대하고, 주거 환경 개선(저렴하고 질 좋은 주택 공급), 교육·의료·문화 인프라 확충에 힘써야 합니다.  \n",
      "\n",
      "또한, 지역 내 기존 산업과 연계한 창업 모델 개발 및 로컬 네트워크 구축도 중요합니다. 예를 들어, 농업, 관광, IT, 제조업 등 지역 특성에 맞는 스타트업 생태계를 조성하여 창업 성공률을 높이고, 창업가들이 지역에 남아 지속적으로 성장할 수 있는 환경을 만들어야 합니다.  \n",
      "\n",
      "이 방법은 단기적 효과는 느릴 수 있으나, 장기적으로 인구 증가와 경제 활성화, 지역 공동체 재생에 가장 긍정적인 영향을 미칠 수 있습니다.  \n",
      "\n",
      "---\n",
      "\n",
      "필요 시 추가 구체적 실행 방안도 제안해드릴 수 있습니다.\n"
     ]
    }
   ],
   "source": [
    "tot_prompt = ChatPromptTemplate.from_template(\n",
    "    \"\"\"문제: {problem}\n",
    "\n",
    "이 문제를 해결할 수 있는 3가지 아이디어를 생각해보세요:\n",
    "1. \n",
    "2. \n",
    "3. \n",
    "\n",
    "각 아이디어의 장단점을 비교한 후, 가장 유망한 아이디어 하나를 선택하여 자세히 설명해주세요.\"\"\"\n",
    ")\n",
    "\n",
    "chain = tot_prompt | llm | StrOutputParser()\n",
    "output = chain.invoke({\"problem\": \"인구가 줄어드는 지방 도시를 활성화할 수 있는 방법은?\"})\n",
    "print(output)"
   ]
  },
  {
   "cell_type": "code",
   "execution_count": null,
   "id": "22d2ae0c",
   "metadata": {},
   "outputs": [],
   "source": []
  }
 ],
 "metadata": {
  "kernelspec": {
   "display_name": "Python 3",
   "language": "python",
   "name": "python3"
  },
  "language_info": {
   "codemirror_mode": {
    "name": "ipython",
    "version": 3
   },
   "file_extension": ".py",
   "mimetype": "text/x-python",
   "name": "python",
   "nbconvert_exporter": "python",
   "pygments_lexer": "ipython3",
   "version": "3.12.0"
  }
 },
 "nbformat": 4,
 "nbformat_minor": 5
}
