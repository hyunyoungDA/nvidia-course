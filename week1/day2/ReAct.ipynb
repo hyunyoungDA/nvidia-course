{
 "cells": [
  {
   "cell_type": "code",
   "execution_count": 1,
   "id": "a87b5ec8",
   "metadata": {},
   "outputs": [],
   "source": [
    "from dotenv import load_dotenv\n",
    "import os\n",
    "\n",
    "from langchain_core.prompts import ChatPromptTemplate\n",
    "from langchain_openai import ChatOpenAI\n",
    "from langchain_core.output_parsers import StrOutputParser\n",
    "from langchain.tools import Tool # Tool, 즉 외부 도구를 사용하여 Reasoning + Acting 에이전트 구현 가능 \n",
    "from langchain.agents import initialize_agent, AgentType\n",
    "from langchain_core.runnables import Runnable, RunnableLambda\n",
    "\n",
    "load_dotenv(\"../../.env\")\n",
    "api_key = os.getenv(\"OPEN_API_KEY\")"
   ]
  },
  {
   "cell_type": "code",
   "execution_count": 3,
   "id": "5721ea89",
   "metadata": {},
   "outputs": [],
   "source": [
    "# 1. LLM 구성 (gpt-4.1-mini-2025-04-14)\n",
    "llm = ChatOpenAI(model=\"gpt-4.1-mini-2025-04-14\", temperature=0.7, api_key=api_key)"
   ]
  },
  {
   "cell_type": "code",
   "execution_count": null,
   "id": "18c3527a",
   "metadata": {},
   "outputs": [],
   "source": [
    "# 계산기 툴 정의 \n",
    "def calculator_tool(input: str) -> str:\n",
    "  try:\n",
    "    return str(eval(input)) # 문자열 수식을 eval()로 계산 \n",
    "  except Exception as e:\n",
    "    return f\"계산 오류: {str(e)}\""
   ]
  },
  {
   "cell_type": "code",
   "execution_count": null,
   "id": "9ce7416c",
   "metadata": {},
   "outputs": [
    {
     "name": "stderr",
     "output_type": "stream",
     "text": [
      "C:\\Users\\user\\AppData\\Local\\Temp\\ipykernel_3276\\2347630947.py:7: LangChainDeprecationWarning: LangChain agents will continue to be supported, but it is recommended for new use cases to be built with LangGraph. LangGraph offers a more flexible and full-featured framework for building agents, including support for tool-calling, persistence of state, and human-in-the-loop workflows. For details, refer to the `LangGraph documentation <https://langchain-ai.github.io/langgraph/>`_ as well as guides for `Migrating from AgentExecutor <https://python.langchain.com/docs/how_to/migrate_agent/>`_ and LangGraph's `Pre-built ReAct agent <https://langchain-ai.github.io/langgraph/how-tos/create-react-agent/>`_.\n",
      "  agent = initialize_agent(\n"
     ]
    }
   ],
   "source": [
    "# Tool.from_function을 통해 calculator_tool 함수를 LangChain Agent가 사용할 수 있는 도구로 변환 \n",
    "calculator = Tool.from_function(\n",
    "  func = calculator_tool,\n",
    "  name = \"Calculator\",\n",
    "  description = \"산술 연산을 수행하는 계산기입니다. 예: 2024 - 1945\" # LLM에게 힌트 제공 \n",
    ")\n",
    "\n",
    "# Agent\n",
    "agent = initialize_agent(\n",
    "  tools = [calculator],\n",
    "  llm = llm,\n",
    "  # 해당 agent는 설명 긱반 도구 선택 방식으로, Agent가 description을 기반으로 도구를 선택함 \n",
    "  agent = AgentType.ZERO_SHOT_REACT_DESCRIPTION,\n",
    "  verbose = True,\n",
    ")"
   ]
  },
  {
   "cell_type": "code",
   "execution_count": 6,
   "id": "e829cd74",
   "metadata": {},
   "outputs": [
    {
     "name": "stderr",
     "output_type": "stream",
     "text": [
      "C:\\Users\\user\\AppData\\Local\\Temp\\ipykernel_3276\\4046511254.py:2: LangChainDeprecationWarning: The method `Chain.run` was deprecated in langchain 0.1.0 and will be removed in 1.0. Use :meth:`~invoke` instead.\n",
      "  res = agent.run(question)\n"
     ]
    },
    {
     "name": "stdout",
     "output_type": "stream",
     "text": [
      "\n",
      "\n",
      "\u001b[1m> Entering new AgentExecutor chain...\u001b[0m\n",
      "\u001b[32;1m\u001b[1;3mQuestion: 광복절은 1945년에 있었어요. 2024년은 몇 주년인가요?\n",
      "Thought: 2024년에서 1945년을 빼면 몇 주년인지 알 수 있다.\n",
      "Action: Calculator\n",
      "Action Input: 2024 - 1945\u001b[0m\n",
      "Observation: \u001b[36;1m\u001b[1;3m79\u001b[0m\n",
      "Thought:\u001b[32;1m\u001b[1;3mThought: 1945년부터 2024년까지 79년이 지났으므로, 2024년은 광복절 79주년이다.\n",
      "Final Answer: 2024년은 광복절 79주년입니다.\u001b[0m\n",
      "\n",
      "\u001b[1m> Finished chain.\u001b[0m\n",
      "2024년은 광복절 79주년입니다.\n"
     ]
    }
   ],
   "source": [
    "question = \"광복절은 1945년에 있었어요. 2024년은 몇 주년인가요?\"\n",
    "res = agent.run(question)\n",
    "print(res)"
   ]
  }
 ],
 "metadata": {
  "kernelspec": {
   "display_name": "Python 3",
   "language": "python",
   "name": "python3"
  },
  "language_info": {
   "codemirror_mode": {
    "name": "ipython",
    "version": 3
   },
   "file_extension": ".py",
   "mimetype": "text/x-python",
   "name": "python",
   "nbconvert_exporter": "python",
   "pygments_lexer": "ipython3",
   "version": "3.12.0"
  }
 },
 "nbformat": 4,
 "nbformat_minor": 5
}
