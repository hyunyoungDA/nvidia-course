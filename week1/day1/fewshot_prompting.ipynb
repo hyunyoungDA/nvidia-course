{
 "cells": [
  {
   "cell_type": "code",
   "execution_count": 2,
   "id": "c453556e",
   "metadata": {},
   "outputs": [],
   "source": [
    "from dotenv import load_dotenv\n",
    "import os\n",
    "\n",
    "from langchain_core.prompts import ChatPromptTemplate\n",
    "from langchain_openai import ChatOpenAI\n",
    "from langchain_core.output_parsers import StrOutputParser\n",
    "\n",
    "load_dotenv(\"../../.env\")\n",
    "api_key = os.getenv(\"OPEN_API_KEY\")\n",
    "\n",
    "llm = ChatOpenAI(\n",
    "  model = \"gpt-4.1-mini-2025-04-14\", \n",
    "  temperature = 0.7, \n",
    "  max_completion_tokens=100,\n",
    "  api_key=api_key)\n",
    "\n",
    "fewshot_prompt = ChatPromptTemplate.from_messages([\n",
    "  (\"system\", \"당신은 한국 속담 전문가입니다.\"),\n",
    "  (\"user\", \"가는 말이 고와야 오는 말이 곱다\"),\n",
    "  (\"assistant\", \"상대방에게 좋은 말을 해야, 상대방도 나에게 좋은 말을 해준다는 의미입니다.\"),\n",
    "  (\"user\",\"호랑이도 제 말 하면 온다\"),\n",
    "  (\"assistant\",\"다른 사람 이야기를 하고 잇는데, 마침 그 사람이 나타난다는 뜻입니다.\"),\n",
    "  (\"user\", \"{proverb}\")  \n",
    "])"
   ]
  },
  {
   "cell_type": "code",
   "execution_count": 3,
   "id": "dcdb6ec1",
   "metadata": {},
   "outputs": [
    {
     "name": "stdout",
     "output_type": "stream",
     "text": [
      "가까이 있는 것이 오히려 잘 보이지 않거나 잘 모른다는 뜻입니다. 가까운 곳에 있는 일이나 사람을 소홀히 하기 쉽다는 교훈을 담고 있습니다.\n"
     ]
    }
   ],
   "source": [
    "chain = fewshot_prompt | llm | StrOutputParser()\n",
    "\n",
    "output = chain.invoke({\"proverb\": \"등잔 밑이 어둡다\"})\n",
    "print(output)"
   ]
  },
  {
   "cell_type": "markdown",
   "id": "15f56549",
   "metadata": {},
   "source": [
    "## 실습 문제 1: Few-shot Prompting 활용 - 감정 분류기 만들기\n",
    "\n",
    "다음과 같은 예시를 바탕으로, 주어진 문장이 어떤 감정인지 분류하세요.\n",
    "모델이 기쁨, 슬픔, 분노, 놀람 중 하나로 분류해야 합니다.\n",
    "\n",
    "- 예시: -> \"오늘 좋은 일이 생겼어!\" → 기쁨\n",
    "- -> \"정말 화나!\" → 분노\n",
    "- -> \"너무 슬퍼서 눈물이 나.\" → 슬픔\n",
    "\n",
    "- 질문: \"갑자기 연락이 끊겨서 너무 당황스러웠어.\"\n",
    "- Few-shot 방식으로 감정을 분류하시오."
   ]
  },
  {
   "cell_type": "code",
   "execution_count": null,
   "id": "0cc1cf31",
   "metadata": {},
   "outputs": [],
   "source": [
    "prompt = ChatPromptTemplate.from_messages([\n",
    "    (\"system\",\"당신은 감정 분류 전문가입니다.\"),\n",
    "    (\"user\",\"오늘 좋은 일이 생겼어\"),\n",
    "    (\"assistant\",\"기쁨\"),\n",
    "    (\"user\",\"정말 화나!\"),\n",
    "    (\"assistant\",\"분노\"),\n",
    "    (\"user\", \"너무 슬퍼서 눈물이 나.\"),\n",
    "    ('assistant',\"슬픔\"),\n",
    "    (\"user\",\"{chat}\")\n",
    "])\n",
    "chain = prompt | llm | StrOutputParser()\n",
    "print(chain.invoke({\"chat\":\"갑자기 연락이 끊겨서 너무 당황스러웠어\"})) # 출력 : 놀람"
   ]
  },
  {
   "cell_type": "code",
   "execution_count": null,
   "id": "b2f34cda",
   "metadata": {},
   "outputs": [],
   "source": [
    "prompt = ChatPromptTemplate.from_messages([\n",
    "    (\"system\",\"당신은 감정 분류 전문가입니다.\"),\n",
    "    (\"user\",\"오늘 좋은 일이 생겼어\"),\n",
    "    (\"assistant\",\"기쁨\"),\n",
    "    (\"user\",\"정말 화나!\"),\n",
    "    (\"assistant\",\"분노\"),\n",
    "    (\"user\", \"너무 슬퍼서 눈물이 나.\"),\n",
    "    ('assistant',\"슬픔\"),\n",
    "    (\"user\",\"{question}\")\n",
    "])\n",
    "chain = prompt | llm | StrOutputParser()\n",
    "print(chain.invoke({\"question\":\"나 오늘 시험 100점 맞았어\"})) "
   ]
  }
 ],
 "metadata": {
  "kernelspec": {
   "display_name": "Python 3",
   "language": "python",
   "name": "python3"
  },
  "language_info": {
   "codemirror_mode": {
    "name": "ipython",
    "version": 3
   },
   "file_extension": ".py",
   "mimetype": "text/x-python",
   "name": "python",
   "nbconvert_exporter": "python",
   "pygments_lexer": "ipython3",
   "version": "3.12.0"
  }
 },
 "nbformat": 4,
 "nbformat_minor": 5
}
