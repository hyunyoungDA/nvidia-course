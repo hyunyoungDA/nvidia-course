{
 "cells": [
  {
   "cell_type": "markdown",
   "id": "695ca395",
   "metadata": {},
   "source": [
    "## NumPy 배열 생성"
   ]
  },
  {
   "cell_type": "code",
   "execution_count": null,
   "id": "d3241349",
   "metadata": {},
   "outputs": [
    {
     "name": "stdout",
     "output_type": "stream",
     "text": [
      "array1:[1 2 3]\n",
      "array1 shape: (3,)\n",
      "\n",
      "array2: [[1 2 3]\n",
      " [4 5 6]]\n",
      "array2 shape: (2, 3)\n",
      "\n",
      "array3: [[1 2 3]]\n",
      "array3 shape: (1, 3)\n",
      "\n"
     ]
    }
   ],
   "source": [
    "import numpy as np\n",
    "\n",
    "# 1차원 배열 \n",
    "array1 = np.array([1,2,3])\n",
    "print(f\"array1:{array1}\")\n",
    "print(f\"array1 shape: {array1.shape}\\n\")\n",
    "\n",
    "# 2차원 배열 \n",
    "array2 = np.array([[1,2,3],\n",
    "                   [4,5,6]])\n",
    "print(f'array2: {array2}')\n",
    "print(f\"array2 shape: {array2.shape}\\n\")\n",
    "\n",
    "# array1과의 차이를 이해 \n",
    "array3 = np.array([[1,2,3]])\n",
    "print(f'array3: {array3}')\n",
    "print(f\"array3 shape: {array3.shape}\\n\")"
   ]
  },
  {
   "cell_type": "code",
   "execution_count": 5,
   "id": "53a678ac",
   "metadata": {},
   "outputs": [
    {
     "name": "stdout",
     "output_type": "stream",
     "text": [
      "array1 dim: 1\n",
      "array3 dim: 2\n"
     ]
    }
   ],
   "source": [
    "print(f\"array1 dim: {array1.ndim}\")\n",
    "print(f\"array3 dim: {array3.ndim}\")"
   ]
  },
  {
   "cell_type": "markdown",
   "id": "eb1b60ab",
   "metadata": {},
   "source": [
    "## ndarray의 데이터 타입\n",
    "\n",
    "숫자, 문자열, bool 모두 가능하되, ndarray내의 데이터 타입은 그 연산의 특성상 같은 데이터 타입만 가능하다.\n",
    "- 다른 데이터 유형이 섞여 있는 리스트를 변경하면 데이터 크기가 더 큰 데이터 타입으로 형변환 일괄 적용 "
   ]
  },
  {
   "cell_type": "code",
   "execution_count": 7,
   "id": "c39e8579",
   "metadata": {},
   "outputs": [
    {
     "name": "stdout",
     "output_type": "stream",
     "text": [
      "<class 'list'>\n",
      "<class 'numpy.ndarray'>\n",
      "[1 2 3] int32\n"
     ]
    }
   ],
   "source": [
    "list1 = [1,2,3]\n",
    "print(type(list1))\n",
    "\n",
    "array1 = np.array(list1)\n",
    "print(type(array1))\n",
    "print(array1, array1.dtype)"
   ]
  },
  {
   "cell_type": "code",
   "execution_count": null,
   "id": "60695770",
   "metadata": {},
   "outputs": [
    {
     "name": "stdout",
     "output_type": "stream",
     "text": [
      "['1' '2' 'test'] <U11\n",
      "[1. 2. 3.] float64\n"
     ]
    }
   ],
   "source": [
    "list2 = [1,2,'test']\n",
    "array2 = np.array(list2)\n",
    "print(array2, array2.dtype) # int와 string 중 string으로 형변환 \n",
    "\n",
    "list3 = [1, 2, 3.]\n",
    "array3 = np.array(list3)\n",
    "print(array3, array3.dtype) # int와 float 중 float으로 형변환"
   ]
  },
  {
   "cell_type": "code",
   "execution_count": 10,
   "id": "075d4566",
   "metadata": {},
   "outputs": [
    {
     "name": "stdout",
     "output_type": "stream",
     "text": [
      "변환 전:int32\n",
      "변환 후:float64\n"
     ]
    }
   ],
   "source": [
    "## data type 변경 가능\n",
    "\n",
    "array_int = np.array([1,2,3])\n",
    "array_float = array_int.astype('float64')\n",
    "print(f\"변환 전:{array_int.dtype}\")\n",
    "print(f\"변환 후:{array_float.dtype}\")"
   ]
  },
  {
   "cell_type": "markdown",
   "id": "accfaef4",
   "metadata": {},
   "source": [
    "## ndarray 생성 (arange, zeros, ones)"
   ]
  },
  {
   "cell_type": "code",
   "execution_count": null,
   "id": "0afc6d78",
   "metadata": {},
   "outputs": [
    {
     "name": "stdout",
     "output_type": "stream",
     "text": [
      "[0 1 2 3 4 5 6 7 8 9]\n",
      "int32 (10,)\n",
      "[1 2 3 4 5 6 7 8 9]\n",
      "int32 (9,)\n"
     ]
    }
   ],
   "source": [
    "sequence_array = np.arange(10)\n",
    "print(sequence_array)\n",
    "print(sequence_array.dtype, sequence_array.shape)\n",
    "\n",
    "sequence_array2 = np.arange(start=1, stop = 10) # start, stop, step 등 정의 가능 \n",
    "print(sequence_array2)\n",
    "print(sequence_array2.dtype, sequence_array2.shape)"
   ]
  },
  {
   "cell_type": "code",
   "execution_count": 18,
   "id": "2f79c62e",
   "metadata": {},
   "outputs": [
    {
     "name": "stdout",
     "output_type": "stream",
     "text": [
      "int32 (3, 2)\n",
      "6\n",
      "[[0 0]\n",
      " [0 0]\n",
      " [0 0]]\n",
      "==============================\n",
      "float64 (3, 2)\n",
      "[[1. 1.]\n",
      " [1. 1.]\n",
      " [1. 1.]]\n"
     ]
    }
   ],
   "source": [
    "zero_array = np.zeros((3,2), dtype = \"int32\")\n",
    "print(zero_array.dtype, zero_array.shape) # zero_array 데이터 타입, 형태 \n",
    "print(zero_array.size) # array의 크기 \n",
    "print(zero_array)\n",
    "\n",
    "print(\"=\"* 30)\n",
    "\n",
    "ones_array = np.ones((3,2), dtype = \"float64\")\n",
    "print(ones_array.dtype, ones_array.shape)\n",
    "print(ones_array)"
   ]
  },
  {
   "cell_type": "markdown",
   "id": "3815c756",
   "metadata": {},
   "source": [
    "## ndarray 차원과 크기 변경\n",
    "- `reshape()`는 지정된 사이즈로 변경이 불가능하면 오류 발생\n",
    "  - 예를 들어, (10,) 형태의 ndarray를 (3,4) Shape 형태로 변경할 수 없다. \n",
    "- 실전에서는 인자를 -1로 하여 원래 ndarray와 호환되는 새로운 shape 반환"
   ]
  },
  {
   "cell_type": "code",
   "execution_count": 22,
   "id": "9e965f6e",
   "metadata": {},
   "outputs": [
    {
     "name": "stdout",
     "output_type": "stream",
     "text": [
      "array1:\n",
      "[0 1 2 3 4 5 6 7 8 9]\n",
      "==============================\n",
      "array2:\n",
      "[[0 1 2 3 4]\n",
      " [5 6 7 8 9]]\n",
      "==============================\n",
      "array3:\n",
      "[[0 1]\n",
      " [2 3]\n",
      " [4 5]\n",
      " [6 7]\n",
      " [8 9]]\n"
     ]
    }
   ],
   "source": [
    "array1 = np.arange(10)\n",
    "print(f\"array1:\\n{array1}\")\n",
    "print(\"=\" * 30)\n",
    "\n",
    "array2 = array1.reshape(2,5) # array1의 1차원 ndarray를 5 row, 2 column의 형태로 변환 \n",
    "print(f\"array2:\\n{array2}\")\n",
    "print(\"=\" * 30)\n",
    "\n",
    "array3 = array1.reshape(5,2)\n",
    "print(f\"array3:\\n{array3}\")"
   ]
  },
  {
   "cell_type": "code",
   "execution_count": null,
   "id": "aa7c2062",
   "metadata": {},
   "outputs": [
    {
     "name": "stdout",
     "output_type": "stream",
     "text": [
      "[0 1 2 3 4 5 6 7 8 9]\n",
      "array2:\n",
      "[[0 1 2 3 4]\n",
      " [5 6 7 8 9]]\n"
     ]
    }
   ],
   "source": [
    "array1 = np.arange(10)\n",
    "print(array1)\n",
    "\n",
    "array2 = array1.reshape(-1, 5) # -1 인자가 원래 ndarray의 Shape에 맞게 자동으로 변환 \n",
    "print(f\"array2:\\n{array2}\")"
   ]
  },
  {
   "cell_type": "markdown",
   "id": "eb8bc786",
   "metadata": {},
   "source": [
    "## ndarray 결합과 분리"
   ]
  },
  {
   "cell_type": "code",
   "execution_count": 39,
   "id": "872e107a",
   "metadata": {},
   "outputs": [
    {
     "name": "stdout",
     "output_type": "stream",
     "text": [
      "[[0 1 2 3]\n",
      " [4 5 6 7]]\n",
      "shape :  (2, 4) \n",
      "\n",
      "두 개의 배열 세로로 결합:\n",
      " [[0 1 2 3]\n",
      " [4 5 6 7]\n",
      " [0 1 2 3]\n",
      " [4 5 6 7]]\n",
      "두 개의 배열을 가로로 결합:\n",
      " [[0 1 2 3 0 1 2 3]\n",
      " [4 5 6 7 4 5 6 7]]\n"
     ]
    }
   ],
   "source": [
    "matrix = np.array([[0,1,2,3],\n",
    "                   [4,5,6,7]])\n",
    "print(matrix)\n",
    "print(\"shape : \", matrix.shape, \"\\n\")\n",
    "\n",
    "m = np.concatenate((matrix, matrix), axis = 0) # axis 0축(row)을 기준으로 결합, 즉 두 배열을 세로로 결합\n",
    "print(f\"두 개의 배열 세로로 결합:\\n {m}\")\n",
    "\n",
    "n = np.concatenate((matrix, matrix), axis = 1) # axis 1축(column)을 기준으로 결합, 즉 두 배열을 가로로 결합\n",
    "print(f\"두 개의 배열을 가로로 결합:\\n {n}\")"
   ]
  },
  {
   "cell_type": "code",
   "execution_count": 36,
   "id": "64afe0e5",
   "metadata": {},
   "outputs": [
    {
     "name": "stdout",
     "output_type": "stream",
     "text": [
      "[[ 0  1  2  3]\n",
      " [ 4  5  6  7]\n",
      " [ 8  9 10 11]\n",
      " [12 13 14 15]] \n",
      "\n",
      "[[ 0  1  2  3]\n",
      " [ 4  5  6  7]\n",
      " [ 8  9 10 11]] \n",
      "\n",
      "[[12 13 14 15]] \n",
      "\n",
      "==============================\n",
      "[[ 0]\n",
      " [ 4]\n",
      " [ 8]\n",
      " [12]] \n",
      "\n",
      "[[ 1  2  3]\n",
      " [ 5  6  7]\n",
      " [ 9 10 11]\n",
      " [13 14 15]] \n",
      "\n"
     ]
    }
   ],
   "source": [
    "matrix = np.array([[ 0, 1, 2, 3],\n",
    "                   [ 4, 5, 6, 7],\n",
    "                   [ 8, 9,10,11], \n",
    "                   [12,13,14,15]])\n",
    "print(matrix, \"\\n\")\n",
    "\n",
    "a, b = np.split(matrix, [3], axis = 0) # matrix를 [3]행에서 axis = 0으로 나누기\n",
    "print(a, \"\\n\")\n",
    "print(b, \"\\n\")\n",
    "print(\"=\" * 30)\n",
    "\n",
    "c, d = np.split(matrix, [1], axis = 1) # matrix를 [1]행에서 axis = 1으로 나누기\n",
    "print(c, \"\\n\")\n",
    "print(d, \"\\n\")"
   ]
  },
  {
   "cell_type": "markdown",
   "id": "83000f6e",
   "metadata": {},
   "source": [
    "## ndarray를 list로 변환"
   ]
  },
  {
   "cell_type": "code",
   "execution_count": 25,
   "id": "3fd0edfd",
   "metadata": {},
   "outputs": [
    {
     "name": "stdout",
     "output_type": "stream",
     "text": [
      "array3d:\n",
      " [[[0 1]\n",
      "  [2 3]]\n",
      "\n",
      " [[4 5]\n",
      "  [6 7]]]\n",
      "array3d_to_list:\n",
      "[[[0, 1], [2, 3]], [[4, 5], [6, 7]]]\n"
     ]
    }
   ],
   "source": [
    "array1 = np.arange(8)\n",
    "array3d = array1.reshape((2,2,2))\n",
    "print(f\"array3d:\\n {array3d}\")\n",
    "\n",
    "array3d_to_list = array3d.tolist() # tolist() 메서드를 이용하여 리스트 자료형으로 변환 \n",
    "print(f\"array3d_to_list:\\n{array3d_to_list}\")"
   ]
  },
  {
   "cell_type": "markdown",
   "id": "f677f4fb",
   "metadata": {},
   "source": [
    "## 인덱싱(Indexing)\n",
    "- 슬라이싱(Slicing)\n",
    "- 팬시 인덱싱(Fancy Indexing)\n",
    "- 불린 인덱싱(Boolean Indexing)\n",
    "\n",
    "---\n",
    "## 축(axis)\n",
    "- axis 0은 로우 방향의 축을 의미하며, axis 1은 컬럼 방향의 축을 의미\n",
    "  - 2차원에서는 axis 0, axis 1로 2개의 축을 가지게 된다(행, 열)\n",
    "  - 3차원에서는 axis 0, axis 1, axis 2로 3개의 축을 가지게 된다(행, 열, 높이)"
   ]
  },
  {
   "cell_type": "code",
   "execution_count": 27,
   "id": "7a0e2233",
   "metadata": {},
   "outputs": [
    {
     "name": "stdout",
     "output_type": "stream",
     "text": [
      "array1: [1 2 3 4 5 6 7 8 9]\n",
      "value: 3\n",
      "<class 'numpy.int32'>\n"
     ]
    }
   ],
   "source": [
    "array1 = np.arange(start = 1, stop = 10)\n",
    "print(f\"array1: {array1}\")\n",
    "\n",
    "value = array1[2] # 단일 값 추출\n",
    "print(f\"value: {value}\")\n",
    "print(type(value))"
   ]
  },
  {
   "cell_type": "code",
   "execution_count": 30,
   "id": "dce9b6c8",
   "metadata": {},
   "outputs": [
    {
     "name": "stdout",
     "output_type": "stream",
     "text": [
      "array2:\n",
      " [[1 2 3]\n",
      " [4 5 6]\n",
      " [7 8 9]]\n",
      "(axis 0= 0, axis 1= 0) indexing: 1\n",
      "(axis 0= 1, axis 1= 0) indexing: 4\n",
      "(axis 0= 2, axis 1= 1) indexing: 8\n"
     ]
    }
   ],
   "source": [
    "array1d = np.arange(start = 1, stop = 10)\n",
    "array2 = array1d.reshape(-1, 3)\n",
    "print(f\"array2:\\n {array2}\")\n",
    "\n",
    "# 2차원 행렬 (matrix) 인덱싱 \n",
    "print(f\"(axis 0= 0, axis 1= 0) indexing: {array2[0,0]}\")\n",
    "print(f\"(axis 0= 1, axis 1= 0) indexing: {array2[1,0]}\")\n",
    "print(f\"(axis 0= 2, axis 1= 1) indexing: {array2[2,1]}\")"
   ]
  },
  {
   "cell_type": "code",
   "execution_count": null,
   "id": "c752bead",
   "metadata": {},
   "outputs": [
    {
     "name": "stdout",
     "output_type": "stream",
     "text": [
      "array3:\n",
      " [6 7 8 9]\n"
     ]
    }
   ],
   "source": [
    "# Boolean indexing\n",
    "\n",
    "array1d = np.arange(start = 1, stop = 10)\n",
    "array3 = array1d[array1d > 5] # 5 이상인 데이터만 인덱싱 \n",
    "print(f\"array3:\\n {array3}\")"
   ]
  },
  {
   "cell_type": "markdown",
   "id": "c4b595b1",
   "metadata": {},
   "source": [
    "## 행렬의 정렬 \n",
    "- `np.sort`: 넘파이에서 sort()를 호출하는 방식\n",
    "- `ndarray.sort`: ndarray 행렬 자체에서 sort()를 호출하는 방식\n",
    "- `argsort`: 정렬된 행렬의 인덱스 반환 "
   ]
  },
  {
   "cell_type": "code",
   "execution_count": null,
   "id": "1bd323de",
   "metadata": {},
   "outputs": [
    {
     "name": "stdout",
     "output_type": "stream",
     "text": [
      "원본 행렬: [3 1 9 5]\n",
      "정렬된 행렬: [1 3 5 9]\n",
      "org_array.sort() 호출 후 반환된 행렬: None\n",
      "org_array.sort() 호출 후 원본 행렬: [1 3 5 9]\n",
      "내림차순 정렬: [9 5 3 1]\n"
     ]
    }
   ],
   "source": [
    "org_array = np.array([3,1,9,5])\n",
    "print(f\"원본 행렬: {org_array}\")\n",
    "\n",
    "sort_array1 = np.sort(org_array) # 원 행렬을 그대로 유지한 채 원 행렬의 정렬된 행렬 반환\n",
    "print(f\"정렬된 행렬: {sort_array1}\")\n",
    "\n",
    "sort_array2 = org_array.sort() # 원 행렬 자체를 정렬하므로 return 값 존재하지 않음\n",
    "print(f\"org_array.sort() 호출 후 반환된 행렬: {sort_array2}\")\n",
    "print(f\"org_array.sort() 호출 후 원본 행렬: {org_array}\")\n",
    "\n",
    "# 내림차순 정렬\n",
    "sort_array1_desc = np.sort(org_array)[::-1]\n",
    "print(f\"내림차순 정렬: {sort_array1_desc}\")"
   ]
  },
  {
   "cell_type": "code",
   "execution_count": 49,
   "id": "2c04f288",
   "metadata": {},
   "outputs": [
    {
     "name": "stdout",
     "output_type": "stream",
     "text": [
      "원본 행렬:\n",
      "[[ 8 12]\n",
      " [ 7  1]]\n",
      "\n",
      "axis 0축을 기준으로 정렬:\n",
      " [[ 7  1]\n",
      " [ 8 12]]\n",
      "\n",
      "axis 1축을 기준으로 정렬:\n",
      " [[ 8 12]\n",
      " [ 1  7]]\n"
     ]
    }
   ],
   "source": [
    "## 행렬이 2차원 이상일 경우 axis 0, axis 1등의 축 값 설정을 통해 row 또는 column 방향으로 정렬 가능\n",
    "array2d = np.array([[8,12],\n",
    "                    [7,1]])\n",
    "print(f\"원본 행렬:\\n{array2d}\\n\")\n",
    "\n",
    "sort_array2d_axis0 = np.sort(array2d, axis = 0) # axis 0, 즉 로우를 기준으로 정렬\n",
    "print(f\"axis 0축을 기준으로 정렬:\\n {sort_array2d_axis0}\\n\")\n",
    "\n",
    "sort_array2d_axis1 = np.sort(array2d, axis = 1) # axis 1, 즉 컬럼을 기준으로 정렬\n",
    "print(f\"axis 1축을 기준으로 정렬:\\n {sort_array2d_axis1}\")"
   ]
  },
  {
   "cell_type": "code",
   "execution_count": 51,
   "id": "befeb7b2",
   "metadata": {},
   "outputs": [
    {
     "name": "stdout",
     "output_type": "stream",
     "text": [
      "<class 'numpy.ndarray'>\n",
      "행렬 정렬 시 원본 행렬의 인덱스:[1 0 3 2]\n",
      "행렬 내림차순 정렬 시 원본 행렬의 인덱스:[2 3 0 1]\n"
     ]
    }
   ],
   "source": [
    "org_array = np.array([3,1,9,5])\n",
    "sort_idx = np.argsort(org_array)\n",
    "print(type(sort_idx))\n",
    "print(f\"행렬 정렬 시 원본 행렬의 인덱스:{sort_idx}\")\n",
    "\n",
    "sort_idx_desc = np.argsort(org_array)[::-1]\n",
    "print(f\"행렬 내림차순 정렬 시 원본 행렬의 인덱스:{sort_idx_desc}\")"
   ]
  },
  {
   "cell_type": "markdown",
   "id": "60e1050e",
   "metadata": {},
   "source": [
    "## 행렬 내적"
   ]
  },
  {
   "cell_type": "code",
   "execution_count": 52,
   "id": "fc1aecec",
   "metadata": {},
   "outputs": [
    {
     "name": "stdout",
     "output_type": "stream",
     "text": [
      "행렬 내적 결과: [[ 58  64]\n",
      " [139 154]]\n"
     ]
    }
   ],
   "source": [
    "A = np.array([[1,2,3],\n",
    "              [4,5,6]])\n",
    "B = np.array([[7,8],\n",
    "              [9,10],\n",
    "              [11,12]])\n",
    "dot_product = np.dot(A,B)\n",
    "\n",
    "print(f\"행렬 내적 결과: {dot_product}\")"
   ]
  },
  {
   "cell_type": "markdown",
   "id": "244c2436",
   "metadata": {},
   "source": [
    "## 전치 행렬"
   ]
  },
  {
   "cell_type": "code",
   "execution_count": 54,
   "id": "f70c5402",
   "metadata": {},
   "outputs": [
    {
     "name": "stdout",
     "output_type": "stream",
     "text": [
      "A의 전치 행렬: \n",
      "[[1 3]\n",
      " [2 4]]\n",
      "A의 전치 행렬: \n",
      "[[1 3]\n",
      " [2 4]]\n"
     ]
    }
   ],
   "source": [
    "A = np.array([[1,2],\n",
    "              [3,4]])\n",
    "transpose_mat = np.transpose(A)\n",
    "print(f\"A의 전치 행렬: \\n{transpose_mat}\")\n",
    "\n",
    "transpose_mat2 = A.T\n",
    "print(f\"A의 전치 행렬: \\n{transpose_mat2}\")"
   ]
  },
  {
   "cell_type": "markdown",
   "id": "65824784",
   "metadata": {},
   "source": [
    "## NumPy 연산\n",
    "- Broadcasting: Shape이 다른 array끼리 연산할 때, 부족한 shape을 동일한 값으로 채워 연산을 수행함"
   ]
  },
  {
   "cell_type": "code",
   "execution_count": null,
   "id": "bff6a220",
   "metadata": {},
   "outputs": [
    {
     "name": "stdout",
     "output_type": "stream",
     "text": [
      "array1에 5를 더한 배열: [ 6  7  8  9 10]\n",
      "array1에 5를 뺀 배열: [-4 -3 -2 -1  0]\n",
      "array1에 5를 곱한 배열: [ 5 10 15 20 25]\n",
      "array1에 5를 나눈 배열: [0.2 0.4 0.6 0.8 1. ]\n",
      "[[ 7  9  7]\n",
      " [11 10 14]\n",
      " [14  9 12]]\n"
     ]
    }
   ],
   "source": [
    "array1 = np.arange(start = 1, stop = 6)\n",
    "\n",
    "print(f\"array1에 5를 더한 배열: {array1 + 5}\")\n",
    "print(f\"array1에 5를 뺀 배열: {array1 - 5}\")\n",
    "print(f\"array1에 5를 곱한 배열: {array1 * 5}\")\n",
    "print(f\"array1에 5를 나눈 배열: {array1 / 5}\")\n",
    "\n",
    "# 행렬\n",
    "matrix = np.array([[2,4,2],\n",
    "                   [6,5,9],\n",
    "                   [9,4,7]])\n",
    "\n",
    "print(matrix + 5)"
   ]
  },
  {
   "cell_type": "code",
   "execution_count": 62,
   "id": "1151c78e",
   "metadata": {},
   "outputs": [
    {
     "name": "stdout",
     "output_type": "stream",
     "text": [
      "배열 A:\n",
      "[[0 1]\n",
      " [2 3]\n",
      " [4 5]]\n",
      "배열 B:\n",
      "[[0]\n",
      " [1]\n",
      " [2]]\n",
      "브로드캐스팅 연산 결과:\n",
      "[[0 1]\n",
      " [3 4]\n",
      " [6 7]]\n"
     ]
    }
   ],
   "source": [
    "A = np.arange(6).reshape(3,2)\n",
    "print(f\"배열 A:\\n{A}\")\n",
    "\n",
    "B = np.arange(3).reshape(3,-1)\n",
    "print(f\"배열 B:\\n{B}\")\n",
    "# 브로드캐스팅\n",
    "print(f'브로드캐스팅 연산 결과:\\n{A+B}')"
   ]
  },
  {
   "cell_type": "markdown",
   "id": "3d09d856",
   "metadata": {},
   "source": [
    "## 집계함수(aggregation)\n",
    "데이터에 대한 요약 통계"
   ]
  },
  {
   "cell_type": "code",
   "execution_count": 69,
   "id": "9927e6f5",
   "metadata": {},
   "outputs": [
    {
     "name": "stdout",
     "output_type": "stream",
     "text": [
      "원본 배열:\n",
      "[[0 1 2 3]\n",
      " [4 5 6 7]]\n",
      "\n",
      "x의 총합: 28\n",
      "x의 최솟값: 0\n",
      "x의 최댓값: 7\n",
      "x의 평균: 3.5\n",
      "axis 0을 기준으로 총합: [ 4  6  8 10]\n",
      "axis 1을 기준으로 총합: [ 6 22]\n"
     ]
    }
   ],
   "source": [
    "x = np.arange(8).reshape(2,4)\n",
    "print(f\"원본 배열:\\n{x}\\n\")\n",
    "\n",
    "print(f\"x의 총합: {np.sum(x)}\")\n",
    "print(f\"x의 최솟값: {np.min(x)}\")\n",
    "print(f\"x의 최댓값: {np.max(x)}\")\n",
    "print(f\"x의 평균: {np.mean(x)}\")\n",
    "\n",
    "# 축을 설정하여 특정 축에 해당하는 값끼리 덧셈 가능\n",
    "print(f\"axis 0을 기준으로 총합: {np.sum(x, axis = 0)}\") # 각 컬럼의 행끼리 덧셈\n",
    "print(f\"axis 1을 기준으로 총합: {np.sum(x, axis = 1)}\") # 각 행의 컬럼끼리의 덧셈"
   ]
  },
  {
   "cell_type": "code",
   "execution_count": 2,
   "id": "a01e4a1c",
   "metadata": {},
   "outputs": [
    {
     "name": "stdout",
     "output_type": "stream",
     "text": [
      "71\n"
     ]
    }
   ],
   "source": [
    "# 양치기 소년의 거짓말 횟수 구하기\n",
    "# 거짓말: 0\n",
    "import numpy as np\n",
    "\n",
    "daily_liar_data = [0, 0, 0, 0, 0, 1, 1, 0, 1, 1, 0, 0, 0, 1, 0, 0, 1, 0, 0, 1, 0, 0, 0, 1, 0, 0, 0, 0, 0, 1, 0, 0, 0, 1, 0, 0, 0, 0, 0, 0, 0, 0, 0, 0, 1, 1, 0, 1, 1, 0, 0, 0, 0, 0, 1, 0, 1, 0, 0, 1, 0, 1, 0, 0, 1, 0, 0, 0, 0, 0, 1, 0, 1, 0, 1, 1, 0, 0, 0, 1, 0, 0, 0, 1, 0, 0, 1, 0, 0, 1, 0, 1, 0, 0, 1, 0, 0, 0, 0, 0]\n",
    "print(np.sum(np.array(daily_liar_data) == 0))"
   ]
  }
 ],
 "metadata": {
  "kernelspec": {
   "display_name": "torchenv",
   "language": "python",
   "name": "python3"
  },
  "language_info": {
   "codemirror_mode": {
    "name": "ipython",
    "version": 3
   },
   "file_extension": ".py",
   "mimetype": "text/x-python",
   "name": "python",
   "nbconvert_exporter": "python",
   "pygments_lexer": "ipython3",
   "version": "3.9.21"
  }
 },
 "nbformat": 4,
 "nbformat_minor": 5
}
