{
 "cells": [
  {
   "cell_type": "code",
   "execution_count": 7,
   "id": "940beadb",
   "metadata": {},
   "outputs": [],
   "source": [
    "from langchain_openai import ChatOpenAI\n",
    "from langchain_core.prompts import ChatPromptTemplate\n",
    "from langchain_core.output_parsers import StrOutputParser\n",
    "from dotenv import load_dotenv\n",
    "import os\n",
    "\n",
    "load_dotenv(\"../../.env\")\n",
    "api_key = os.getenv(\"OPEN_API_KEY\")"
   ]
  },
  {
   "cell_type": "code",
   "execution_count": 8,
   "id": "a0e22a17",
   "metadata": {},
   "outputs": [],
   "source": [
    "llm = ChatOpenAI(\n",
    "  model = \"gpt-4.1-mini-2025-04-14\", \n",
    "  temperature = 0.7, \n",
    "  max_completion_tokens=100,\n",
    "  api_key=api_key)\n",
    "\n",
    "prompt = ChatPromptTemplate.from_template(\n",
    "  \"당신은 지구를 방문한 외계인에게 한국어를 가르쳐주는 선생님입니다. 외계인이 {word}를 가리키며 뭐냐고 물었습니다.\"\n",
    "  )"
   ]
  },
  {
   "cell_type": "code",
   "execution_count": 9,
   "id": "cacb141f",
   "metadata": {},
   "outputs": [
    {
     "name": "stdout",
     "output_type": "stream",
     "text": [
      "\"반도체\"는 전기 전도성이 금속과 절연체의 중간 정도인 재료를 말해요. 쉽게 말해, 전기를 어느 정도 통하게도 하고 막기도 하는 특별한 물질이에요. 반도체는 컴퓨터, 스마트폰 같은 전자기기 안에서 정보를 처리하고 저장하는 데 꼭 필요해요. 그래서 현대 기술의 아주 중요한 부분이랍니다.\n"
     ]
    }
   ],
   "source": [
    "parser = StrOutputParser()\n",
    "\n",
    "chain = prompt | llm | parser\n",
    "output = chain.invoke({\"word\":\"반도체\"})\n",
    "print(output)"
   ]
  }
 ],
 "metadata": {
  "kernelspec": {
   "display_name": "Python 3",
   "language": "python",
   "name": "python3"
  },
  "language_info": {
   "codemirror_mode": {
    "name": "ipython",
    "version": 3
   },
   "file_extension": ".py",
   "mimetype": "text/x-python",
   "name": "python",
   "nbconvert_exporter": "python",
   "pygments_lexer": "ipython3",
   "version": "3.12.0"
  }
 },
 "nbformat": 4,
 "nbformat_minor": 5
}
