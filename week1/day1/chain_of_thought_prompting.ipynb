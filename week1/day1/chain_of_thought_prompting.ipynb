{
 "cells": [
  {
   "cell_type": "code",
   "execution_count": 1,
   "id": "f714d27c",
   "metadata": {},
   "outputs": [],
   "source": [
    "from dotenv import load_dotenv\n",
    "import os\n",
    "\n",
    "from langchain_core.prompts import ChatPromptTemplate\n",
    "from langchain_openai import ChatOpenAI\n",
    "from langchain_core.output_parsers import StrOutputParser\n",
    "\n",
    "load_dotenv(\"../.env\")\n",
    "api_key = os.getenv(\"OPEN_API_KEY\")\n",
    "\n",
    "llm = ChatOpenAI(\n",
    "  model = \"gpt-4.1-mini-2025-04-14\", \n",
    "  temperature = 0.7, \n",
    "  api_key=api_key)"
   ]
  },
  {
   "cell_type": "code",
   "execution_count": null,
   "id": "3898dfca",
   "metadata": {},
   "outputs": [
    {
     "name": "stdout",
     "output_type": "stream",
     "text": [
      "2024년 2월 10일은 토요일입니다.  \n",
      "연휴가 15일이고 첫날이 2월 10일이라면, 마지막 날은 15일째 되는 날입니다.\n",
      "\n",
      "- 첫날: 2월 10일 (토요일)\n",
      "- 15일째 날 = 첫날 + 14일 (첫날 포함해서 15일이므로 14일을 더함)\n",
      "\n",
      "2월 10일 + 14일 = 2월 24일\n",
      "\n",
      "이제 2월 24일의 요일을 구해보겠습니다.\n",
      "\n",
      "- 2월 10일: 토요일\n",
      "- 2월 11일: 일요일\n",
      "- 2월 12일: 월요일\n",
      "- 2월 13일: 화요일\n",
      "- 2월 14일: 수요일\n",
      "- 2월 15일: 목요일\n",
      "- 2월 16일: 금요일\n",
      "- 2월 17일: 토요일\n",
      "- 2월 18일: 일요일\n",
      "- 2월 19일: 월요일\n",
      "- 2월 20일: 화요일\n",
      "- 2월 21일: 수요일\n",
      "- 2월 22일: 목요일\n",
      "- 2월 23일: 금요일\n",
      "- 2월 24일: 토요일\n",
      "\n",
      "따라서 마지막 날인 2월 24일은 **토요일**입니다.\n"
     ]
    }
   ],
   "source": [
    "cot_prompt = ChatPromptTemplate.from_template(\n",
    "  \"질문: {question}\" # 단순히 question만 제시하여 llm이 자유롭게 판단함 -> Chain-of-Thought 유도 X \n",
    ")\n",
    "\n",
    "chain = cot_prompt | llm | StrOutputParser()\n",
    "\n",
    "output = chain.invoke({\n",
    "  \"question\":\"2024년 2월 10일은 토요일입니다. 만약 연휴가 15일이고, 첫날이 2월 10일이라면, 마지막 날은 무슨 요일인가요?\"\n",
    "})\n",
    "\n",
    "print(output)"
   ]
  },
  {
   "cell_type": "code",
   "execution_count": null,
   "id": "5dd1510e",
   "metadata": {},
   "outputs": [
    {
     "name": "stdout",
     "output_type": "stream",
     "text": [
      "첫날이 2월 10일 토요일이고, 연휴가 15일이라고 할 때, 마지막 날의 요일을 계산해보겠습니다.\n",
      "\n",
      "- 첫날: 2월 10일 (토요일)\n",
      "- 연휴 기간: 15일 (첫날 포함)\n",
      "\n",
      "첫날을 1일로 하면, 마지막 날은 15일째가 됩니다.\n",
      "\n",
      "요일은 7일 주기로 반복되므로, 15일째 요일은 다음과 같이 계산할 수 있습니다.\n",
      "\n",
      "- 15일째 요일 = (첫날 요일 + 15일 - 1) % 7\n",
      "\n",
      "여기서 요일을 숫자로 표현하면,\n",
      "\n",
      "- 토요일 = 6 (월요일=1, 화=2, 수=3, 목=4, 금=5, 토=6, 일=7)\n",
      "\n",
      "그러나 보통 0부터 시작하는 계산이 편하므로,\n",
      "\n",
      "- 월요일=0, 화=1, 수=2, 목=3, 금=4, 토=5, 일=6 로 놓으면,\n",
      "\n",
      "토요일 = 5\n",
      "\n",
      "15일째 요일 = (5 + 15 -1) % 7 = (5 + 14) % 7 = 19 % 7 = 5\n",
      "\n",
      "숫자 5는 토요일입니다.\n",
      "\n",
      "따라서 마지막 날도 토요일입니다.\n",
      "\n",
      "**결론:** 2024년 2월 10일부터 시작하는 15일 연휴의 마지막 날은 토요일입니다.\n"
     ]
    }
   ],
   "source": [
    "cot_prompt = ChatPromptTemplate.from_template(\n",
    "  # 생각... 등을 통해 CoT 강제 프롬프트; LLM은 생각, step-by-tep, Let's think step by step 등 CoT 키워드를 적용하면 더 유용한 답변 반환 \n",
    "  \"질문: {question}\\n생각: 첫날을 포함하여 날짜를 세면서 하루씩 요일을 계산해봅시다.\" \n",
    ")\n",
    "\n",
    "chain = cot_prompt | llm | StrOutputParser()\n",
    "\n",
    "output = chain.invoke({\n",
    "  \"question\":\"2024년 2월 10일은 토요일입니다. 만약 연휴가 15일이고, 첫날이 2월 10일이라면, 마지막 날은 무슨 요일인가요?\"\n",
    "})\n",
    "print(output)"
   ]
  },
  {
   "cell_type": "markdown",
   "id": "f84d036d",
   "metadata": {},
   "source": [
    "## 실습 문제: Chain of Thought 활용 - 설날 예산 계산\n",
    "당신은 설날에 부모님과 조부모님께 각각 선물을 드리려고 합니다.\n",
    "\n",
    "* 어머니: 4만 원\n",
    "* 아버지: 5만 원\n",
    "- 할머니: 6만 원\n",
    "- 할아버지: 7만 원\n",
    "\n",
    "그런데 물가가 올라서 모든 선물 가격이 15% 인상되었습니다.\n",
    "총 예산은 얼마가 되어야 할까요?\n",
    "단계별 사고를 유도하는 CoT 방식으로 구성하고 정답을 도출하시오."
   ]
  },
  {
   "cell_type": "code",
   "execution_count": 9,
   "id": "8d294ace",
   "metadata": {},
   "outputs": [
    {
     "name": "stdout",
     "output_type": "stream",
     "text": [
      "좋아요, 단계별로 계산해 보겠습니다.\n",
      "\n",
      "1. 각 선물 가격:\n",
      "- 어머니: 40,000원\n",
      "- 아버지: 50,000원\n",
      "- 할머니: 60,000원\n",
      "- 할아버지: 70,000원\n",
      "\n",
      "2. 각 선물 가격에 15% 인상 적용하기:\n",
      "- 인상률 15% = 0.15\n",
      "- 인상된 가격 = 원래 가격 × (1 + 0.15) = 원래 가격 × 1.15\n",
      "\n",
      "3. 계산:\n",
      "- 어머니: 40,000 × 1.15 = 46,000원\n",
      "- 아버지: 50,000 × 1.15 = 57,500원\n",
      "- 할머니: 60,000 × 1.15 = 69,000원\n",
      "- 할아버지: 70,000 × 1.15 = 80,500원\n",
      "\n",
      "4. 총 예산:\n",
      "46,000 + 57,500 + 69,000 + 80,500 = 253,000원\n",
      "\n",
      "따라서, 물가 인상을 고려한 총 예산은 **253,000원**이어야 합니다.\n"
     ]
    }
   ],
   "source": [
    "from langchain_core.prompts import ChatPromptTemplate\n",
    "from langchain_openai import ChatOpenAI\n",
    "from langchain_core.output_parsers import StrOutputParser\n",
    "\n",
    "# LLM 설정\n",
    "llm = ChatOpenAI(model=\"gpt-4.1-mini-2025-04-14\", temperature=0.7, api_key = api_key)\n",
    "\n",
    "# CoT 유도 프롬프트\n",
    "cot_prompt = ChatPromptTemplate.from_template(\n",
    "    \"질문: {question} Let's think step by step: 물가가 올라서 모든 선물 가격이 15%인상되었습니다. 이 부분 고려해서 계산해주세요\"\n",
    ")\n",
    "\n",
    "# 체인 구성\n",
    "chain = cot_prompt | llm | StrOutputParser()\n",
    "\n",
    "# 문제 실행\n",
    "output = chain.invoke({\n",
    "    \"question\": \"어머니는 4만 원, 아버지는 5만 원, 할머니는 6만 원, 할아버지는 7만 원짜리 선물을 드릴 예정입니다. 모든 가격이 15% 인상되었을 때, 총 예산은 얼마가 되어야 하나요?\"\n",
    "})\n",
    "\n",
    "print(output)\n"
   ]
  }
 ],
 "metadata": {
  "kernelspec": {
   "display_name": "Python 3",
   "language": "python",
   "name": "python3"
  },
  "language_info": {
   "codemirror_mode": {
    "name": "ipython",
    "version": 3
   },
   "file_extension": ".py",
   "mimetype": "text/x-python",
   "name": "python",
   "nbconvert_exporter": "python",
   "pygments_lexer": "ipython3",
   "version": "3.12.0"
  }
 },
 "nbformat": 4,
 "nbformat_minor": 5
}
