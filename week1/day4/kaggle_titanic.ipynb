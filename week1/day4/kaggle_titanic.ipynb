{
 "cells": [
  {
   "cell_type": "markdown",
   "id": "f44cfe65",
   "metadata": {},
   "source": [
    "## 캐글 타이타닉\n",
    "- Reference: https://www.kaggle.com/competitions/titanic/overview"
   ]
  },
  {
   "cell_type": "code",
   "execution_count": null,
   "id": "c5ba2ee7",
   "metadata": {},
   "outputs": [
    {
     "data": {
      "text/html": [
       "<div>\n",
       "<style scoped>\n",
       "    .dataframe tbody tr th:only-of-type {\n",
       "        vertical-align: middle;\n",
       "    }\n",
       "\n",
       "    .dataframe tbody tr th {\n",
       "        vertical-align: top;\n",
       "    }\n",
       "\n",
       "    .dataframe thead th {\n",
       "        text-align: right;\n",
       "    }\n",
       "</style>\n",
       "<table border=\"1\" class=\"dataframe\">\n",
       "  <thead>\n",
       "    <tr style=\"text-align: right;\">\n",
       "      <th></th>\n",
       "      <th>PassengerId</th>\n",
       "      <th>Survived</th>\n",
       "      <th>Pclass</th>\n",
       "      <th>Name</th>\n",
       "      <th>Sex</th>\n",
       "      <th>Age</th>\n",
       "      <th>SibSp</th>\n",
       "      <th>Parch</th>\n",
       "      <th>Ticket</th>\n",
       "      <th>Fare</th>\n",
       "      <th>Cabin</th>\n",
       "      <th>Embarked</th>\n",
       "    </tr>\n",
       "  </thead>\n",
       "  <tbody>\n",
       "    <tr>\n",
       "      <th>0</th>\n",
       "      <td>1</td>\n",
       "      <td>0</td>\n",
       "      <td>3</td>\n",
       "      <td>Braund, Mr. Owen Harris</td>\n",
       "      <td>male</td>\n",
       "      <td>22.0</td>\n",
       "      <td>1</td>\n",
       "      <td>0</td>\n",
       "      <td>A/5 21171</td>\n",
       "      <td>7.2500</td>\n",
       "      <td>NaN</td>\n",
       "      <td>S</td>\n",
       "    </tr>\n",
       "    <tr>\n",
       "      <th>1</th>\n",
       "      <td>2</td>\n",
       "      <td>1</td>\n",
       "      <td>1</td>\n",
       "      <td>Cumings, Mrs. John Bradley (Florence Briggs Th...</td>\n",
       "      <td>female</td>\n",
       "      <td>38.0</td>\n",
       "      <td>1</td>\n",
       "      <td>0</td>\n",
       "      <td>PC 17599</td>\n",
       "      <td>71.2833</td>\n",
       "      <td>C85</td>\n",
       "      <td>C</td>\n",
       "    </tr>\n",
       "    <tr>\n",
       "      <th>2</th>\n",
       "      <td>3</td>\n",
       "      <td>1</td>\n",
       "      <td>3</td>\n",
       "      <td>Heikkinen, Miss. Laina</td>\n",
       "      <td>female</td>\n",
       "      <td>26.0</td>\n",
       "      <td>0</td>\n",
       "      <td>0</td>\n",
       "      <td>STON/O2. 3101282</td>\n",
       "      <td>7.9250</td>\n",
       "      <td>NaN</td>\n",
       "      <td>S</td>\n",
       "    </tr>\n",
       "    <tr>\n",
       "      <th>3</th>\n",
       "      <td>4</td>\n",
       "      <td>1</td>\n",
       "      <td>1</td>\n",
       "      <td>Futrelle, Mrs. Jacques Heath (Lily May Peel)</td>\n",
       "      <td>female</td>\n",
       "      <td>35.0</td>\n",
       "      <td>1</td>\n",
       "      <td>0</td>\n",
       "      <td>113803</td>\n",
       "      <td>53.1000</td>\n",
       "      <td>C123</td>\n",
       "      <td>S</td>\n",
       "    </tr>\n",
       "    <tr>\n",
       "      <th>4</th>\n",
       "      <td>5</td>\n",
       "      <td>0</td>\n",
       "      <td>3</td>\n",
       "      <td>Allen, Mr. William Henry</td>\n",
       "      <td>male</td>\n",
       "      <td>35.0</td>\n",
       "      <td>0</td>\n",
       "      <td>0</td>\n",
       "      <td>373450</td>\n",
       "      <td>8.0500</td>\n",
       "      <td>NaN</td>\n",
       "      <td>S</td>\n",
       "    </tr>\n",
       "  </tbody>\n",
       "</table>\n",
       "</div>"
      ],
      "text/plain": [
       "   PassengerId  Survived  Pclass  \\\n",
       "0            1         0       3   \n",
       "1            2         1       1   \n",
       "2            3         1       3   \n",
       "3            4         1       1   \n",
       "4            5         0       3   \n",
       "\n",
       "                                                Name     Sex   Age  SibSp  \\\n",
       "0                            Braund, Mr. Owen Harris    male  22.0      1   \n",
       "1  Cumings, Mrs. John Bradley (Florence Briggs Th...  female  38.0      1   \n",
       "2                             Heikkinen, Miss. Laina  female  26.0      0   \n",
       "3       Futrelle, Mrs. Jacques Heath (Lily May Peel)  female  35.0      1   \n",
       "4                           Allen, Mr. William Henry    male  35.0      0   \n",
       "\n",
       "   Parch            Ticket     Fare Cabin Embarked  \n",
       "0      0         A/5 21171   7.2500   NaN        S  \n",
       "1      0          PC 17599  71.2833   C85        C  \n",
       "2      0  STON/O2. 3101282   7.9250   NaN        S  \n",
       "3      0            113803  53.1000  C123        S  \n",
       "4      0            373450   8.0500   NaN        S  "
      ]
     },
     "execution_count": 1,
     "metadata": {},
     "output_type": "execute_result"
    }
   ],
   "source": [
    "# 필요한 라이브러리 임포트\n",
    "import pandas as pd\n",
    "import numpy as np\n",
    "from sklearn.model_selection import train_test_split\n",
    "from sklearn.ensemble import RandomForestClassifier\n",
    "from sklearn.metrics import accuracy_score, classification_report\n",
    "\n",
    "# 데이터 불러오기\n",
    "train = pd.read_csv('../../data/titanic_train.csv')\n",
    "test = pd.read_csv('../../data/titanictest.csv')\n",
    "\n",
    "train.head()"
   ]
  },
  {
   "cell_type": "markdown",
   "id": "fe0a8c8a",
   "metadata": {},
   "source": [
    "## Name \n",
    "- feature에서 Mrs, Mr와 같은 성별을 나타내는 단어는 결과물에 영향을 줄 것이라고 판단\n",
    "- 정규표현식을 통해 \".\" 전까지의 영어 대소문자가 1개 이상인 그룹을 캡쳐; \"\\.\"는 마침표 리터럴 \n",
    "- `expand`: `extract()`의 결과값을 반활할 때, `True`이면 `DataFrame`으로 반환, `False`이면 `Series`로 반환"
   ]
  },
  {
   "cell_type": "code",
   "execution_count": 2,
   "id": "3563e94d",
   "metadata": {},
   "outputs": [],
   "source": [
    "train_test_data = [train, test] # train과 test 데이터셋을 하나로 묶어서 한번에 변환 \n",
    "\n",
    "for dataset in train_test_data:\n",
    "  dataset['Title'] = dataset['Name'].str.extract('([A-Za-z]+)\\.', expand = False)"
   ]
  },
  {
   "cell_type": "code",
   "execution_count": 3,
   "id": "54da8fab",
   "metadata": {},
   "outputs": [
    {
     "data": {
      "text/plain": [
       "Mr          517\n",
       "Miss        182\n",
       "Mrs         125\n",
       "Master       40\n",
       "Dr            7\n",
       "Rev           6\n",
       "Mlle          2\n",
       "Major         2\n",
       "Col           2\n",
       "Countess      1\n",
       "Capt          1\n",
       "Ms            1\n",
       "Sir           1\n",
       "Lady          1\n",
       "Mme           1\n",
       "Don           1\n",
       "Jonkheer      1\n",
       "Name: Title, dtype: int64"
      ]
     },
     "execution_count": 3,
     "metadata": {},
     "output_type": "execute_result"
    }
   ],
   "source": [
    "train['Title'].value_counts()"
   ]
  },
  {
   "cell_type": "markdown",
   "id": "583ff315",
   "metadata": {},
   "source": [
    "## Title mapping\n",
    "- Mr: 0\n",
    "- Miss: 1\n",
    "- Mrs: 2\n",
    "- Others: 3"
   ]
  },
  {
   "cell_type": "code",
   "execution_count": 4,
   "id": "d51b2ee5",
   "metadata": {},
   "outputs": [],
   "source": [
    "title_mapping = {'Mr':0,\"Miss\":1, \"Mrs\":2,\"Master\":3,\"Dr\":3,\"Rev\":3,\n",
    "                 \"Mile\":3, \"Major\": 3, \"Col\": 3, \"Countess\": 3, \"Capt\" : 3, \"Ms\": 3,\n",
    "                 \"Sir\" : 3, \"Lady\" : 3, \"Mme\" : 3, \"Don\" : 3, \"Jonkheer\" : 3}\n",
    "\n",
    "for dataset in train_test_data:\n",
    "  dataset['Title'] = dataset['Title'].map(title_mapping)"
   ]
  },
  {
   "cell_type": "code",
   "execution_count": 5,
   "id": "59e2522d",
   "metadata": {},
   "outputs": [
    {
     "data": {
      "text/html": [
       "<div>\n",
       "<style scoped>\n",
       "    .dataframe tbody tr th:only-of-type {\n",
       "        vertical-align: middle;\n",
       "    }\n",
       "\n",
       "    .dataframe tbody tr th {\n",
       "        vertical-align: top;\n",
       "    }\n",
       "\n",
       "    .dataframe thead th {\n",
       "        text-align: right;\n",
       "    }\n",
       "</style>\n",
       "<table border=\"1\" class=\"dataframe\">\n",
       "  <thead>\n",
       "    <tr style=\"text-align: right;\">\n",
       "      <th></th>\n",
       "      <th>PassengerId</th>\n",
       "      <th>Survived</th>\n",
       "      <th>Pclass</th>\n",
       "      <th>Name</th>\n",
       "      <th>Sex</th>\n",
       "      <th>Age</th>\n",
       "      <th>SibSp</th>\n",
       "      <th>Parch</th>\n",
       "      <th>Ticket</th>\n",
       "      <th>Fare</th>\n",
       "      <th>Cabin</th>\n",
       "      <th>Embarked</th>\n",
       "      <th>Title</th>\n",
       "    </tr>\n",
       "  </thead>\n",
       "  <tbody>\n",
       "    <tr>\n",
       "      <th>0</th>\n",
       "      <td>1</td>\n",
       "      <td>0</td>\n",
       "      <td>3</td>\n",
       "      <td>Braund, Mr. Owen Harris</td>\n",
       "      <td>male</td>\n",
       "      <td>22.0</td>\n",
       "      <td>1</td>\n",
       "      <td>0</td>\n",
       "      <td>A/5 21171</td>\n",
       "      <td>7.2500</td>\n",
       "      <td>NaN</td>\n",
       "      <td>S</td>\n",
       "      <td>0.0</td>\n",
       "    </tr>\n",
       "    <tr>\n",
       "      <th>1</th>\n",
       "      <td>2</td>\n",
       "      <td>1</td>\n",
       "      <td>1</td>\n",
       "      <td>Cumings, Mrs. John Bradley (Florence Briggs Th...</td>\n",
       "      <td>female</td>\n",
       "      <td>38.0</td>\n",
       "      <td>1</td>\n",
       "      <td>0</td>\n",
       "      <td>PC 17599</td>\n",
       "      <td>71.2833</td>\n",
       "      <td>C85</td>\n",
       "      <td>C</td>\n",
       "      <td>2.0</td>\n",
       "    </tr>\n",
       "    <tr>\n",
       "      <th>2</th>\n",
       "      <td>3</td>\n",
       "      <td>1</td>\n",
       "      <td>3</td>\n",
       "      <td>Heikkinen, Miss. Laina</td>\n",
       "      <td>female</td>\n",
       "      <td>26.0</td>\n",
       "      <td>0</td>\n",
       "      <td>0</td>\n",
       "      <td>STON/O2. 3101282</td>\n",
       "      <td>7.9250</td>\n",
       "      <td>NaN</td>\n",
       "      <td>S</td>\n",
       "      <td>1.0</td>\n",
       "    </tr>\n",
       "    <tr>\n",
       "      <th>3</th>\n",
       "      <td>4</td>\n",
       "      <td>1</td>\n",
       "      <td>1</td>\n",
       "      <td>Futrelle, Mrs. Jacques Heath (Lily May Peel)</td>\n",
       "      <td>female</td>\n",
       "      <td>35.0</td>\n",
       "      <td>1</td>\n",
       "      <td>0</td>\n",
       "      <td>113803</td>\n",
       "      <td>53.1000</td>\n",
       "      <td>C123</td>\n",
       "      <td>S</td>\n",
       "      <td>2.0</td>\n",
       "    </tr>\n",
       "    <tr>\n",
       "      <th>4</th>\n",
       "      <td>5</td>\n",
       "      <td>0</td>\n",
       "      <td>3</td>\n",
       "      <td>Allen, Mr. William Henry</td>\n",
       "      <td>male</td>\n",
       "      <td>35.0</td>\n",
       "      <td>0</td>\n",
       "      <td>0</td>\n",
       "      <td>373450</td>\n",
       "      <td>8.0500</td>\n",
       "      <td>NaN</td>\n",
       "      <td>S</td>\n",
       "      <td>0.0</td>\n",
       "    </tr>\n",
       "  </tbody>\n",
       "</table>\n",
       "</div>"
      ],
      "text/plain": [
       "   PassengerId  Survived  Pclass  \\\n",
       "0            1         0       3   \n",
       "1            2         1       1   \n",
       "2            3         1       3   \n",
       "3            4         1       1   \n",
       "4            5         0       3   \n",
       "\n",
       "                                                Name     Sex   Age  SibSp  \\\n",
       "0                            Braund, Mr. Owen Harris    male  22.0      1   \n",
       "1  Cumings, Mrs. John Bradley (Florence Briggs Th...  female  38.0      1   \n",
       "2                             Heikkinen, Miss. Laina  female  26.0      0   \n",
       "3       Futrelle, Mrs. Jacques Heath (Lily May Peel)  female  35.0      1   \n",
       "4                           Allen, Mr. William Henry    male  35.0      0   \n",
       "\n",
       "   Parch            Ticket     Fare Cabin Embarked  Title  \n",
       "0      0         A/5 21171   7.2500   NaN        S    0.0  \n",
       "1      0          PC 17599  71.2833   C85        C    2.0  \n",
       "2      0  STON/O2. 3101282   7.9250   NaN        S    1.0  \n",
       "3      0            113803  53.1000  C123        S    2.0  \n",
       "4      0            373450   8.0500   NaN        S    0.0  "
      ]
     },
     "execution_count": 5,
     "metadata": {},
     "output_type": "execute_result"
    }
   ],
   "source": [
    "train.head()"
   ]
  },
  {
   "cell_type": "code",
   "execution_count": 6,
   "id": "7e82ba9c",
   "metadata": {},
   "outputs": [],
   "source": [
    "# 시각화 함수 정의 \n",
    "def bar_chart(feature):\n",
    "  # 매개변수로 받은 feature의 생존자 분포 \n",
    "  survived = train[train[\"Survived\"] == 1][feature].value_counts() \n",
    "  dead = train[train['Survived'] == 0][feature].value_counts()\n",
    "  df = pd.DataFrame([survived, dead]) # survived와 dead에 대한 새로운 데이터프레임 생성\n",
    "  df.index = ['Survived', \"Dead\"]\n",
    "  # stacked: 누적 막대 그래프 \n",
    "  # df.plot으로 바로 시각화, 여기서는 matplotlib 사용 X \n",
    "  df.plot(kind = 'bar', stacked = True, figsize = (10, 5))"
   ]
  },
  {
   "cell_type": "code",
   "execution_count": 7,
   "id": "9f7a2335",
   "metadata": {},
   "outputs": [
    {
     "data": {
      "image/png": "[encoded data removed]",
      "text/plain": [
       "<Figure size 1000x500 with 1 Axes>"
      ]
     },
     "metadata": {},
     "output_type": "display_data"
    }
   ],
   "source": [
    "bar_chart('Title')"
   ]
  },
  {
   "cell_type": "code",
   "execution_count": 8,
   "id": "0a4e3e8c",
   "metadata": {},
   "outputs": [],
   "source": [
    "## 위 feature engineeing에서 title feature가 모델이 성별(Mr. , Mrs.)에 따른 Survived와 Dead를 잘 이해할만한 feature 생성\n",
    "## 따라서 기존의 Name feature는 제거\n",
    "train.drop(\"Name\", axis = 1, inplace = True)\n",
    "test.drop(\"Name\", axis = 1, inplace = True)"
   ]
  },
  {
   "cell_type": "code",
   "execution_count": 9,
   "id": "d72f3154",
   "metadata": {},
   "outputs": [
    {
     "data": {
      "text/html": [
       "<div>\n",
       "<style scoped>\n",
       "    .dataframe tbody tr th:only-of-type {\n",
       "        vertical-align: middle;\n",
       "    }\n",
       "\n",
       "    .dataframe tbody tr th {\n",
       "        vertical-align: top;\n",
       "    }\n",
       "\n",
       "    .dataframe thead th {\n",
       "        text-align: right;\n",
       "    }\n",
       "</style>\n",
       "<table border=\"1\" class=\"dataframe\">\n",
       "  <thead>\n",
       "    <tr style=\"text-align: right;\">\n",
       "      <th></th>\n",
       "      <th>PassengerId</th>\n",
       "      <th>Survived</th>\n",
       "      <th>Pclass</th>\n",
       "      <th>Sex</th>\n",
       "      <th>Age</th>\n",
       "      <th>SibSp</th>\n",
       "      <th>Parch</th>\n",
       "      <th>Ticket</th>\n",
       "      <th>Fare</th>\n",
       "      <th>Cabin</th>\n",
       "      <th>Embarked</th>\n",
       "      <th>Title</th>\n",
       "    </tr>\n",
       "  </thead>\n",
       "  <tbody>\n",
       "    <tr>\n",
       "      <th>0</th>\n",
       "      <td>1</td>\n",
       "      <td>0</td>\n",
       "      <td>3</td>\n",
       "      <td>male</td>\n",
       "      <td>22.0</td>\n",
       "      <td>1</td>\n",
       "      <td>0</td>\n",
       "      <td>A/5 21171</td>\n",
       "      <td>7.2500</td>\n",
       "      <td>NaN</td>\n",
       "      <td>S</td>\n",
       "      <td>0.0</td>\n",
       "    </tr>\n",
       "    <tr>\n",
       "      <th>1</th>\n",
       "      <td>2</td>\n",
       "      <td>1</td>\n",
       "      <td>1</td>\n",
       "      <td>female</td>\n",
       "      <td>38.0</td>\n",
       "      <td>1</td>\n",
       "      <td>0</td>\n",
       "      <td>PC 17599</td>\n",
       "      <td>71.2833</td>\n",
       "      <td>C85</td>\n",
       "      <td>C</td>\n",
       "      <td>2.0</td>\n",
       "    </tr>\n",
       "    <tr>\n",
       "      <th>2</th>\n",
       "      <td>3</td>\n",
       "      <td>1</td>\n",
       "      <td>3</td>\n",
       "      <td>female</td>\n",
       "      <td>26.0</td>\n",
       "      <td>0</td>\n",
       "      <td>0</td>\n",
       "      <td>STON/O2. 3101282</td>\n",
       "      <td>7.9250</td>\n",
       "      <td>NaN</td>\n",
       "      <td>S</td>\n",
       "      <td>1.0</td>\n",
       "    </tr>\n",
       "    <tr>\n",
       "      <th>3</th>\n",
       "      <td>4</td>\n",
       "      <td>1</td>\n",
       "      <td>1</td>\n",
       "      <td>female</td>\n",
       "      <td>35.0</td>\n",
       "      <td>1</td>\n",
       "      <td>0</td>\n",
       "      <td>113803</td>\n",
       "      <td>53.1000</td>\n",
       "      <td>C123</td>\n",
       "      <td>S</td>\n",
       "      <td>2.0</td>\n",
       "    </tr>\n",
       "    <tr>\n",
       "      <th>4</th>\n",
       "      <td>5</td>\n",
       "      <td>0</td>\n",
       "      <td>3</td>\n",
       "      <td>male</td>\n",
       "      <td>35.0</td>\n",
       "      <td>0</td>\n",
       "      <td>0</td>\n",
       "      <td>373450</td>\n",
       "      <td>8.0500</td>\n",
       "      <td>NaN</td>\n",
       "      <td>S</td>\n",
       "      <td>0.0</td>\n",
       "    </tr>\n",
       "  </tbody>\n",
       "</table>\n",
       "</div>"
      ],
      "text/plain": [
       "   PassengerId  Survived  Pclass     Sex   Age  SibSp  Parch  \\\n",
       "0            1         0       3    male  22.0      1      0   \n",
       "1            2         1       1  female  38.0      1      0   \n",
       "2            3         1       3  female  26.0      0      0   \n",
       "3            4         1       1  female  35.0      1      0   \n",
       "4            5         0       3    male  35.0      0      0   \n",
       "\n",
       "             Ticket     Fare Cabin Embarked  Title  \n",
       "0         A/5 21171   7.2500   NaN        S    0.0  \n",
       "1          PC 17599  71.2833   C85        C    2.0  \n",
       "2  STON/O2. 3101282   7.9250   NaN        S    1.0  \n",
       "3            113803  53.1000  C123        S    2.0  \n",
       "4            373450   8.0500   NaN        S    0.0  "
      ]
     },
     "execution_count": 9,
     "metadata": {},
     "output_type": "execute_result"
    }
   ],
   "source": [
    "train.head()"
   ]
  },
  {
   "cell_type": "markdown",
   "id": "50d2ca18",
   "metadata": {},
   "source": [
    "## Sex"
   ]
  },
  {
   "cell_type": "code",
   "execution_count": 10,
   "id": "f59f7a7a",
   "metadata": {},
   "outputs": [],
   "source": [
    "sex_mapping = {'male' : 0, \"female\" : 1}\n",
    "for dataset in train_test_data:\n",
    "  dataset['Sex'] = dataset['Sex'].map(sex_mapping)"
   ]
  },
  {
   "cell_type": "code",
   "execution_count": 11,
   "id": "80764379",
   "metadata": {},
   "outputs": [
    {
     "data": {
      "image/png": "[encoded data removed]",
      "text/plain": [
       "<Figure size 1000x500 with 1 Axes>"
      ]
     },
     "metadata": {},
     "output_type": "display_data"
    }
   ],
   "source": [
    "bar_chart('Sex')\n",
    "# 시각화 결과 확실히 여성보다 남성의 생존율이 낮은 것을 확인할 수 있음"
   ]
  },
  {
   "cell_type": "markdown",
   "id": "b367c233",
   "metadata": {},
   "source": [
    "## Age\n",
    "- 미리 만들었던 \"Title\"을 활용하여 결측치를 처리\n",
    "  - 만약 어떤 남성의 나이가 NaN이라면 남성의 평균 나이를 구한 후 `fillna()`"
   ]
  },
  {
   "cell_type": "code",
   "execution_count": 12,
   "id": "d19ffa79",
   "metadata": {},
   "outputs": [
    {
     "data": {
      "text/plain": [
       "0    22.0\n",
       "1    38.0\n",
       "2    26.0\n",
       "3    35.0\n",
       "4    35.0\n",
       "5     NaN\n",
       "6    54.0\n",
       "7     2.0\n",
       "8    27.0\n",
       "9    14.0\n",
       "Name: Age, dtype: float64"
      ]
     },
     "execution_count": 12,
     "metadata": {},
     "output_type": "execute_result"
    }
   ],
   "source": [
    "train['Age'].head(10)"
   ]
  },
  {
   "cell_type": "code",
   "execution_count": 13,
   "id": "174d27eb",
   "metadata": {},
   "outputs": [
    {
     "data": {
      "text/plain": [
       "177"
      ]
     },
     "execution_count": 13,
     "metadata": {},
     "output_type": "execute_result"
    }
   ],
   "source": [
    "train['Age'].isnull().sum()"
   ]
  },
  {
   "cell_type": "code",
   "execution_count": 14,
   "id": "9c1b5d66",
   "metadata": {},
   "outputs": [],
   "source": [
    "train['Age'].fillna(train.groupby('Title')['Age'].transform(\"median\"), inplace = True)\n",
    "test['Age'].fillna(test.groupby('Title')['Age'].transform(\"median\"), inplace = True)"
   ]
  },
  {
   "cell_type": "code",
   "execution_count": 15,
   "id": "ae517123",
   "metadata": {},
   "outputs": [
    {
     "data": {
      "image/png": "[encoded data removed]",
      "text/plain": [
       "<Figure size 1272.11x300 with 1 Axes>"
      ]
     },
     "metadata": {},
     "output_type": "display_data"
    }
   ],
   "source": [
    "import seaborn as sns\n",
    "import matplotlib.pyplot as plt\n",
    "\n",
    "facet = sns.FacetGrid(train, hue = \"Survived\" ,aspect = 4)\n",
    "facet.map(sns.kdeplot, \"Age\", shade = True)\n",
    "facet.set(xlim = (0, train['Age'].max()))\n",
    "facet.add_legend()\n",
    "\n",
    "plt.show()"
   ]
  },
  {
   "cell_type": "code",
   "execution_count": 16,
   "id": "086fd973",
   "metadata": {},
   "outputs": [
    {
     "data": {
      "image/png": "[encoded data removed]",
      "text/plain": [
       "<Figure size 1272.11x300 with 1 Axes>"
      ]
     },
     "metadata": {},
     "output_type": "display_data"
    }
   ],
   "source": [
    "facet = sns.FacetGrid(train, hue = \"Survived\" ,aspect = 4)\n",
    "facet.map(sns.kdeplot, \"Age\", shade = True)\n",
    "facet.set(xlim = (0, train['Age'].max()))\n",
    "facet.add_legend()\n",
    "plt.xlim(20, 30) # 20 ~ 30세의 생존율 확인\n",
    "\n",
    "plt.show()"
   ]
  },
  {
   "cell_type": "code",
   "execution_count": 17,
   "id": "1aaad11e",
   "metadata": {},
   "outputs": [
    {
     "data": {
      "image/png": "[encoded data removed]",
      "text/plain": [
       "<Figure size 1272.11x300 with 1 Axes>"
      ]
     },
     "metadata": {},
     "output_type": "display_data"
    }
   ],
   "source": [
    "facet = sns.FacetGrid(train, hue = \"Survived\" ,aspect = 4)\n",
    "facet.map(sns.kdeplot, \"Age\", shade = True)\n",
    "facet.set(xlim = (0, train['Age'].max()))\n",
    "facet.add_legend()\n",
    "plt.xlim(10, 20)\n",
    "\n",
    "plt.show()"
   ]
  },
  {
   "cell_type": "code",
   "execution_count": 18,
   "id": "afbc18b8",
   "metadata": {},
   "outputs": [
    {
     "name": "stdout",
     "output_type": "stream",
     "text": [
      "<class 'pandas.core.frame.DataFrame'>\n",
      "RangeIndex: 891 entries, 0 to 890\n",
      "Data columns (total 12 columns):\n",
      " #   Column       Non-Null Count  Dtype  \n",
      "---  ------       --------------  -----  \n",
      " 0   PassengerId  891 non-null    int64  \n",
      " 1   Survived     891 non-null    int64  \n",
      " 2   Pclass       891 non-null    int64  \n",
      " 3   Sex          891 non-null    int64  \n",
      " 4   Age          891 non-null    float64\n",
      " 5   SibSp        891 non-null    int64  \n",
      " 6   Parch        891 non-null    int64  \n",
      " 7   Ticket       891 non-null    object \n",
      " 8   Fare         891 non-null    float64\n",
      " 9   Cabin        204 non-null    object \n",
      " 10  Embarked     889 non-null    object \n",
      " 11  Title        889 non-null    float64\n",
      "dtypes: float64(3), int64(6), object(3)\n",
      "memory usage: 83.7+ KB\n"
     ]
    }
   ],
   "source": [
    "train.info()"
   ]
  },
  {
   "cell_type": "code",
   "execution_count": 19,
   "id": "165c7b36",
   "metadata": {},
   "outputs": [
    {
     "name": "stdout",
     "output_type": "stream",
     "text": [
      "<class 'pandas.core.frame.DataFrame'>\n",
      "RangeIndex: 418 entries, 0 to 417\n",
      "Data columns (total 11 columns):\n",
      " #   Column       Non-Null Count  Dtype  \n",
      "---  ------       --------------  -----  \n",
      " 0   PassengerId  418 non-null    int64  \n",
      " 1   Pclass       418 non-null    int64  \n",
      " 2   Sex          418 non-null    int64  \n",
      " 3   Age          418 non-null    float64\n",
      " 4   SibSp        418 non-null    int64  \n",
      " 5   Parch        418 non-null    int64  \n",
      " 6   Ticket       418 non-null    object \n",
      " 7   Fare         417 non-null    float64\n",
      " 8   Cabin        91 non-null     object \n",
      " 9   Embarked     418 non-null    object \n",
      " 10  Title        417 non-null    float64\n",
      "dtypes: float64(3), int64(5), object(3)\n",
      "memory usage: 36.0+ KB\n"
     ]
    }
   ],
   "source": [
    "test.info()"
   ]
  },
  {
   "cell_type": "markdown",
   "id": "ab6fb759",
   "metadata": {},
   "source": [
    "## Binning \n",
    "\n",
    "feature vector map:\n",
    "- child: 0\n",
    "- young: 1\n",
    "- adult: 2\n",
    "- mid-age: 3\n",
    "- senior: 4"
   ]
  },
  {
   "cell_type": "code",
   "execution_count": 20,
   "id": "ed3370a0",
   "metadata": {},
   "outputs": [],
   "source": [
    "# for dataset in train_test_data:\n",
    "#   dataset.loc[dataset['Age'] <= 16, 'Age'] = 0,\n",
    "#   dataset.loc[(dataset['Age'] > 16) & (dataset['Age'] <= 26), 'Age'] = 1,\n",
    "#   dataset.loc[(dataset['Age'] > 26) & (dataset['Age'] <= 36), 'Age'] = 2,\n",
    "#   dataset.loc[(dataset['Age'] > 36) & (dataset['Age'] <= 62), 'Age'] = 3,\n",
    "#   dataset.loc[dataset['Age'] > 62, 'Age'] = 0,"
   ]
  },
  {
   "cell_type": "code",
   "execution_count": 21,
   "id": "7d3caa7d",
   "metadata": {},
   "outputs": [
    {
     "name": "stderr",
     "output_type": "stream",
     "text": [
      "c:\\Users\\user\\anaconda3\\envs\\torchenv\\lib\\site-packages\\pandas\\core\\arrays\\categorical.py:528: RuntimeWarning: invalid value encountered in cast\n",
      "  fill_value = lib.item_from_zerodim(np.array(np.nan).astype(dtype))\n"
     ]
    }
   ],
   "source": [
    "bins = [0, 16, 26, 36, 62, float('inf')] # 나이 구간 정의, 마지막 구간은 무한대로 정의\n",
    "labels = [0,1,2,3,4]\n",
    "\n",
    "for dataset in train_test_data:\n",
    "  dataset['Age'] = pd.cut(dataset['Age'], bins = bins, labels = labels, right = True)\n",
    "  dataset['Age'] = dataset['Age'].astype(int) # 라벨이 카테고리로 나오므로 정수형으로 변환"
   ]
  },
  {
   "cell_type": "code",
   "execution_count": 22,
   "id": "930363b4",
   "metadata": {},
   "outputs": [
    {
     "data": {
      "image/png": "[encoded data removed]",
      "text/plain": [
       "<Figure size 1000x500 with 1 Axes>"
      ]
     },
     "metadata": {},
     "output_type": "display_data"
    }
   ],
   "source": [
    "bar_chart(\"Age\")"
   ]
  },
  {
   "cell_type": "markdown",
   "id": "05d57f08",
   "metadata": {},
   "source": [
    "## Embarked"
   ]
  },
  {
   "cell_type": "code",
   "execution_count": 23,
   "id": "e13a8c9d",
   "metadata": {},
   "outputs": [],
   "source": [
    "embarked_mapping = {\"S\": 0, \"C\":1, \"Q\":2}\n",
    "\n",
    "for dataset in train_test_data:\n",
    "  dataset['Embarked'] = dataset['Embarked'].map(embarked_mapping)"
   ]
  },
  {
   "cell_type": "code",
   "execution_count": 24,
   "id": "2e99e1cf",
   "metadata": {},
   "outputs": [],
   "source": [
    "train['Fare'].fillna(train.groupby('Pclass')['Fare'].transform(\"median\"), inplace = True)\n",
    "test['Fare'].fillna(test.groupby('Pclass')['Fare'].transform(\"median\"), inplace = True)"
   ]
  },
  {
   "cell_type": "code",
   "execution_count": 25,
   "id": "3055a982",
   "metadata": {},
   "outputs": [
    {
     "data": {
      "text/plain": [
       "PassengerId      0\n",
       "Survived         0\n",
       "Pclass           0\n",
       "Sex              0\n",
       "Age              0\n",
       "SibSp            0\n",
       "Parch            0\n",
       "Ticket           0\n",
       "Fare             0\n",
       "Cabin          687\n",
       "Embarked         2\n",
       "Title            2\n",
       "dtype: int64"
      ]
     },
     "execution_count": 25,
     "metadata": {},
     "output_type": "execute_result"
    }
   ],
   "source": [
    "train.isnull().sum()"
   ]
  },
  {
   "cell_type": "code",
   "execution_count": 26,
   "id": "667942a3",
   "metadata": {},
   "outputs": [
    {
     "data": {
      "text/plain": [
       "PassengerId      0\n",
       "Pclass           0\n",
       "Sex              0\n",
       "Age              0\n",
       "SibSp            0\n",
       "Parch            0\n",
       "Ticket           0\n",
       "Fare             0\n",
       "Cabin          327\n",
       "Embarked         0\n",
       "Title            1\n",
       "dtype: int64"
      ]
     },
     "execution_count": 26,
     "metadata": {},
     "output_type": "execute_result"
    }
   ],
   "source": [
    "test.isnull().sum()"
   ]
  },
  {
   "cell_type": "code",
   "execution_count": 27,
   "id": "1b5e625b",
   "metadata": {},
   "outputs": [
    {
     "data": {
      "text/plain": [
       "B96 B98        4\n",
       "G6             4\n",
       "C23 C25 C27    4\n",
       "C22 C26        3\n",
       "F33            3\n",
       "              ..\n",
       "E34            1\n",
       "C7             1\n",
       "C54            1\n",
       "E36            1\n",
       "C148           1\n",
       "Name: Cabin, Length: 147, dtype: int64"
      ]
     },
     "execution_count": 27,
     "metadata": {},
     "output_type": "execute_result"
    }
   ],
   "source": [
    "train.Cabin.value_counts()"
   ]
  },
  {
   "cell_type": "code",
   "execution_count": 28,
   "id": "ffd73ee7",
   "metadata": {},
   "outputs": [
    {
     "data": {
      "text/plain": [
       "<AxesSubplot:>"
      ]
     },
     "execution_count": 28,
     "metadata": {},
     "output_type": "execute_result"
    },
    {
     "data": {
      "image/png": "[encoded data removed]",
      "text/plain": [
       "<Figure size 1000x600 with 1 Axes>"
      ]
     },
     "metadata": {},
     "output_type": "display_data"
    }
   ],
   "source": [
    "for dataset in train_test_data:\n",
    "  dataset['Cabin'] = dataset['Cabin'].str[:1] # 가장 앞 알파벳만 추출\n",
    "\n",
    "# Pclass에 따른 Cabin 분포 시각화 \n",
    "Pclass1 = train[train[\"Pclass\"] == 1]['Cabin'].value_counts()\n",
    "Pclass2 = train[train[\"Pclass\"] == 2]['Cabin'].value_counts()\n",
    "Pclass3 = train[train[\"Pclass\"] == 3]['Cabin'].value_counts()\n",
    "\n",
    "df = pd.DataFrame([Pclass1, Pclass2, Pclass3])\n",
    "df.index = [\"1st class\", \"2nd class\", \"3rd class\"]\n",
    "df.plot(kind = 'bar', stacked = True, figsize = (10,6))"
   ]
  },
  {
   "cell_type": "code",
   "execution_count": 29,
   "id": "a3026ef8",
   "metadata": {},
   "outputs": [],
   "source": [
    "for dataset in train_test_data:\n",
    "    # 임의의 값으로 결측치 채우기\n",
    "    dataset['Cabin'] = dataset['Cabin'].fillna('U0')\n",
    "\n",
    "    # 첫 글자만 추출 (Deck 정보)\n",
    "    dataset['Deck'] = dataset['Cabin'].map(lambda x: x[0])\n",
    "\n",
    "from sklearn.preprocessing import LabelEncoder\n",
    "\n",
    "label = LabelEncoder()\n",
    "for dataset in train_test_data:\n",
    "    dataset['Deck'] = label.fit_transform(dataset['Deck'])"
   ]
  },
  {
   "cell_type": "code",
   "execution_count": 30,
   "id": "f756b12a",
   "metadata": {},
   "outputs": [],
   "source": [
    "train.drop(\"Cabin\", axis = 1, inplace = True)\n",
    "test.drop(\"Cabin\", axis = 1, inplace = True)"
   ]
  },
  {
   "cell_type": "code",
   "execution_count": 31,
   "id": "ca02dfca",
   "metadata": {},
   "outputs": [],
   "source": [
    "train['Title'].fillna(train[\"Title\"].median(), inplace = True)\n",
    "test['Title'].fillna(test[\"Title\"].median(), inplace = True)"
   ]
  },
  {
   "cell_type": "code",
   "execution_count": 32,
   "id": "34bd1389",
   "metadata": {},
   "outputs": [],
   "source": [
    "train['Embarked'].fillna(train[\"Embarked\"].median(), inplace = True)\n",
    "test['Embarked'].fillna(test[\"Embarked\"].median(), inplace = True)"
   ]
  },
  {
   "cell_type": "code",
   "execution_count": 33,
   "id": "6feda761",
   "metadata": {},
   "outputs": [
    {
     "name": "stdout",
     "output_type": "stream",
     "text": [
      "<class 'pandas.core.frame.DataFrame'>\n",
      "RangeIndex: 891 entries, 0 to 890\n",
      "Data columns (total 12 columns):\n",
      " #   Column       Non-Null Count  Dtype  \n",
      "---  ------       --------------  -----  \n",
      " 0   PassengerId  891 non-null    int64  \n",
      " 1   Survived     891 non-null    int64  \n",
      " 2   Pclass       891 non-null    int64  \n",
      " 3   Sex          891 non-null    int64  \n",
      " 4   Age          891 non-null    int32  \n",
      " 5   SibSp        891 non-null    int64  \n",
      " 6   Parch        891 non-null    int64  \n",
      " 7   Ticket       891 non-null    object \n",
      " 8   Fare         891 non-null    float64\n",
      " 9   Embarked     891 non-null    float64\n",
      " 10  Title        891 non-null    float64\n",
      " 11  Deck         891 non-null    int32  \n",
      "dtypes: float64(3), int32(2), int64(6), object(1)\n",
      "memory usage: 76.7+ KB\n"
     ]
    }
   ],
   "source": [
    "train.info()"
   ]
  },
  {
   "cell_type": "code",
   "execution_count": 34,
   "id": "2b7495c4",
   "metadata": {},
   "outputs": [
    {
     "name": "stdout",
     "output_type": "stream",
     "text": [
      "<class 'pandas.core.frame.DataFrame'>\n",
      "RangeIndex: 418 entries, 0 to 417\n",
      "Data columns (total 11 columns):\n",
      " #   Column       Non-Null Count  Dtype  \n",
      "---  ------       --------------  -----  \n",
      " 0   PassengerId  418 non-null    int64  \n",
      " 1   Pclass       418 non-null    int64  \n",
      " 2   Sex          418 non-null    int64  \n",
      " 3   Age          418 non-null    int32  \n",
      " 4   SibSp        418 non-null    int64  \n",
      " 5   Parch        418 non-null    int64  \n",
      " 6   Ticket       418 non-null    object \n",
      " 7   Fare         418 non-null    float64\n",
      " 8   Embarked     418 non-null    int64  \n",
      " 9   Title        418 non-null    float64\n",
      " 10  Deck         418 non-null    int32  \n",
      "dtypes: float64(2), int32(2), int64(6), object(1)\n",
      "memory usage: 32.8+ KB\n"
     ]
    }
   ],
   "source": [
    "test.info()"
   ]
  },
  {
   "cell_type": "markdown",
   "id": "14fdd8b7",
   "metadata": {},
   "source": [
    "## FamilySize"
   ]
  },
  {
   "cell_type": "code",
   "execution_count": 35,
   "id": "4bd72d43",
   "metadata": {},
   "outputs": [],
   "source": [
    "train[\"FamilySize\"] = train[\"SibSp\"] + train[\"Parch\"] + 1\n",
    "test[\"FamilySize\"] = test[\"SibSp\"] + test[\"Parch\"] + 1"
   ]
  },
  {
   "cell_type": "code",
   "execution_count": 37,
   "id": "67972bbc",
   "metadata": {},
   "outputs": [
    {
     "data": {
      "text/plain": [
       "(0.0, 11.0)"
      ]
     },
     "execution_count": 37,
     "metadata": {},
     "output_type": "execute_result"
    },
    {
     "data": {
      "image/png": "[encoded data removed]",
      "text/plain": [
       "<Figure size 1272.11x300 with 1 Axes>"
      ]
     },
     "metadata": {},
     "output_type": "display_data"
    }
   ],
   "source": [
    "facet = sns.FacetGrid(train, hue = \"Survived\", aspect=4)\n",
    "facet.map(sns.kdeplot, \"FamilySize\", shade = True)\n",
    "facet.set(xlim = (0, train['FamilySize'].max())) # x축 범위 지정\n",
    "facet.add_legend()\n",
    "plt.xlim(0)"
   ]
  },
  {
   "cell_type": "code",
   "execution_count": 39,
   "id": "2f4416d9",
   "metadata": {},
   "outputs": [],
   "source": [
    "family_mapping = {1:0, 2:0.4, 3: 0.8, 4: 1.2, 5: 1.6, 6: 2., 7: 2.4, 8: 2.8, 9: 3.2, 10: 3.6, 11: 4}\n",
    "\n",
    "for dataset in train_test_data:\n",
    "  dataset[\"FamilySize\"] = dataset['FamilySize'].map(family_mapping)"
   ]
  },
  {
   "cell_type": "markdown",
   "id": "4028e1a4",
   "metadata": {},
   "source": [
    "## Ticket"
   ]
  },
  {
   "cell_type": "code",
   "execution_count": 40,
   "id": "47fe1e19",
   "metadata": {},
   "outputs": [],
   "source": [
    "for dataset in train_test_data:\n",
    "    dataset.drop(['Ticket'], axis=1, inplace=True)"
   ]
  },
  {
   "cell_type": "code",
   "execution_count": 41,
   "id": "afd90e4e",
   "metadata": {},
   "outputs": [
    {
     "name": "stdout",
     "output_type": "stream",
     "text": [
      "[0.625      0.65277778 0.69014085 0.61971831 0.61971831 0.53521127\n",
      " 0.66197183 0.74647887 0.69014085 0.64788732]\n"
     ]
    }
   ],
   "source": [
    "from sklearn.svm import SVC\n",
    "from sklearn.ensemble import RandomForestClassifier\n",
    "from sklearn.tree import DecisionTreeClassifier\n",
    "from sklearn.model_selection import KFold, cross_val_score # 교차 검증 \n",
    "\n",
    "kfold = KFold(n_splits = 10, shuffle = True, random_state = 42)\n",
    "\n",
    "X = train.drop(\"Survived\", axis = 1)\n",
    "y = train['Survived']\n",
    "\n",
    "X_train, X_val, y_train, y_val = train_test_split(X, y, test_size=0.2, random_state=42)\n",
    "\n",
    "svc_model = SVC()\n",
    "\n",
    "score = cross_val_score(svc_model, X_train, y_train, cv = kfold, n_jobs = 1, scoring = 'accuracy')\n",
    "print(score)\n"
   ]
  },
  {
   "cell_type": "markdown",
   "id": "c020297f",
   "metadata": {},
   "source": [
    "## RandomForestClassifier"
   ]
  },
  {
   "cell_type": "code",
   "execution_count": 80,
   "id": "4ca83d94",
   "metadata": {},
   "outputs": [
    {
     "name": "stdout",
     "output_type": "stream",
     "text": [
      "검증 데이터 정확도: 0.8491620111731844\n",
      "\n",
      "분류 보고서:\n",
      "              precision    recall  f1-score   support\n",
      "\n",
      "           0       0.86      0.89      0.87       105\n",
      "           1       0.83      0.80      0.81        74\n",
      "\n",
      "    accuracy                           0.85       179\n",
      "   macro avg       0.85      0.84      0.84       179\n",
      "weighted avg       0.85      0.85      0.85       179\n",
      "\n"
     ]
    }
   ],
   "source": [
    "\n",
    "# RandomForest 모델 생성 및 학습\n",
    "rf_model = RandomForestClassifier(n_estimators=200, max_depth = 8, max_features='log2', random_state=42)\n",
    "rf_model.fit(X_train, y_train)\n",
    "\n",
    "# 검증 데이터로 예측\n",
    "val_pred = rf_model.predict(X_val)\n",
    "\n",
    "# 모델 성능 평가\n",
    "print('검증 데이터 정확도:', accuracy_score(y_val, val_pred))\n",
    "print('\\n분류 보고서:')\n",
    "print(classification_report(y_val, val_pred))\n"
   ]
  },
  {
   "cell_type": "markdown",
   "id": "42623805",
   "metadata": {},
   "source": [
    "## DecisionTreeClassifier"
   ]
  },
  {
   "cell_type": "code",
   "execution_count": 43,
   "id": "f2316feb",
   "metadata": {},
   "outputs": [
    {
     "name": "stdout",
     "output_type": "stream",
     "text": [
      "검증 데이터 정확도: 0.7486033519553073\n",
      "\n",
      "분류 보고서:\n",
      "              precision    recall  f1-score   support\n",
      "\n",
      "           0       0.80      0.76      0.78       105\n",
      "           1       0.68      0.73      0.71        74\n",
      "\n",
      "    accuracy                           0.75       179\n",
      "   macro avg       0.74      0.75      0.74       179\n",
      "weighted avg       0.75      0.75      0.75       179\n",
      "\n"
     ]
    }
   ],
   "source": [
    "dt_model = DecisionTreeClassifier(random_state = 42)\n",
    "dt_model.fit(X_train, y_train)\n",
    "\n",
    "val_pred = dt_model.predict(X_val)\n",
    "\n",
    "print('검증 데이터 정확도:', accuracy_score(y_val, val_pred))\n",
    "print('\\n분류 보고서:')\n",
    "print(classification_report(y_val, val_pred))"
   ]
  },
  {
   "cell_type": "markdown",
   "id": "f136c671",
   "metadata": {},
   "source": [
    "## RandomForestClassifier 튜닝"
   ]
  },
  {
   "cell_type": "code",
   "execution_count": 46,
   "id": "6fe9b6fb",
   "metadata": {},
   "outputs": [
    {
     "name": "stdout",
     "output_type": "stream",
     "text": [
      "Fitting 5 folds for each of 30 candidates, totalling 150 fits\n",
      "Best parameters:\n",
      "{'max_depth': 9, 'max_features': 'sqrt', 'min_samples_leaf': 9, 'min_samples_split': 8, 'n_estimators': 373}\n"
     ]
    }
   ],
   "source": [
    "from sklearn.model_selection import RandomizedSearchCV\n",
    "from scipy.stats import randint\n",
    "\n",
    "param_dist = {\n",
    "  \"n_estimators\":randint(100, 1000),\n",
    "  'max_depth':randint(3,30),\n",
    "  \"min_samples_split\":randint(2,20),\n",
    "  \"min_samples_leaf\":randint(1,20),\n",
    "  \"max_features\":['sqrt', 'log2', None]\n",
    "}\n",
    "\n",
    "random_search = RandomizedSearchCV(\n",
    "  estimator = rf_model,\n",
    "  param_distributions = param_dist,\n",
    "  n_iter = 30,\n",
    "  cv = 5,\n",
    "  verbose = 2,\n",
    "  random_state = 42,\n",
    "  n_jobs = -1 # cpu 병렬 처리 \n",
    ")\n",
    "\n",
    "random_search.fit(X_train, y_train)\n",
    "\n",
    "print(f\"Best parameters:\\n{random_search.best_params_}\")\n",
    "best_rf = random_search.best_estimator_"
   ]
  },
  {
   "cell_type": "code",
   "execution_count": null,
   "id": "1672ffc6",
   "metadata": {},
   "outputs": [
    {
     "name": "stdout",
     "output_type": "stream",
     "text": [
      "검증 데이터 정확도: 0.8268156424581006\n",
      "\n",
      "분류 보고서:\n",
      "              precision    recall  f1-score   support\n",
      "\n",
      "           0       0.84      0.88      0.86       105\n",
      "           1       0.81      0.76      0.78        74\n",
      "\n",
      "    accuracy                           0.83       179\n",
      "   macro avg       0.82      0.82      0.82       179\n",
      "weighted avg       0.83      0.83      0.83       179\n",
      "\n"
     ]
    }
   ],
   "source": [
    "best_rf.fit(X_train, y_train)\n",
    "\n",
    "best_val = best_rf.predict(X_val)\n",
    "\n",
    "print('검증 데이터 정확도:', accuracy_score(y_val, best_val))\n",
    "print('\\n분류 보고서:')\n",
    "print(classification_report(y_val, best_val))\n",
    "# 오히려 기본 RandomForest 보다 성능이 떨어짐"
   ]
  },
  {
   "cell_type": "markdown",
   "id": "82e1273c",
   "metadata": {},
   "source": [
    "## LightGMB 모델 "
   ]
  },
  {
   "cell_type": "code",
   "execution_count": 48,
   "id": "52b232e8",
   "metadata": {},
   "outputs": [
    {
     "name": "stdout",
     "output_type": "stream",
     "text": [
      "Collecting lightgbm\n",
      "  Downloading lightgbm-4.6.0-py3-none-win_amd64.whl.metadata (17 kB)\n",
      "Requirement already satisfied: numpy>=1.17.0 in c:\\users\\user\\anaconda3\\envs\\torchenv\\lib\\site-packages (from lightgbm) (1.26.4)\n",
      "Requirement already satisfied: scipy in c:\\users\\user\\anaconda3\\envs\\torchenv\\lib\\site-packages (from lightgbm) (1.13.1)\n",
      "Downloading lightgbm-4.6.0-py3-none-win_amd64.whl (1.5 MB)\n",
      "   ---------------------------------------- 0.0/1.5 MB ? eta -:--:--\n",
      "   ---------------------------------------- 1.5/1.5 MB 9.5 MB/s eta 0:00:00\n",
      "Installing collected packages: lightgbm\n",
      "Successfully installed lightgbm-4.6.0\n"
     ]
    }
   ],
   "source": [
    "!pip install lightgbm"
   ]
  },
  {
   "cell_type": "code",
   "execution_count": 51,
   "id": "8d74b67a",
   "metadata": {},
   "outputs": [
    {
     "name": "stdout",
     "output_type": "stream",
     "text": [
      "Training until validation scores don't improve for 50 rounds\n",
      "Early stopping, best iteration is:\n",
      "[79]\ttraining's binary_logloss: 0.250977\tvalid_1's binary_logloss: 0.423012\n",
      "검증 데이터 정확도: 0.8212290502793296\n",
      "\n",
      "분류 보고서:\n",
      "              precision    recall  f1-score   support\n",
      "\n",
      "           0       0.85      0.85      0.85       105\n",
      "           1       0.78      0.78      0.78        74\n",
      "\n",
      "    accuracy                           0.82       179\n",
      "   macro avg       0.82      0.82      0.82       179\n",
      "weighted avg       0.82      0.82      0.82       179\n",
      "\n"
     ]
    }
   ],
   "source": [
    "# lightgbm 4.1 버전 이후엔 early_stopping을 따로 import 해줘야됨\n",
    "from lightgbm import LGBMClassifier, early_stopping \n",
    "from scipy.stats import randint as sp_randint\n",
    "\n",
    "eval_sets = [(X_train, y_train),(X_val, y_val)]\n",
    "\n",
    "lgbm_wrapper = LGBMClassifier(n_estimators = 400, learning_rate = 0.05, max_depth = -1)\n",
    "lgbm_wrapper.fit(X_train, y_train, callbacks = [early_stopping(stopping_rounds = 50)], eval_metric = 'logloss',eval_set = eval_sets)\n",
    "\n",
    "lgbm_s50_pred = lgbm_wrapper.predict(X_val)\n",
    "\n",
    "print('검증 데이터 정확도:', accuracy_score(y_val, lgbm_s50_pred))\n",
    "print('\\n분류 보고서:')\n",
    "print(classification_report(y_val, lgbm_s50_pred))\n"
   ]
  },
  {
   "cell_type": "markdown",
   "id": "dbf924d6",
   "metadata": {},
   "source": [
    "## XGBoostClassifier"
   ]
  },
  {
   "cell_type": "code",
   "execution_count": 82,
   "id": "b6cf88bc",
   "metadata": {},
   "outputs": [
    {
     "name": "stdout",
     "output_type": "stream",
     "text": [
      "Collecting xgboost\n",
      "  Downloading xgboost-2.1.4-py3-none-win_amd64.whl.metadata (2.1 kB)\n",
      "Requirement already satisfied: numpy in c:\\users\\user\\anaconda3\\envs\\torchenv\\lib\\site-packages (from xgboost) (1.26.4)\n",
      "Requirement already satisfied: scipy in c:\\users\\user\\anaconda3\\envs\\torchenv\\lib\\site-packages (from xgboost) (1.13.1)\n",
      "Downloading xgboost-2.1.4-py3-none-win_amd64.whl (124.9 MB)\n",
      "   ---------------------------------------- 0.0/124.9 MB ? eta -:--:--\n",
      "   ---------------------------------------- 1.3/124.9 MB 6.7 MB/s eta 0:00:19\n",
      "   - -------------------------------------- 4.7/124.9 MB 11.0 MB/s eta 0:00:11\n",
      "   --- ------------------------------------ 10.5/124.9 MB 16.8 MB/s eta 0:00:07\n",
      "   ----- ---------------------------------- 16.0/124.9 MB 19.7 MB/s eta 0:00:06\n",
      "   ------ --------------------------------- 21.8/124.9 MB 21.5 MB/s eta 0:00:05\n",
      "   -------- ------------------------------- 27.5/124.9 MB 22.7 MB/s eta 0:00:05\n",
      "   ---------- ----------------------------- 33.3/124.9 MB 23.2 MB/s eta 0:00:04\n",
      "   ------------ --------------------------- 39.3/124.9 MB 24.0 MB/s eta 0:00:04\n",
      "   -------------- ------------------------- 45.1/124.9 MB 24.5 MB/s eta 0:00:04\n",
      "   ---------------- ----------------------- 50.9/124.9 MB 24.7 MB/s eta 0:00:03\n",
      "   ----------------- ---------------------- 55.6/124.9 MB 24.9 MB/s eta 0:00:03\n",
      "   ------------------ --------------------- 56.9/124.9 MB 23.1 MB/s eta 0:00:03\n",
      "   ------------------- -------------------- 61.3/124.9 MB 23.0 MB/s eta 0:00:03\n",
      "   --------------------- ------------------ 67.4/124.9 MB 23.5 MB/s eta 0:00:03\n",
      "   ----------------------- ---------------- 73.4/124.9 MB 23.8 MB/s eta 0:00:03\n",
      "   ------------------------- -------------- 79.2/124.9 MB 24.2 MB/s eta 0:00:02\n",
      "   --------------------------- ------------ 85.5/124.9 MB 24.5 MB/s eta 0:00:02\n",
      "   ----------------------------- ---------- 91.2/124.9 MB 24.7 MB/s eta 0:00:02\n",
      "   ------------------------------- -------- 97.0/124.9 MB 24.9 MB/s eta 0:00:02\n",
      "   -------------------------------- ------ 102.8/124.9 MB 25.0 MB/s eta 0:00:01\n",
      "   --------------------------------- ----- 108.5/124.9 MB 25.2 MB/s eta 0:00:01\n",
      "   ----------------------------------- --- 114.8/124.9 MB 25.4 MB/s eta 0:00:01\n",
      "   ------------------------------------- - 120.1/124.9 MB 25.4 MB/s eta 0:00:01\n",
      "   --------------------------------------  124.8/124.9 MB 25.4 MB/s eta 0:00:01\n",
      "   --------------------------------------- 124.9/124.9 MB 24.6 MB/s eta 0:00:00\n",
      "Installing collected packages: xgboost\n",
      "Successfully installed xgboost-2.1.4\n"
     ]
    }
   ],
   "source": [
    "!pip install xgboost"
   ]
  },
  {
   "cell_type": "markdown",
   "id": "c1379e58",
   "metadata": {},
   "source": [
    "## Kaggle 0.795 Score 모델"
   ]
  },
  {
   "cell_type": "code",
   "execution_count": 197,
   "id": "daafaff7",
   "metadata": {},
   "outputs": [
    {
     "name": "stdout",
     "output_type": "stream",
     "text": [
      "검증 정확도: 0.8491620111731844\n",
      "\n",
      "분류 보고서:\n",
      "              precision    recall  f1-score   support\n",
      "\n",
      "           0       0.85      0.90      0.87       105\n",
      "           1       0.84      0.78      0.81        74\n",
      "\n",
      "    accuracy                           0.85       179\n",
      "   macro avg       0.85      0.84      0.84       179\n",
      "weighted avg       0.85      0.85      0.85       179\n",
      "\n"
     ]
    },
    {
     "name": "stderr",
     "output_type": "stream",
     "text": [
      "c:\\Users\\user\\anaconda3\\envs\\torchenv\\lib\\site-packages\\xgboost\\core.py:158: UserWarning: [17:45:00] WARNING: C:\\buildkite-agent\\builds\\buildkite-windows-cpu-autoscaling-group-i-08cbc0333d8d4aae1-1\\xgboost\\xgboost-ci-windows\\src\\learner.cc:740: \n",
      "Parameters: { \"use_label_encoder\" } are not used.\n",
      "\n",
      "  warnings.warn(smsg, UserWarning)\n"
     ]
    }
   ],
   "source": [
    "from xgboost import XGBClassifier\n",
    "# from sklearn.metrics import accuracy_score, classification_report\n",
    "\n",
    "xgb_wrapper = XGBClassifier(\n",
    "    n_estimators=200,\n",
    "    learning_rate=0.07,\n",
    "    max_depth=7,\n",
    "    # gamma = 0.07,\n",
    "    use_label_encoder=False,\n",
    "    eval_metric='logloss' \n",
    ")\n",
    "\n",
    "xgb_wrapper.fit(\n",
    "    X_train, y_train,\n",
    "    eval_set=[(X_val, y_val)],\n",
    "    verbose=False \n",
    ")\n",
    "\n",
    "xgb_pred = xgb_wrapper.predict(X_val)\n",
    "\n",
    "print(\"검증 정확도:\", accuracy_score(y_val, xgb_pred))\n",
    "print(\"\\n분류 보고서:\")\n",
    "print(classification_report(y_val, xgb_pred))\n"
   ]
  },
  {
   "cell_type": "markdown",
   "id": "d670c1ca",
   "metadata": {},
   "source": [
    "## XGBoostClassifier 하이퍼파라미터 튜닝"
   ]
  },
  {
   "cell_type": "code",
   "execution_count": null,
   "id": "d2727578",
   "metadata": {},
   "outputs": [
    {
     "name": "stdout",
     "output_type": "stream",
     "text": [
      "Fitting 3 folds for each of 20 candidates, totalling 60 fits\n",
      "best params: {'colsample_bytree': 0.4, 'learning_rate': 0.03, 'max_depth': 17, 'n_estimators': 110, 'subsample': 0.4}\n",
      "검증 정확도: 0.8268156424581006\n",
      "\n",
      "분류 보고서:\n",
      "              precision    recall  f1-score   support\n",
      "\n",
      "           0       0.83      0.89      0.86       105\n",
      "           1       0.82      0.74      0.78        74\n",
      "\n",
      "    accuracy                           0.83       179\n",
      "   macro avg       0.83      0.81      0.82       179\n",
      "weighted avg       0.83      0.83      0.83       179\n",
      "\n"
     ]
    }
   ],
   "source": [
    "from sklearn.model_selection import RandomizedSearchCV\n",
    "from scipy.stats import randint\n",
    "\n",
    "params = {\n",
    "    \"n_estimators\": randint(100,1000),\n",
    "    \"max_depth\": randint(2, 20, 2),\n",
    "    \"learning_rate\": [0.01, 0.03, 0.05, 0.07, 0.09, 0.1, 0.13, 0.15, 0.18],\n",
    "    \"subsample\": [0.2, 0.4, 0.6, 0.8, 1.0],\n",
    "    \"colsample_bytree\": [0.4, 0.6, 0.8, 1.0]\n",
    "}\n",
    "\n",
    "xgb_wrapper = XGBClassifier()\n",
    "random_search = RandomizedSearchCV(xgb_wrapper, param_distributions=params, \n",
    "                                   scoring='accuracy', n_iter=20, cv=3, verbose=1, n_jobs=-1)\n",
    "\n",
    "random_search.fit(X_train, y_train)\n",
    "\n",
    "xgb_pred = random_search.predict(X_val)\n",
    "best_model = random_search.best_estimator_\n",
    "\n",
    "print(f\"best params: {random_search.best_params_}\")\n",
    "print(\"검증 정확도:\", accuracy_score(y_val, xgb_pred))\n",
    "print(\"\\n분류 보고서:\")\n",
    "print(classification_report(y_val, xgb_pred))"
   ]
  },
  {
   "cell_type": "markdown",
   "id": "cebe9c28",
   "metadata": {},
   "source": [
    "## GridSearchCV로 하이퍼파리미터 튜닝 "
   ]
  },
  {
   "cell_type": "code",
   "execution_count": 135,
   "id": "d19cc78e",
   "metadata": {},
   "outputs": [
    {
     "name": "stdout",
     "output_type": "stream",
     "text": [
      "Fitting 5 folds for each of 3000 candidates, totalling 15000 fits\n",
      "최적 파라미터: {'colsample_bytree': 0.6, 'learning_rate': 0.07, 'max_depth': 2, 'n_estimators': 100, 'subsample': 1.0}\n",
      "검증 정확도: 0.8156424581005587\n",
      "\n",
      "분류 보고서:\n",
      "              precision    recall  f1-score   support\n",
      "\n",
      "           0       0.83      0.86      0.85       105\n",
      "           1       0.79      0.76      0.77        74\n",
      "\n",
      "    accuracy                           0.82       179\n",
      "   macro avg       0.81      0.81      0.81       179\n",
      "weighted avg       0.81      0.82      0.82       179\n",
      "\n"
     ]
    },
    {
     "name": "stderr",
     "output_type": "stream",
     "text": [
      "c:\\Users\\user\\anaconda3\\envs\\torchenv\\lib\\site-packages\\xgboost\\core.py:158: UserWarning: [17:32:01] WARNING: C:\\buildkite-agent\\builds\\buildkite-windows-cpu-autoscaling-group-i-08cbc0333d8d4aae1-1\\xgboost\\xgboost-ci-windows\\src\\learner.cc:740: \n",
      "Parameters: { \"use_label_encoder\" } are not used.\n",
      "\n",
      "  warnings.warn(smsg, UserWarning)\n"
     ]
    }
   ],
   "source": [
    "from sklearn.model_selection import GridSearchCV\n",
    "\n",
    "xgb = XGBClassifier(use_label_encoder=False, eval_metric='logloss', random_state=42)\n",
    "\n",
    "# 2. 튜닝할 하이퍼파라미터 후보 목록 정의\n",
    "params = {\n",
    "    \"n_estimators\": [100,200,300,400,500],\n",
    "    \"max_depth\": [2,4,6,8,10],\n",
    "    \"learning_rate\": [0.01, 0.03, 0.05, 0.07, 0.09, 0.1],\n",
    "    \"subsample\": [0.2, 0.4, 0.6, 0.8, 1.0],\n",
    "    \"colsample_bytree\": [0.4, 0.6, 0.8, 1.0]\n",
    "}\n",
    "\n",
    "# 3. GridSearchCV 객체 생성 (5-폴드 교차검증)\n",
    "grid_search = GridSearchCV(\n",
    "    estimator=xgb,\n",
    "    param_grid=params,\n",
    "    scoring='accuracy',\n",
    "    cv=5,\n",
    "    verbose=2,\n",
    "    n_jobs=-1\n",
    ")\n",
    "\n",
    "# 4. 학습 및 최적 파라미터 탐색\n",
    "grid_search.fit(X_train, y_train)\n",
    "\n",
    "print(\"최적 파라미터:\", grid_search.best_params_)\n",
    "best_model = grid_search.best_estimator_\n",
    "y_pred = best_model.predict(X_val)\n",
    "\n",
    "print(\"검증 정확도:\", accuracy_score(y_val, y_pred))\n",
    "print(\"\\n분류 보고서:\")\n",
    "print(classification_report(y_val, y_pred))"
   ]
  },
  {
   "cell_type": "markdown",
   "id": "35eaa67b",
   "metadata": {},
   "source": [
    "## submission 파일 생성"
   ]
  },
  {
   "cell_type": "code",
   "execution_count": 198,
   "id": "c4f0a620",
   "metadata": {},
   "outputs": [
    {
     "name": "stdout",
     "output_type": "stream",
     "text": [
      "\n",
      "제출 파일이 생성되었습니다.\n"
     ]
    }
   ],
   "source": [
    "# 테스트 데이터 예측\n",
    "test_pred = xgb_wrapper.predict(test)\n",
    "\n",
    "# 제출 파일 생성\n",
    "submission = pd.DataFrame({\n",
    "    'PassengerId': test['PassengerId'],\n",
    "    'Survived': test_pred\n",
    "})\n",
    "submission.to_csv('submission.csv', index=False)\n",
    "print('\\n제출 파일이 생성되었습니다.')\n",
    "\n"
   ]
  },
  {
   "cell_type": "markdown",
   "id": "109c6841",
   "metadata": {},
   "source": [
    "## PyTorch 기반 Titanic 분류 예측 모델 "
   ]
  },
  {
   "cell_type": "code",
   "execution_count": 39,
   "id": "7c123ff9",
   "metadata": {},
   "outputs": [],
   "source": [
    "import torch\n",
    "import torch.nn as nn\n",
    "import torch.optim as optim\n",
    "from torch.utils.data import Dataset, DataLoader\n",
    "import pandas as pd\n",
    "import numpy as np\n",
    "from sklearn.model_selection import train_test_split\n",
    "from sklearn.preprocessing import StandardScaler\n",
    "from sklearn.metrics import accuracy_score, classification_report"
   ]
  },
  {
   "cell_type": "code",
   "execution_count": null,
   "id": "70091efa",
   "metadata": {},
   "outputs": [],
   "source": [
    "class TitanicDataset(Dataset):\n",
    "    def __init__(self, X, y=None):\n",
    "        # X, y 데이터를 torch.tensor로 변환 \n",
    "        self.X = torch.tensor(X.values, dtype=torch.float32)\n",
    "        self.y = torch.tensor(y.values, dtype=torch.long) if y is not None else None\n",
    "\n",
    "    def __len__(self):\n",
    "        return len(self.X)\n",
    "\n",
    "    # index를 받아 해당 index의 item을 반환 \n",
    "    def __getitem__(self, idx):\n",
    "        if self.y is not None:\n",
    "            return self.X[idx], self.y[idx]\n",
    "        else:\n",
    "            return self.X[idx]"
   ]
  },
  {
   "cell_type": "code",
   "execution_count": 41,
   "id": "3d461f7a",
   "metadata": {},
   "outputs": [],
   "source": [
    "class MLPClassifier(nn.Module):\n",
    "    def __init__(self, input_dim):\n",
    "        super().__init__()\n",
    "        self.model = nn.Sequential(\n",
    "            nn.Linear(input_dim, 32),\n",
    "            nn.ReLU(),\n",
    "            nn.Linear(32, 16),\n",
    "            nn.ReLU(),\n",
    "            nn.Linear(16, 2)  # 이진 분류 (0, 1)\n",
    "        )\n",
    "\n",
    "    def forward(self, x: torch.tensor) -> torch.tensor:\n",
    "        return self.model(x)\n"
   ]
  },
  {
   "cell_type": "code",
   "execution_count": 57,
   "id": "75d6aa5c",
   "metadata": {},
   "outputs": [],
   "source": [
    "# train_df = pd.read_csv('./data/train.csv')\n",
    "# test_df = pd.read_csv('./data/test.csv')\n",
    "\n",
    "# PyTorch 데이터셋에 맞게 변환 \n",
    "train_dataset = TitanicDataset(pd.DataFrame(X_train), y_train)\n",
    "val_dataset = TitanicDataset(pd.DataFrame(X_val), y_val)\n",
    "test_dataset = TitanicDataset(pd.DataFrame(test))\n",
    "\n",
    "train_loader = DataLoader(train_dataset, batch_size=32, shuffle=True)\n",
    "val_loader = DataLoader(val_dataset, batch_size=32)\n"
   ]
  },
  {
   "cell_type": "code",
   "execution_count": null,
   "id": "1607e731",
   "metadata": {},
   "outputs": [
    {
     "data": {
      "text/plain": [
       "(torch.Size([32, 10]), torch.Size([32]))"
      ]
     },
     "execution_count": 58,
     "metadata": {},
     "output_type": "execute_result"
    }
   ],
   "source": [
    "x, label = next(iter(train_loader))\n",
    "x.shape, label.shape # matmul error 디버깅 "
   ]
  },
  {
   "cell_type": "code",
   "execution_count": null,
   "id": "b08fe53a",
   "metadata": {},
   "outputs": [
    {
     "name": "stdout",
     "output_type": "stream",
     "text": [
      "cuda\n",
      "Epoch 1, Loss: 15.2564\n",
      "Epoch 2, Loss: 14.1834\n",
      "Epoch 3, Loss: 12.6241\n",
      "Epoch 4, Loss: 11.3552\n",
      "Epoch 5, Loss: 10.3571\n",
      "Epoch 6, Loss: 9.7109\n",
      "Epoch 7, Loss: 9.4821\n",
      "Epoch 8, Loss: 9.5123\n",
      "Epoch 9, Loss: 9.1703\n",
      "Epoch 10, Loss: 9.3063\n",
      "Epoch 11, Loss: 9.2001\n",
      "Epoch 12, Loss: 9.1707\n",
      "Epoch 13, Loss: 8.9510\n",
      "Epoch 14, Loss: 8.9225\n",
      "Epoch 15, Loss: 9.0300\n",
      "Epoch 16, Loss: 8.8625\n",
      "Epoch 17, Loss: 9.1572\n",
      "Epoch 18, Loss: 8.8854\n",
      "Epoch 19, Loss: 8.8089\n",
      "Epoch 20, Loss: 8.6019\n",
      "Epoch 21, Loss: 8.6853\n",
      "Epoch 22, Loss: 8.5325\n",
      "Epoch 23, Loss: 9.0856\n",
      "Epoch 24, Loss: 8.9515\n",
      "Epoch 25, Loss: 8.8469\n",
      "Epoch 26, Loss: 8.4226\n",
      "Epoch 27, Loss: 8.5959\n",
      "Epoch 28, Loss: 8.7012\n",
      "Epoch 29, Loss: 8.3819\n",
      "Epoch 30, Loss: 8.2574\n",
      "Epoch 31, Loss: 8.4648\n",
      "Epoch 32, Loss: 8.4018\n",
      "Epoch 33, Loss: 8.3019\n",
      "Epoch 34, Loss: 8.6011\n",
      "Epoch 35, Loss: 8.1066\n",
      "Epoch 36, Loss: 8.3576\n",
      "Epoch 37, Loss: 8.4462\n",
      "Epoch 38, Loss: 8.1436\n",
      "Epoch 39, Loss: 8.3372\n",
      "Epoch 40, Loss: 8.3034\n",
      "Epoch 41, Loss: 8.0601\n",
      "Epoch 42, Loss: 8.0493\n",
      "Epoch 43, Loss: 8.3738\n",
      "Epoch 44, Loss: 8.0610\n",
      "Epoch 45, Loss: 8.0794\n",
      "Epoch 46, Loss: 7.9371\n",
      "Epoch 47, Loss: 8.1153\n",
      "Epoch 48, Loss: 7.9714\n",
      "Epoch 49, Loss: 7.9461\n",
      "Epoch 50, Loss: 7.8973\n"
     ]
    }
   ],
   "source": [
    "device = torch.device('cuda' if torch.cuda.is_available() else 'cpu')\n",
    "print(device)\n",
    "\n",
    "model = MLPClassifier(input_dim=10).to(device)\n",
    "criterion = nn.CrossEntropyLoss() # 분류 손실함수 \n",
    "optimizer = optim.Adam(model.parameters(), lr=0.001)\n",
    "\n",
    "# 학습\n",
    "for epoch in range(50):\n",
    "    model.train()\n",
    "    total_loss = 0\n",
    "    for X_batch, y_batch in train_loader:\n",
    "        # 동일한 device로 이동 \n",
    "        X_batch, y_batch = X_batch.to(device), y_batch.to(device)\n",
    "\n",
    "        optimizer.zero_grad()\n",
    "        outputs = model(X_batch)\n",
    "        loss = criterion(outputs, y_batch)\n",
    "        loss.backward()\n",
    "        optimizer.step()\n",
    "        total_loss += loss.item()\n",
    "\n",
    "    print(f\"Epoch {epoch+1}, Loss: {total_loss:.4f}\")\n"
   ]
  },
  {
   "cell_type": "code",
   "execution_count": 60,
   "id": "115febdc",
   "metadata": {},
   "outputs": [
    {
     "name": "stdout",
     "output_type": "stream",
     "text": [
      "검증 정확도: 0.8324022346368715\n",
      "\n",
      "분류 보고서:\n",
      "               precision    recall  f1-score   support\n",
      "\n",
      "           0       0.83      0.90      0.86       105\n",
      "           1       0.83      0.74      0.79        74\n",
      "\n",
      "    accuracy                           0.83       179\n",
      "   macro avg       0.83      0.82      0.82       179\n",
      "weighted avg       0.83      0.83      0.83       179\n",
      "\n"
     ]
    }
   ],
   "source": [
    "model.eval()\n",
    "all_preds = []\n",
    "all_labels = []\n",
    "\n",
    "with torch.inference_mode():\n",
    "    for X_batch, y_batch in val_loader:\n",
    "        X_batch = X_batch.to(device)\n",
    "        outputs = model(X_batch)\n",
    "        preds = torch.argmax(outputs, dim=1).cpu().numpy()\n",
    "        all_preds.extend(preds)\n",
    "        all_labels.extend(y_batch.numpy())\n",
    "\n",
    "print(\"검증 정확도:\", accuracy_score(all_labels, all_preds))\n",
    "print(\"\\n분류 보고서:\\n\", classification_report(all_labels, all_preds))\n"
   ]
  },
  {
   "cell_type": "code",
   "execution_count": 63,
   "id": "fca0a908",
   "metadata": {},
   "outputs": [
    {
     "name": "stdout",
     "output_type": "stream",
     "text": [
      "submission 저장 완료\n"
     ]
    }
   ],
   "source": [
    "test_loader = DataLoader(test_dataset, batch_size=32)\n",
    "test_preds = []\n",
    "\n",
    "model.eval()\n",
    "with torch.inference_mode():\n",
    "    for X_batch in test_loader:\n",
    "        X_batch = X_batch.to(device)\n",
    "        outputs = model(X_batch)\n",
    "        preds = torch.argmax(outputs, dim=1).cpu().numpy()\n",
    "        test_preds.extend(preds)\n",
    "\n",
    "# 예측 결과 DataFrame 저장\n",
    "submission = pd.DataFrame({\n",
    "    'PassengerId': test['PassengerId'],\n",
    "    'Survived': test_preds\n",
    "})\n",
    "submission.to_csv('submission.csv', index=False)\n",
    "print(f\"submission 저장 완료\")\n"
   ]
  },
  {
   "cell_type": "code",
   "execution_count": null,
   "id": "67b08499",
   "metadata": {},
   "outputs": [],
   "source": []
  }
 ],
 "metadata": {
  "kernelspec": {
   "display_name": "torchenv",
   "language": "python",
   "name": "python3"
  },
  "language_info": {
   "codemirror_mode": {
    "name": "ipython",
    "version": 3
   },
   "file_extension": ".py",
   "mimetype": "text/x-python",
   "name": "python",
   "nbconvert_exporter": "python",
   "pygments_lexer": "ipython3",
   "version": "3.9.21"
  }
 },
 "nbformat": 4,
 "nbformat_minor": 5
}
