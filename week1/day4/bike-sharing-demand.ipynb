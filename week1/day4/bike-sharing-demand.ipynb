{
 "cells": [
  {
   "cell_type": "markdown",
   "id": "b8cf5d51",
   "metadata": {},
   "source": [
    "Reference: https://www.kaggle.com/competitions/bike-sharing-demand/overview"
   ]
  },
  {
   "cell_type": "code",
   "execution_count": 154,
   "id": "c1dc34c5",
   "metadata": {},
   "outputs": [],
   "source": [
    "import pandas as pd\n",
    "import numpy as np\n",
    "from sklearn.ensemble import RandomForestRegressor\n",
    "from xgboost import XGBRegressor\n",
    "from lightgbm import LGBMRegressor\n",
    "from sklearn.linear_model import LinearRegression, Ridge, Lasso\n",
    "from sklearn.model_selection import train_test_split\n",
    "from sklearn.metrics import mean_squared_error, mean_absolute_error\n",
    "import matplotlib.pyplot as plt\n",
    "import seaborn as sns\n",
    "import warnings\n",
    "\n",
    "warnings.filterwarnings('ignore')\n",
    "\n",
    "plt.rcParams[\"axes.unicode_minus\"] = False\n",
    "plt.rc(\"font\", family=\"NanumGothicCoding\")\n"
   ]
  },
  {
   "cell_type": "code",
   "execution_count": 157,
   "id": "2fce5738",
   "metadata": {},
   "outputs": [],
   "source": [
    "train = pd.read_csv('../../data/bicycle_train.csv') \n",
    "test = pd.read_csv('../../data/bicycle_test.csv')   \n",
    "\n",
    "# test_datetime을 제출 파일 생성을 위해 미리 저장\n",
    "test_datetime_for_submission = test['datetime']"
   ]
  },
  {
   "cell_type": "code",
   "execution_count": 158,
   "id": "f9e9cf54",
   "metadata": {},
   "outputs": [
    {
     "name": "stdout",
     "output_type": "stream",
     "text": [
      "<class 'pandas.core.frame.DataFrame'>\n",
      "RangeIndex: 10886 entries, 0 to 10885\n",
      "Data columns (total 12 columns):\n",
      " #   Column      Non-Null Count  Dtype  \n",
      "---  ------      --------------  -----  \n",
      " 0   datetime    10886 non-null  object \n",
      " 1   season      10886 non-null  int64  \n",
      " 2   holiday     10886 non-null  int64  \n",
      " 3   workingday  10886 non-null  int64  \n",
      " 4   weather     10886 non-null  int64  \n",
      " 5   temp        10886 non-null  float64\n",
      " 6   atemp       10886 non-null  float64\n",
      " 7   humidity    10886 non-null  int64  \n",
      " 8   windspeed   10886 non-null  float64\n",
      " 9   casual      10886 non-null  int64  \n",
      " 10  registered  10886 non-null  int64  \n",
      " 11  count       10886 non-null  int64  \n",
      "dtypes: float64(3), int64(8), object(1)\n",
      "memory usage: 1020.7+ KB\n"
     ]
    }
   ],
   "source": [
    "train.info()"
   ]
  },
  {
   "cell_type": "code",
   "execution_count": 159,
   "id": "db03d1ea",
   "metadata": {},
   "outputs": [
    {
     "name": "stdout",
     "output_type": "stream",
     "text": [
      "<class 'pandas.core.frame.DataFrame'>\n",
      "RangeIndex: 6493 entries, 0 to 6492\n",
      "Data columns (total 9 columns):\n",
      " #   Column      Non-Null Count  Dtype  \n",
      "---  ------      --------------  -----  \n",
      " 0   datetime    6493 non-null   object \n",
      " 1   season      6493 non-null   int64  \n",
      " 2   holiday     6493 non-null   int64  \n",
      " 3   workingday  6493 non-null   int64  \n",
      " 4   weather     6493 non-null   int64  \n",
      " 5   temp        6493 non-null   float64\n",
      " 6   atemp       6493 non-null   float64\n",
      " 7   humidity    6493 non-null   int64  \n",
      " 8   windspeed   6493 non-null   float64\n",
      "dtypes: float64(3), int64(5), object(1)\n",
      "memory usage: 456.7+ KB\n"
     ]
    }
   ],
   "source": [
    "test.info()"
   ]
  },
  {
   "cell_type": "markdown",
   "id": "7b3d871d",
   "metadata": {},
   "source": [
    "### datetime\n",
    "\n",
    "`datetime`이 현재 object이므로 가공 필요"
   ]
  },
  {
   "cell_type": "code",
   "execution_count": 160,
   "id": "6ba223e8",
   "metadata": {},
   "outputs": [
    {
     "data": {
      "text/html": [
       "<div>\n",
       "<style scoped>\n",
       "    .dataframe tbody tr th:only-of-type {\n",
       "        vertical-align: middle;\n",
       "    }\n",
       "\n",
       "    .dataframe tbody tr th {\n",
       "        vertical-align: top;\n",
       "    }\n",
       "\n",
       "    .dataframe thead th {\n",
       "        text-align: right;\n",
       "    }\n",
       "</style>\n",
       "<table border=\"1\" class=\"dataframe\">\n",
       "  <thead>\n",
       "    <tr style=\"text-align: right;\">\n",
       "      <th></th>\n",
       "      <th>datetime</th>\n",
       "      <th>season</th>\n",
       "      <th>holiday</th>\n",
       "      <th>workingday</th>\n",
       "      <th>weather</th>\n",
       "      <th>temp</th>\n",
       "      <th>atemp</th>\n",
       "      <th>humidity</th>\n",
       "      <th>windspeed</th>\n",
       "      <th>casual</th>\n",
       "      <th>registered</th>\n",
       "      <th>count</th>\n",
       "      <th>year</th>\n",
       "      <th>month</th>\n",
       "      <th>day</th>\n",
       "      <th>hour</th>\n",
       "      <th>dayofweek</th>\n",
       "    </tr>\n",
       "  </thead>\n",
       "  <tbody>\n",
       "    <tr>\n",
       "      <th>0</th>\n",
       "      <td>2011-01-01 00:00:00</td>\n",
       "      <td>1</td>\n",
       "      <td>0</td>\n",
       "      <td>0</td>\n",
       "      <td>1</td>\n",
       "      <td>9.84</td>\n",
       "      <td>14.395</td>\n",
       "      <td>81</td>\n",
       "      <td>0.0</td>\n",
       "      <td>3</td>\n",
       "      <td>13</td>\n",
       "      <td>16</td>\n",
       "      <td>2011</td>\n",
       "      <td>1</td>\n",
       "      <td>1</td>\n",
       "      <td>0</td>\n",
       "      <td>5</td>\n",
       "    </tr>\n",
       "    <tr>\n",
       "      <th>1</th>\n",
       "      <td>2011-01-01 01:00:00</td>\n",
       "      <td>1</td>\n",
       "      <td>0</td>\n",
       "      <td>0</td>\n",
       "      <td>1</td>\n",
       "      <td>9.02</td>\n",
       "      <td>13.635</td>\n",
       "      <td>80</td>\n",
       "      <td>0.0</td>\n",
       "      <td>8</td>\n",
       "      <td>32</td>\n",
       "      <td>40</td>\n",
       "      <td>2011</td>\n",
       "      <td>1</td>\n",
       "      <td>1</td>\n",
       "      <td>1</td>\n",
       "      <td>5</td>\n",
       "    </tr>\n",
       "    <tr>\n",
       "      <th>2</th>\n",
       "      <td>2011-01-01 02:00:00</td>\n",
       "      <td>1</td>\n",
       "      <td>0</td>\n",
       "      <td>0</td>\n",
       "      <td>1</td>\n",
       "      <td>9.02</td>\n",
       "      <td>13.635</td>\n",
       "      <td>80</td>\n",
       "      <td>0.0</td>\n",
       "      <td>5</td>\n",
       "      <td>27</td>\n",
       "      <td>32</td>\n",
       "      <td>2011</td>\n",
       "      <td>1</td>\n",
       "      <td>1</td>\n",
       "      <td>2</td>\n",
       "      <td>5</td>\n",
       "    </tr>\n",
       "    <tr>\n",
       "      <th>3</th>\n",
       "      <td>2011-01-01 03:00:00</td>\n",
       "      <td>1</td>\n",
       "      <td>0</td>\n",
       "      <td>0</td>\n",
       "      <td>1</td>\n",
       "      <td>9.84</td>\n",
       "      <td>14.395</td>\n",
       "      <td>75</td>\n",
       "      <td>0.0</td>\n",
       "      <td>3</td>\n",
       "      <td>10</td>\n",
       "      <td>13</td>\n",
       "      <td>2011</td>\n",
       "      <td>1</td>\n",
       "      <td>1</td>\n",
       "      <td>3</td>\n",
       "      <td>5</td>\n",
       "    </tr>\n",
       "    <tr>\n",
       "      <th>4</th>\n",
       "      <td>2011-01-01 04:00:00</td>\n",
       "      <td>1</td>\n",
       "      <td>0</td>\n",
       "      <td>0</td>\n",
       "      <td>1</td>\n",
       "      <td>9.84</td>\n",
       "      <td>14.395</td>\n",
       "      <td>75</td>\n",
       "      <td>0.0</td>\n",
       "      <td>0</td>\n",
       "      <td>1</td>\n",
       "      <td>1</td>\n",
       "      <td>2011</td>\n",
       "      <td>1</td>\n",
       "      <td>1</td>\n",
       "      <td>4</td>\n",
       "      <td>5</td>\n",
       "    </tr>\n",
       "  </tbody>\n",
       "</table>\n",
       "</div>"
      ],
      "text/plain": [
       "             datetime  season  holiday  workingday  ...  month  day  hour  dayofweek\n",
       "0 2011-01-01 00:00:00       1        0           0  ...      1    1     0          5\n",
       "1 2011-01-01 01:00:00       1        0           0  ...      1    1     1          5\n",
       "2 2011-01-01 02:00:00       1        0           0  ...      1    1     2          5\n",
       "3 2011-01-01 03:00:00       1        0           0  ...      1    1     3          5\n",
       "4 2011-01-01 04:00:00       1        0           0  ...      1    1     4          5\n",
       "\n",
       "[5 rows x 17 columns]"
      ]
     },
     "execution_count": 160,
     "metadata": {},
     "output_type": "execute_result"
    }
   ],
   "source": [
    "for dataset in [train, test]:\n",
    "    dataset['datetime'] = pd.to_datetime(dataset['datetime'])\n",
    "    dataset['year'] = dataset['datetime'].dt.year\n",
    "    dataset['month'] = dataset['datetime'].dt.month\n",
    "    dataset['day'] = dataset['datetime'].dt.day\n",
    "    dataset['hour'] = dataset['datetime'].dt.hour\n",
    "    dataset['dayofweek'] = dataset['datetime'].dt.dayofweek # 요일 추가\n",
    "    \n",
    "train.head()\n"
   ]
  },
  {
   "cell_type": "markdown",
   "id": "d3685170",
   "metadata": {},
   "source": [
    "### season에 따른 자전거 대여 빈도 확인"
   ]
  },
  {
   "cell_type": "code",
   "execution_count": 161,
   "id": "79f6cec0",
   "metadata": {},
   "outputs": [
    {
     "data": {
      "text/plain": [
       "Text(0.5, 1.0, 'Season에 따른 자전거 대여 빈도')"
      ]
     },
     "execution_count": 161,
     "metadata": {},
     "output_type": "execute_result"
    },
    {
     "data": {
      "image/png": "[encoded data removed]",
      "text/plain": [
       "<Figure size 640x480 with 1 Axes>"
      ]
     },
     "metadata": {},
     "output_type": "display_data"
    }
   ],
   "source": [
    "sns.barplot(data = train, x = \"season\", y = \"count\")\n",
    "plt.title(\"Season에 따른 자전거 대여 빈도\")\n",
    "\n",
    "## 가을 > 여름 > 겨울 > 봄 순서로 많다. 생각보다 봄에 자전거 타는 빈도가 적다."
   ]
  },
  {
   "cell_type": "markdown",
   "id": "66b5ad7e",
   "metadata": {},
   "source": [
    "### 주말 제외한 국경일 등의 휴일과 주중의 자전거 대여 수 비교"
   ]
  },
  {
   "cell_type": "code",
   "execution_count": 162,
   "id": "22d16f0d",
   "metadata": {},
   "outputs": [
    {
     "data": {
      "text/plain": [
       "Text(0.5, 1.0, '주말 및 공휴일과 주중의 자전거 대여 수 비교')"
      ]
     },
     "execution_count": 162,
     "metadata": {},
     "output_type": "execute_result"
    },
    {
     "data": {
      "image/png": "[encoded data removed]",
      "text/plain": [
       "<Figure size 640x480 with 1 Axes>"
      ]
     },
     "metadata": {},
     "output_type": "display_data"
    }
   ],
   "source": [
    "sns.barplot(data = train, x = \"holiday\", y = 'count')\n",
    "\n",
    "plt.title(\"주말 및 공휴일과 주중의 자전거 대여 수 비교\", fontsize = 15)\n",
    "\n",
    "# 토 일 주말을 제외한 국경일 등의 휴일과 휴일이 아닌 날의 대여 수는 비슷하다.\n",
    "# 휴일이 아닌 날이 휴일보다 빈도가 조금 더 높다. "
   ]
  },
  {
   "cell_type": "markdown",
   "id": "30936fe1",
   "metadata": {},
   "source": [
    "### 주말과 주중의 자전거 대여 수 비교"
   ]
  },
  {
   "cell_type": "code",
   "execution_count": 163,
   "id": "44ff6d1a",
   "metadata": {},
   "outputs": [
    {
     "data": {
      "text/plain": [
       "Text(0.5, 1.0, '주말과 주중의 자전거 대여 수 비교')"
      ]
     },
     "execution_count": 163,
     "metadata": {},
     "output_type": "execute_result"
    },
    {
     "data": {
      "image/png": "[encoded data removed]",
      "text/plain": [
       "<Figure size 640x480 with 1 Axes>"
      ]
     },
     "metadata": {},
     "output_type": "display_data"
    }
   ],
   "source": [
    "sns.barplot(data = train, x = \"workingday\", y = 'count')\n",
    "\n",
    "plt.title(\"주말과 주중의 자전거 대여 수 비교\", fontsize = 15)"
   ]
  },
  {
   "cell_type": "markdown",
   "id": "c276cbeb",
   "metadata": {},
   "source": [
    "### 전체적인 데이터의 자전거 대여 빈도 시각화"
   ]
  },
  {
   "cell_type": "code",
   "execution_count": 164,
   "id": "5b07437d",
   "metadata": {},
   "outputs": [
    {
     "data": {
      "image/png": "[encoded data removed]",
      "text/plain": [
       "<Figure size 1600x800 with 8 Axes>"
      ]
     },
     "metadata": {},
     "output_type": "display_data"
    }
   ],
   "source": [
    "fig, axs = plt.subplots(nrows = 2, ncols = 4, figsize = (16,8))\n",
    "\n",
    "cat_features = ['year','month','season','weather','day','hour','holiday','workingday']\n",
    "\n",
    "# cat_features에 있는 모든 칼럼별로 개별 칼럼값에 따른 count의 합을 barplot으로 시각화\n",
    "\n",
    "for i, feature in enumerate(cat_features):\n",
    "  row = int(i/4)\n",
    "  col = i % 4\n",
    "  \n",
    "  sns.barplot(data = train, x = feature, y = 'count', ax = axs[row][col])"
   ]
  },
  {
   "cell_type": "markdown",
   "id": "0cc438aa",
   "metadata": {},
   "source": [
    "### 손실 함수 정의\n",
    "\n",
    "- 성능 평가 방법은 RMSLE(Root Mean Square Log Error)이므로 오류 값의 로그에 대한 RMSE이다.\n",
    "- scikit-learn에서는 RMSLE를 제공하지 않으므로 따로 사용자 정의"
   ]
  },
  {
   "cell_type": "code",
   "execution_count": null,
   "id": "ec858cc1",
   "metadata": {},
   "outputs": [],
   "source": [
    "def rmsle(y, pred):\n",
    "  log_y = np.log1p(y)\n",
    "  log_pred = np.log1p(pred)\n",
    "  \n",
    "  squared_error = (log_y - log_pred) ** 2\n",
    "  rmsle = np.sqrt(np.mean(squared_error))\n",
    "  \n",
    "  return rmsle\n",
    "\n",
    "def evaluate_regr(y, pred):\n",
    "  rmsle_val = rmsle(y, pred)\n",
    "  rmse_val = np.sqrt(mean_squared_error(y, pred))\n",
    "  mae_val = mean_absolute_error(y, pred)\n",
    "  \n",
    "  print(f\"RMSLE: {rmsle_val:.3f} | RMSE: {rmse_val:.3f} | MAE: {mae_val:.3f}\")"
   ]
  },
  {
   "cell_type": "markdown",
   "id": "f219d7b2",
   "metadata": {},
   "source": [
    "### 데이터 전처리\n",
    "\n",
    "- 모델 적용 전, 데이터가 정규분포로 되어 있는지 확인 \n",
    "- 카테고리 피처에 대해 원-핫 인코딩으로 피처 인코딩"
   ]
  },
  {
   "cell_type": "code",
   "execution_count": 166,
   "id": "0711cf5d",
   "metadata": {},
   "outputs": [
    {
     "data": {
      "text/plain": [
       "<AxesSubplot:>"
      ]
     },
     "execution_count": 166,
     "metadata": {},
     "output_type": "execute_result"
    },
    {
     "data": {
      "image/png": "[encoded data removed]",
      "text/plain": [
       "<Figure size 640x480 with 1 Axes>"
      ]
     },
     "metadata": {},
     "output_type": "display_data"
    }
   ],
   "source": [
    "y.hist()"
   ]
  },
  {
   "cell_type": "code",
   "execution_count": 168,
   "id": "3db2821b",
   "metadata": {},
   "outputs": [
    {
     "data": {
      "text/plain": [
       "<AxesSubplot:>"
      ]
     },
     "execution_count": 168,
     "metadata": {},
     "output_type": "execute_result"
    },
    {
     "data": {
      "image/png": "[encoded data removed]",
      "text/plain": [
       "<Figure size 640x480 with 1 Axes>"
      ]
     },
     "metadata": {},
     "output_type": "display_data"
    }
   ],
   "source": [
    "# 'count' 컬럼은 훈련 데이터의 타겟이므로 따로 분리하고, 로그 변환을 적용\n",
    "# 자전거 대여량은 비대칭 분포이므로 np.log1p를 사용해 정규 분포에 가깝게 만듦\n",
    "y_log_transform = np.log1p(train['count'])\n",
    "y_log_transform.hist()"
   ]
  },
  {
   "cell_type": "code",
   "execution_count": 170,
   "id": "de5b1b69",
   "metadata": {},
   "outputs": [],
   "source": [
    "# 훈련 데이터에서 불필요한 컬럼 제거: 'count', 'casual', 'registered'\n",
    "# casual + registerd = count 이므로 제거 \n",
    "features_to_drop_train = ['count', 'casual', 'registered', 'datetime']\n",
    "train_processed = train.drop(features_to_drop_train, axis=1)\n",
    "\n",
    "# 테스트 데이터에서 불필요한 컬럼 제거: 'datetime'\n",
    "features_to_drop_test = ['datetime']\n",
    "test_processed = test.drop(features_to_drop_test, axis=1)"
   ]
  },
  {
   "cell_type": "markdown",
   "id": "e3005bdb",
   "metadata": {},
   "source": [
    "### 원-핫 인코딩"
   ]
  },
  {
   "cell_type": "code",
   "execution_count": 171,
   "id": "2f89a731",
   "metadata": {},
   "outputs": [],
   "source": [
    "all_data_for_ohe = pd.concat([train_processed, test_processed], ignore_index=True)\n",
    "\n",
    "# 원-핫 인코딩할 범주형 컬럼 리스트\n",
    "ohe_cols = ['year', 'month', 'hour', 'dayofweek', 'holiday', 'workingday', 'season', 'weather']\n",
    "\n",
    "# 합쳐진 데이터에 pd.get_dummies() 적용\n",
    "all_data_ohe = pd.get_dummies(all_data_for_ohe, columns=ohe_cols, dtype=int)"
   ]
  },
  {
   "cell_type": "markdown",
   "id": "19d1fd3b",
   "metadata": {},
   "source": [
    "### 데이터 분리"
   ]
  },
  {
   "cell_type": "code",
   "execution_count": 172,
   "id": "196bff32",
   "metadata": {},
   "outputs": [
    {
     "name": "stdout",
     "output_type": "stream",
     "text": [
      "훈련 데이터 피처 개수 (X.shape[1]): 62\n",
      "테스트 데이터 피처 개수 (test_final_for_prediction.shape[1]): 62\n"
     ]
    }
   ],
   "source": [
    "# 다시 훈련 데이터와 테스트 데이터로 분리\n",
    "X = all_data_ohe.iloc[:len(train_processed)]\n",
    "test_final_for_prediction = all_data_ohe.iloc[len(train_processed):]\n",
    "\n",
    "# test_final_for_prediction의 인덱스를 원본 test 데이터의 인덱스로 재설정해야 인덱스 일치\n",
    "test_final_for_prediction.index = test_processed.index\n",
    "\n",
    "# 분리된 데이터의 피처 개수 확인 (이 두 값이 같아야 합니다!)\n",
    "print(f\"훈련 데이터 피처 개수 (X.shape[1]): {X.shape[1]}\")\n",
    "print(f\"테스트 데이터 피처 개수 (test_final_for_prediction.shape[1]): {test_final_for_prediction.shape[1]}\")"
   ]
  },
  {
   "cell_type": "markdown",
   "id": "f163e88f",
   "metadata": {},
   "source": [
    "### 모델 선정 및 학습"
   ]
  },
  {
   "cell_type": "code",
   "execution_count": 175,
   "id": "8f8e488e",
   "metadata": {},
   "outputs": [
    {
     "name": "stdout",
     "output_type": "stream",
     "text": [
      "\n",
      "--- 각 모델의 검증 성능 평가 ---\n",
      "### LinearRegression ###\n",
      "  - RMLSE: 0.5809\n",
      "  - RMSE: 95.0898\n",
      "  - MAE: 61.7584\n",
      "------------------------------\n",
      "### RandomForestRegressor ###\n",
      "  - RMLSE: 0.3292\n",
      "  - RMSE: 44.9201\n",
      "  - MAE: 27.2622\n",
      "------------------------------\n",
      "### XGBRegressor ###\n",
      "  - RMLSE: 0.3113\n",
      "  - RMSE: 43.8545\n",
      "  - MAE: 26.9669\n",
      "------------------------------\n",
      "### LGBMRegressor ###\n",
      "  - RMLSE: 0.2913\n",
      "  - RMSE: 40.3786\n",
      "  - MAE: 24.5144\n",
      "------------------------------\n"
     ]
    }
   ],
   "source": [
    "X_train, X_val, y_train, y_val = train_test_split(X, y_log_transform, test_size=0.2, random_state=42)\n",
    "\n",
    "# 다양한 회귀 모델 정의\n",
    "models = {\n",
    "    \"LinearRegression\": LinearRegression(), \n",
    "    \"RandomForestRegressor\": RandomForestRegressor(n_estimators=500, random_state=42),\n",
    "    \"XGBRegressor\": XGBRegressor(n_estimators=500, random_state=42),\n",
    "    \"LGBMRegressor\": LGBMRegressor(n_estimators=500, random_state=42)\n",
    "}\n",
    "\n",
    "print(\"\\n--- 각 모델의 검증 성능 평가 ---\")\n",
    "for name, model in models.items():\n",
    "    print(f\"### {name} ###\")\n",
    "    model.fit(X_train, y_train)\n",
    "    val_pred_raw = model.predict(X_val)\n",
    "    # 평가를 위해 예측 결과와 실제 값을 np.expm1으로 변환하여 원래 스케일로 변환 \n",
    "    val_pred = np.expm1(val_pred_raw)\n",
    "    y_val_original = np.expm1(y_val)\n",
    "    \n",
    "    # # 모델별 피처들의 회귀계수 영향도 시각화 \n",
    "    # coef = pd.Series(model.coef_, index = X.columns)\n",
    "    # coef_sort = coef.sort_values(ascending = False)\n",
    "    # sns.barplot(x = coef_sort.values, y = coef_sort.index)\n",
    "    \n",
    "    evaluate_regr(y_val_original, val_pred)\n",
    "    print(\"-\" * 30)"
   ]
  },
  {
   "cell_type": "markdown",
   "id": "74dd2a7e",
   "metadata": {},
   "source": [
    "### XGBoost, RGBM, RandomForest 앙상블 "
   ]
  },
  {
   "cell_type": "code",
   "execution_count": 182,
   "id": "f8e92377",
   "metadata": {},
   "outputs": [
    {
     "name": "stdout",
     "output_type": "stream",
     "text": [
      "\n",
      "--- 테스트 데이터 최종 예측 및 앙상블 ---\n"
     ]
    }
   ],
   "source": [
    "# 7. 테스트 데이터 예측 및 앙상블\n",
    "print(\"\\n--- 테스트 데이터 최종 예측 및 앙상블 ---\")\n",
    "\n",
    "# 모든 모델을 전체 훈련 데이터(X, y_log_transform)로 다시 훈련\n",
    "final_rf_model = RandomForestRegressor(n_estimators=500, random_state=42)\n",
    "final_xgb_model = XGBRegressor(n_estimators=500, random_state=42)\n",
    "final_lgbm_model = LGBMRegressor(n_estimators=500, random_state=42)\n",
    "\n",
    "final_rf_model.fit(X, y_log_transform)\n",
    "final_xgb_model.fit(X, y_log_transform)\n",
    "final_lgbm_model.fit(X, y_log_transform)\n",
    "\n",
    "# 테스트 데이터에 대한 예측 수행\n",
    "rf_test_pred_raw = final_rf_model.predict(test_final_for_prediction)\n",
    "xgb_test_pred_raw = final_xgb_model.predict(test_final_for_prediction)\n",
    "lgbm_test_pred_raw = final_lgbm_model.predict(test_final_for_prediction)\n",
    "\n",
    "# 로그 변환된 예측값을 원래 스케일로 되돌립니다.\n",
    "rf_test_pred = np.expm1(rf_test_pred_raw)\n",
    "xgb_test_pred = np.expm1(xgb_test_pred_raw)\n",
    "lgbm_test_pred = np.expm1(lgbm_test_pred_raw)"
   ]
  },
  {
   "cell_type": "code",
   "execution_count": 183,
   "id": "f6b51b86",
   "metadata": {},
   "outputs": [],
   "source": [
    "# 앙상블 \n",
    "final_ensemble_predictions = (rf_test_pred + xgb_test_pred + lgbm_test_pred) / 3\n",
    "\n",
    "# 자전거 대여량은 음수가 될 수 없으므로, 예측값이 음수이면 0으로 \n",
    "final_ensemble_predictions[final_ensemble_predictions < 0] = 0"
   ]
  },
  {
   "cell_type": "code",
   "execution_count": 184,
   "id": "cff38f37",
   "metadata": {},
   "outputs": [
    {
     "name": "stdout",
     "output_type": "stream",
     "text": [
      "\n",
      "--- 제출 파일 \"submission.csv\"가 성공적으로 생성되었습니다! ---\n"
     ]
    }
   ],
   "source": [
    "submission = pd.DataFrame({\n",
    "    'datetime': test_datetime_for_submission, # 미리 저장해둔 test_datetime 사용\n",
    "    'count': final_ensemble_predictions\n",
    "})\n",
    "\n",
    "submission.to_csv('submission.csv', index=False)\n",
    "\n",
    "print('\\n--- 제출 파일 \"submission.csv\"가 성공적으로 생성되었습니다! ---')"
   ]
  },
  {
   "cell_type": "markdown",
   "id": "c36112af",
   "metadata": {},
   "source": [
    "### 선형 회귀에서의 회귀계수별 영향도 시각화"
   ]
  },
  {
   "cell_type": "code",
   "execution_count": 185,
   "id": "0168387d",
   "metadata": {},
   "outputs": [
    {
     "name": "stdout",
     "output_type": "stream",
     "text": [
      "###LinearRegression###\n",
      "  - RMLSE: 0.5808\n",
      "  - RMSE: 96.7439\n",
      "  - MAE: 62.7767\n"
     ]
    }
   ],
   "source": [
    "from sklearn.linear_model import Ridge, Lasso\n",
    "\n",
    "y_log_transform = np.log1p(y)\n",
    "\n",
    "X_train, X_val, y_train, y_val = train_test_split(X, y_log_transform, test_size = 0.3, random_state = 42)\n",
    "\n",
    "def get_model_predict(model, X_train, X_val, y_train, y_val, is_expm1 = False):\n",
    "  model.fit(X_train, y_train)\n",
    "  pred = model.predict(X_val)\n",
    "  if is_expm1:\n",
    "    y_val = np.expm1(y_val)\n",
    "    pred = np.expm1(pred)\n",
    "    \n",
    "  print(f\"###{model.__class__.__name__}###\")\n",
    "  evaluate_regr(y_val, pred)\n",
    "  \n",
    "lr_reg = LinearRegression()\n",
    "#ridge_reg = Ridge(alpha = 10)\n",
    "#lasso_reg = Lasso(alpha = 0.01)\n",
    "\n",
    "get_model_predict(lr_reg, X_train.values, X_val.values, y_train.values, y_val.values, is_expm1 = True)"
   ]
  },
  {
   "cell_type": "code",
   "execution_count": 186,
   "id": "c546ec9b",
   "metadata": {},
   "outputs": [
    {
     "data": {
      "text/plain": [
       "<AxesSubplot:>"
      ]
     },
     "execution_count": 186,
     "metadata": {},
     "output_type": "execute_result"
    },
    {
     "data": {
      "image/png": "[encoded data removed]",
      "text/plain": [
       "<Figure size 640x480 with 1 Axes>"
      ]
     },
     "metadata": {},
     "output_type": "display_data"
    }
   ],
   "source": [
    "coef = pd.Series(lr_reg.coef_, index = X.columns)\n",
    "coef_sort = coef.sort_values(ascending = False).head(10)\n",
    "sns.barplot(x = coef_sort.values, y = coef_sort.index)"
   ]
  },
  {
   "cell_type": "code",
   "execution_count": null,
   "id": "5cbda357",
   "metadata": {},
   "outputs": [],
   "source": []
  }
 ],
 "metadata": {
  "kernelspec": {
   "display_name": "torchenv",
   "language": "python",
   "name": "python3"
  },
  "language_info": {
   "codemirror_mode": {
    "name": "ipython",
    "version": 3
   },
   "file_extension": ".py",
   "mimetype": "text/x-python",
   "name": "python",
   "nbconvert_exporter": "python",
   "pygments_lexer": "ipython3",
   "version": "3.9.21"
  }
 },
 "nbformat": 4,
 "nbformat_minor": 5
}
