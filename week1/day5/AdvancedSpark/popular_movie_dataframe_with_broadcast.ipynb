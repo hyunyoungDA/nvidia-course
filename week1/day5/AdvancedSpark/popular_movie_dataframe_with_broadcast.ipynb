{
 "cells": [
  {
   "cell_type": "code",
   "execution_count": 1,
   "id": "983482b0",
   "metadata": {},
   "outputs": [],
   "source": [
    "import os\n",
    "os.environ['PYSPARK_PYTHON'] = \"C:/Users/user/anaconda3/envs/torchenv/python.exe\"\n",
    "os.environ['PYSPARK_DRIVER_PYTHON'] = \"C:/Users/user/anaconda3/envs/torchenv/python.exe\""
   ]
  },
  {
   "cell_type": "code",
   "execution_count": 19,
   "id": "0f761235",
   "metadata": {},
   "outputs": [],
   "source": [
    "from pyspark.sql import SparkSession\n",
    "from pyspark.sql import functions as F\n",
    "from pyspark.sql.types import StructField, StructType, IntegerType, LongType\n",
    "import codecs # 브로드캐스트에 필요한 u.item 파일을 로드하는데 사용할 것 "
   ]
  },
  {
   "cell_type": "markdown",
   "id": "daf46229",
   "metadata": {},
   "source": [
    "### 파일 로드 함수 정의"
   ]
  },
  {
   "cell_type": "code",
   "execution_count": 20,
   "id": "ae606da0",
   "metadata": {},
   "outputs": [],
   "source": [
    "def load_movie_names():\n",
    "  movienames = {}\n",
    "  \n",
    "  with codecs.open(\"C:/nvidia_course/nvidia-course/week1/day5/AdvancedSpark/ml-100k/u.item\", 'r',\n",
    "                   encoding = 'ISO-8859-1', errors = 'ignore') as f:\n",
    "    for line in f:\n",
    "      fields = line.split(\"|\") # 해당 데이터는 |로 구분되어있으므로 구분자로 분리\n",
    "      \n",
    "      # movienames라는 딕셔너리의 키를 영화 ID, value 값을 영화 제목으로 저장 \n",
    "      movienames[int(fields[0])] = fields[1]\n",
    "      \n",
    "  return movienames"
   ]
  },
  {
   "cell_type": "code",
   "execution_count": 21,
   "id": "80e07fdf",
   "metadata": {},
   "outputs": [
    {
     "data": {
      "text/html": [
       "\n",
       "            <div>\n",
       "                <p><b>SparkSession - in-memory</b></p>\n",
       "                \n",
       "        <div>\n",
       "            <p><b>SparkContext</b></p>\n",
       "\n",
       "            <p><a href=\"http://DESKTOP-BC2FU6J:4040\">Spark UI</a></p>\n",
       "\n",
       "            <dl>\n",
       "              <dt>Version</dt>\n",
       "                <dd><code>v3.5.5</code></dd>\n",
       "              <dt>Master</dt>\n",
       "                <dd><code>local</code></dd>\n",
       "              <dt>AppName</dt>\n",
       "                <dd><code>popular-movie-dataframe</code></dd>\n",
       "            </dl>\n",
       "        </div>\n",
       "        \n",
       "            </div>\n",
       "        "
      ],
      "text/plain": [
       "<pyspark.sql.session.SparkSession at 0x1f18dc0f1f0>"
      ]
     },
     "execution_count": 21,
     "metadata": {},
     "output_type": "execute_result"
    }
   ],
   "source": [
    "spark = SparkSession.builder\\\n",
    "                    .master('local')\\\n",
    "                    .appName('popular-movie-dataframe')\\\n",
    "                    .getOrCreate()\n",
    "spark"
   ]
  },
  {
   "cell_type": "markdown",
   "id": "c32cec54",
   "metadata": {},
   "source": [
    "### `spark.sparkContext`로 RDD API 활용\n",
    "\n",
    "- `broadcast`\n",
    "  - 클러스터의 모든 노드에 공통 데이터를 효율적으로 공유할 수 있게 해주는 변수, 전체 영화 목록을 중복으로 전달받지 않고 공유된 참조만 사용  \n",
    "  - 한 번만 클러스터로 전송해서, 모든 워커가 그 값을 메모리에 캐시하고 공유하도록 함\n",
    "  - **broadcast** 객체를 반환하므로 내부 딕셔너리에 접근하려면 `.value`로 접근해야됨 "
   ]
  },
  {
   "cell_type": "code",
   "execution_count": 22,
   "id": "58406428",
   "metadata": {},
   "outputs": [
    {
     "data": {
      "text/plain": [
       "<pyspark.broadcast.Broadcast at 0x1f1affc8c10>"
      ]
     },
     "execution_count": 22,
     "metadata": {},
     "output_type": "execute_result"
    }
   ],
   "source": [
    "name_dict = spark.sparkContext.broadcast(load_movie_names())\n",
    "name_dict"
   ]
  },
  {
   "cell_type": "code",
   "execution_count": 23,
   "id": "1f163f23",
   "metadata": {},
   "outputs": [],
   "source": [
    "schema = StructType([\n",
    "  StructField('userID', IntegerType(), True),\n",
    "  StructField('movieID', IntegerType(), True),\n",
    "  StructField('rating', IntegerType(), True),\n",
    "  StructField('timestamp', LongType(), True)\n",
    "])"
   ]
  },
  {
   "cell_type": "code",
   "execution_count": 24,
   "id": "163b34c4",
   "metadata": {},
   "outputs": [
    {
     "name": "stdout",
     "output_type": "stream",
     "text": [
      "+------+-------+------+---------+\n",
      "|userID|movieID|rating|timestamp|\n",
      "+------+-------+------+---------+\n",
      "|   196|    242|     3|881250949|\n",
      "|   186|    302|     3|891717742|\n",
      "|    22|    377|     1|878887116|\n",
      "|   244|     51|     2|880606923|\n",
      "|   166|    346|     1|886397596|\n",
      "|   298|    474|     4|884182806|\n",
      "|   115|    265|     2|881171488|\n",
      "|   253|    465|     5|891628467|\n",
      "|   305|    451|     3|886324817|\n",
      "|     6|     86|     3|883603013|\n",
      "+------+-------+------+---------+\n",
      "only showing top 10 rows\n",
      "\n"
     ]
    }
   ],
   "source": [
    "df = spark.read.schema(schema = schema).option('sep', '\\t').csv(\"file:///nvidia_course/nvidia-course/week1/day5/AdvancedSpark/ml-100k/u.data\")\n",
    "df.show(10)"
   ]
  },
  {
   "cell_type": "markdown",
   "id": "d7340f82",
   "metadata": {},
   "source": [
    "### 영화 ID를 기준으로 빈도수 추출"
   ]
  },
  {
   "cell_type": "code",
   "execution_count": 25,
   "id": "13d12246",
   "metadata": {},
   "outputs": [
    {
     "name": "stdout",
     "output_type": "stream",
     "text": [
      "+-------+-----+\n",
      "|movieID|count|\n",
      "+-------+-----+\n",
      "|    496|  231|\n",
      "|    471|  221|\n",
      "|    463|   71|\n",
      "|    148|  128|\n",
      "|   1342|    2|\n",
      "|    833|   49|\n",
      "|   1088|   13|\n",
      "|   1591|    6|\n",
      "|   1238|    8|\n",
      "|   1580|    1|\n",
      "+-------+-----+\n",
      "only showing top 10 rows\n",
      "\n"
     ]
    }
   ],
   "source": [
    "movie_cnt = df.groupby('movieID').count()\n",
    "movie_cnt.show(10)"
   ]
  },
  {
   "cell_type": "markdown",
   "id": "a6eed19b",
   "metadata": {},
   "source": [
    "### 영화 이름 조회 사용자 정의 함수\n",
    "- Spark에서는 사용자 정의 함수를 **UDF(User Defined Function)** 로 등록해야함\n",
    "- Spark SQL에서 쓸 수 있도록 만든 것이므로, `.withColumn()`과 같은 연산 사용 가능"
   ]
  },
  {
   "cell_type": "code",
   "execution_count": 26,
   "id": "22a74930",
   "metadata": {},
   "outputs": [],
   "source": [
    "def look_up_name(movie_id):\n",
    "  return name_dict.value[movie_id] # broadcast 객체에서 내부 딕셔너리의 제목 조회"
   ]
  },
  {
   "cell_type": "markdown",
   "id": "39b9a9f1",
   "metadata": {},
   "source": [
    "### UDF를 사용해서 movieID가 포함된 새로운 DataFrame 생성"
   ]
  },
  {
   "cell_type": "code",
   "execution_count": 28,
   "id": "b90226fa",
   "metadata": {},
   "outputs": [],
   "source": [
    "look_up_name_udf = F.udf(look_up_name) # UDF로 등록\n",
    "\n",
    "movies_with_names = movie_cnt.withColumn('movieTitle', look_up_name_udf(F.col('movieID')))"
   ]
  },
  {
   "cell_type": "code",
   "execution_count": 29,
   "id": "a4d81047",
   "metadata": {},
   "outputs": [
    {
     "name": "stdout",
     "output_type": "stream",
     "text": [
      "+-------+-----+--------------------+\n",
      "|movieID|count|          movieTitle|\n",
      "+-------+-----+--------------------+\n",
      "|     50|  583|    Star Wars (1977)|\n",
      "|    258|  509|      Contact (1997)|\n",
      "|    100|  508|        Fargo (1996)|\n",
      "|    181|  507|Return of the Jed...|\n",
      "|    294|  485|    Liar Liar (1997)|\n",
      "|    286|  481|English Patient, ...|\n",
      "|    288|  478|       Scream (1996)|\n",
      "|      1|  452|    Toy Story (1995)|\n",
      "|    300|  431|Air Force One (1997)|\n",
      "|    121|  429|Independence Day ...|\n",
      "+-------+-----+--------------------+\n",
      "only showing top 10 rows\n",
      "\n"
     ]
    }
   ],
   "source": [
    "sorted_movie_with_names = movies_with_names.orderBy(F.desc(\"count\"))\n",
    "sorted_movie_with_names.show(10)"
   ]
  },
  {
   "cell_type": "code",
   "execution_count": 30,
   "id": "76e2f9e7",
   "metadata": {},
   "outputs": [],
   "source": [
    "spark.stop()"
   ]
  }
 ],
 "metadata": {
  "kernelspec": {
   "display_name": "torchenv",
   "language": "python",
   "name": "python3"
  },
  "language_info": {
   "codemirror_mode": {
    "name": "ipython",
    "version": 3
   },
   "file_extension": ".py",
   "mimetype": "text/x-python",
   "name": "python",
   "nbconvert_exporter": "python",
   "pygments_lexer": "ipython3",
   "version": "3.9.21"
  }
 },
 "nbformat": 4,
 "nbformat_minor": 5
}
