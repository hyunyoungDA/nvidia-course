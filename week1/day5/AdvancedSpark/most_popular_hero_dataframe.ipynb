{
 "cells": [
  {
   "cell_type": "markdown",
   "id": "cfc49bce",
   "metadata": {},
   "source": [
    "### Local에서의 PySpark 환경 설정"
   ]
  },
  {
   "cell_type": "code",
   "execution_count": 1,
   "id": "aba8aec8",
   "metadata": {},
   "outputs": [],
   "source": [
    "import os\n",
    "os.environ['PYSPARK_PYTHON'] = \"C:/Users/user/anaconda3/envs/torchenv/python.exe\"\n",
    "os.environ['PYSPARK_DRIVER_PYTHON'] = \"C:/Users/user/anaconda3/envs/torchenv/python.exe\""
   ]
  },
  {
   "cell_type": "markdown",
   "id": "d521f43d",
   "metadata": {},
   "source": [
    "### SparkSession 생성"
   ]
  },
  {
   "cell_type": "code",
   "execution_count": 41,
   "id": "f9271bc1",
   "metadata": {},
   "outputs": [
    {
     "data": {
      "text/html": [
       "\n",
       "            <div>\n",
       "                <p><b>SparkSession - in-memory</b></p>\n",
       "                \n",
       "        <div>\n",
       "            <p><b>SparkContext</b></p>\n",
       "\n",
       "            <p><a href=\"http://DESKTOP-BC2FU6J:4040\">Spark UI</a></p>\n",
       "\n",
       "            <dl>\n",
       "              <dt>Version</dt>\n",
       "                <dd><code>v3.5.5</code></dd>\n",
       "              <dt>Master</dt>\n",
       "                <dd><code>local[*]</code></dd>\n",
       "              <dt>AppName</dt>\n",
       "                <dd><code>mostpopularSuperhero</code></dd>\n",
       "            </dl>\n",
       "        </div>\n",
       "        \n",
       "            </div>\n",
       "        "
      ],
      "text/plain": [
       "<pyspark.sql.session.SparkSession at 0x22087856dc0>"
      ]
     },
     "execution_count": 41,
     "metadata": {},
     "output_type": "execute_result"
    }
   ],
   "source": [
    "from pyspark.sql import SparkSession\n",
    "from pyspark.sql import functions as F\n",
    "from pyspark.sql.types import StructField, StructType, IntegerType, StringType\n",
    "\n",
    "spark = SparkSession.builder\\\n",
    "                    .appName('mostpopularSuperhero')\\\n",
    "                    .getOrCreate() # 이미 존재하면 그 DataFrame 사용, 없다면 새롭게 생성 \n",
    "spark"
   ]
  },
  {
   "cell_type": "markdown",
   "id": "d56ac78c",
   "metadata": {},
   "source": [
    "### Schema 정의"
   ]
  },
  {
   "cell_type": "code",
   "execution_count": 42,
   "id": "8a89c6d3",
   "metadata": {},
   "outputs": [
    {
     "data": {
      "text/plain": [
       "StructType([StructField('id', IntegerType(), True), StructField('name', StringType(), True)])"
      ]
     },
     "execution_count": 42,
     "metadata": {},
     "output_type": "execute_result"
    }
   ],
   "source": [
    "schema = StructType([\n",
    "  # id 필드를 정의, 데이터 타입은 Integer\n",
    "  StructField('id', IntegerType(), True),\n",
    "  StructField('name', StringType(), True)\n",
    "])\n",
    "\n",
    "schema"
   ]
  },
  {
   "cell_type": "code",
   "execution_count": 43,
   "id": "ab195b0a",
   "metadata": {},
   "outputs": [
    {
     "name": "stdout",
     "output_type": "stream",
     "text": [
      "+---+--------------------+\n",
      "| id|                name|\n",
      "+---+--------------------+\n",
      "|  1|24-HOUR MAN/EMMANUEL|\n",
      "|  2|3-D MAN/CHARLES CHAN|\n",
      "|  3|    4-D MAN/MERCURIO|\n",
      "|  4|             8-BALL/|\n",
      "|  5|                   A|\n",
      "|  6|               A'YIN|\n",
      "|  7|        ABBOTT, JACK|\n",
      "|  8|             ABCISSA|\n",
      "|  9|                ABEL|\n",
      "| 10|ABOMINATION/EMIL BLO|\n",
      "+---+--------------------+\n",
      "only showing top 10 rows\n",
      "\n"
     ]
    }
   ],
   "source": [
    "names = spark.read.schema(schema).option('sep',' ').csv('file:///nvidia_course/nvidia-course/week1/day5/AdvancedSpark/Marvel+Names')\n",
    "names.show(10)"
   ]
  },
  {
   "cell_type": "code",
   "execution_count": 44,
   "id": "11805468",
   "metadata": {},
   "outputs": [
    {
     "name": "stdout",
     "output_type": "stream",
     "text": [
      "+--------------------+\n",
      "|               value|\n",
      "+--------------------+\n",
      "|5988 748 1722 375...|\n",
      "|5989 4080 4264 44...|\n",
      "|5982 217 595 1194...|\n",
      "|5983 1165 3836 43...|\n",
      "|5980 2731 3712 15...|\n",
      "|5981 3569 5353 40...|\n",
      "|5986 2658 3712 26...|\n",
      "|5987 2614 5716 17...|\n",
      "|5984 590 4898 745...|\n",
      "|5985 3233 2254 21...|\n",
      "+--------------------+\n",
      "only showing top 10 rows\n",
      "\n"
     ]
    },
    {
     "data": {
      "text/plain": [
       "(None, pyspark.sql.dataframe.DataFrame)"
      ]
     },
     "execution_count": 44,
     "metadata": {},
     "output_type": "execute_result"
    }
   ],
   "source": [
    "lines = spark.read.text(\"file:///nvidia_course/nvidia-course/week1/day5/AdvancedSpark/Marvel+Graph\")\n",
    "lines.show(10), type(lines)"
   ]
  },
  {
   "cell_type": "code",
   "execution_count": 45,
   "id": "746c68b6",
   "metadata": {},
   "outputs": [
    {
     "name": "stdout",
     "output_type": "stream",
     "text": [
      "+----+-----------+\n",
      "|  id|connections|\n",
      "+----+-----------+\n",
      "| 691|          7|\n",
      "|1159|         12|\n",
      "|3959|        143|\n",
      "|1572|         36|\n",
      "|2294|         15|\n",
      "|1090|          5|\n",
      "|3606|        172|\n",
      "|3414|          8|\n",
      "| 296|         18|\n",
      "|4821|         17|\n",
      "+----+-----------+\n",
      "only showing top 10 rows\n",
      "\n"
     ]
    }
   ],
   "source": [
    "# lines의 value 값을 공백으로 분리한 후에 첫 번째 인덱스 값을 id로 새롭게 컬럼을 생성 \n",
    "# id의 값에 size - 1(자기 자신을 제외)을 계산해서 connections 컬럼 생성 \n",
    "# 결국 한 id에 대해 해당 리스트에 존재하는 다른 id와는 모두 connection 되어 있는 상태 \n",
    "connections = lines.withColumn('id', F.split(F.col('value'),\" \")[0])\\\n",
    "                   .withColumn('connections', F.size(F.split(F.col('value'),\" \")) - 1)\\\n",
    "                   .groupby('id').agg(F.sum('connections').alias('connections'))\n",
    "                   \n",
    "connections.show(10)"
   ]
  },
  {
   "cell_type": "markdown",
   "id": "e5beef29",
   "metadata": {},
   "source": [
    "### connections이 가장 많은 노드의 id"
   ]
  },
  {
   "cell_type": "code",
   "execution_count": 46,
   "id": "9533d8e4",
   "metadata": {},
   "outputs": [
    {
     "data": {
      "text/plain": [
       "Row(id='859', connections=1937)"
      ]
     },
     "execution_count": 46,
     "metadata": {},
     "output_type": "execute_result"
    }
   ],
   "source": [
    "most_popular = connections.sort(F.desc(F.col('connections'))).first()\n",
    "most_popular"
   ]
  },
  {
   "cell_type": "markdown",
   "id": "b36e53b7",
   "metadata": {},
   "source": [
    "### connections이 가장 많은 노드의 이름"
   ]
  },
  {
   "cell_type": "code",
   "execution_count": 47,
   "id": "47eb31f7",
   "metadata": {},
   "outputs": [
    {
     "data": {
      "text/plain": [
       "'859'"
      ]
     },
     "execution_count": 47,
     "metadata": {},
     "output_type": "execute_result"
    }
   ],
   "source": [
    "most_popular[0] # 슬라이싱으로 접근 가능"
   ]
  },
  {
   "cell_type": "code",
   "execution_count": 48,
   "id": "c76cadd3",
   "metadata": {},
   "outputs": [
    {
     "data": {
      "text/plain": [
       "'CAPTAIN AMERICA'"
      ]
     },
     "execution_count": 48,
     "metadata": {},
     "output_type": "execute_result"
    }
   ],
   "source": [
    "most_popular_name = names.filter(F.col('id') == most_popular[0]).select('name').first()\n",
    "most_popular_name[0]"
   ]
  },
  {
   "cell_type": "code",
   "execution_count": 49,
   "id": "fe711a40",
   "metadata": {},
   "outputs": [
    {
     "name": "stdout",
     "output_type": "stream",
     "text": [
      "CAPTAIN AMERICA is the most popular superhero with 1937\n"
     ]
    }
   ],
   "source": [
    "print(f\"{most_popular_name[0]} is the most popular superhero with {str(most_popular[1])}\")\n"
   ]
  },
  {
   "cell_type": "markdown",
   "id": "bcedf49f",
   "metadata": {},
   "source": [
    "### connections이 가장 적은 노드의 id, 이름"
   ]
  },
  {
   "cell_type": "code",
   "execution_count": 50,
   "id": "d2c26ff0",
   "metadata": {},
   "outputs": [
    {
     "data": {
      "text/plain": [
       "Row(id='467', connections=1)"
      ]
     },
     "execution_count": 50,
     "metadata": {},
     "output_type": "execute_result"
    }
   ],
   "source": [
    "worst_popular = connections.sort(F.asc(F.col('connections'))).first()\n",
    "worst_popular"
   ]
  },
  {
   "cell_type": "code",
   "execution_count": 51,
   "id": "cd7897c3",
   "metadata": {},
   "outputs": [
    {
     "data": {
      "text/plain": [
       "'BERSERKER II'"
      ]
     },
     "execution_count": 51,
     "metadata": {},
     "output_type": "execute_result"
    }
   ],
   "source": [
    "worst_popular_name = names.filter(F.col('id') == worst_popular[0]).select('name').first()\n",
    "worst_popular_name[0]"
   ]
  },
  {
   "cell_type": "markdown",
   "id": "bb8abe8a",
   "metadata": {},
   "source": [
    "### connections dataframe에 name 컬럼을 추가한 후 `orderby()`로 정렬하려 추출"
   ]
  },
  {
   "cell_type": "code",
   "execution_count": 52,
   "id": "894839ba",
   "metadata": {},
   "outputs": [
    {
     "data": {
      "text/plain": [
       "DataFrame[id: string, connections: bigint, name: string]"
      ]
     },
     "execution_count": 52,
     "metadata": {},
     "output_type": "execute_result"
    }
   ],
   "source": [
    "name_with_connections = connections.join(names, on = 'id')\n",
    "name_with_connections"
   ]
  },
  {
   "cell_type": "code",
   "execution_count": 53,
   "id": "72827dba",
   "metadata": {},
   "outputs": [
    {
     "name": "stdout",
     "output_type": "stream",
     "text": [
      "BERSERKER II is the most popular superhero with 1\n"
     ]
    }
   ],
   "source": [
    "worst_popular_row = name_with_connections.orderBy(func.asc('connections')).first()\n",
    "print(f\"{worst_popular_row['name']} is the most popular superhero with {worst_popular_row['connections']}\")\n"
   ]
  },
  {
   "cell_type": "code",
   "execution_count": null,
   "id": "c83fdc1a",
   "metadata": {},
   "outputs": [],
   "source": [
    "# Spark 세션은 항상 작업 종료 후에 종료\n",
    "spark.stop()"
   ]
  },
  {
   "cell_type": "code",
   "execution_count": null,
   "id": "990b986e",
   "metadata": {},
   "outputs": [],
   "source": []
  }
 ],
 "metadata": {
  "kernelspec": {
   "display_name": "torchenv",
   "language": "python",
   "name": "python3"
  },
  "language_info": {
   "codemirror_mode": {
    "name": "ipython",
    "version": 3
   },
   "file_extension": ".py",
   "mimetype": "text/x-python",
   "name": "python",
   "nbconvert_exporter": "python",
   "pygments_lexer": "ipython3",
   "version": "3.9.21"
  }
 },
 "nbformat": 4,
 "nbformat_minor": 5
}
